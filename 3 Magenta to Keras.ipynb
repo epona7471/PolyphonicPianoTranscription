{
  "nbformat": 4,
  "nbformat_minor": 0,
  "metadata": {
    "kernelspec": {
      "display_name": "Python 3",
      "language": "python",
      "name": "python3"
    },
    "language_info": {
      "codemirror_mode": {
        "name": "ipython",
        "version": 3
      },
      "file_extension": ".py",
      "mimetype": "text/x-python",
      "name": "python",
      "nbconvert_exporter": "python",
      "pygments_lexer": "ipython3",
      "version": "3.8.8"
    },
    "colab": {
      "name": "3 Magenta to Keras.ipynb",
      "provenance": []
    }
  },
  "cells": [
    {
      "cell_type": "code",
      "metadata": {
        "id": "svY2dNJAj9HP"
      },
      "source": [
        "!pip install note_seq\n",
        "!pip install magenta"
      ],
      "execution_count": null,
      "outputs": []
    },
    {
      "cell_type": "code",
      "metadata": {
        "scrolled": false,
        "id": "YE_bK9vpjTKm"
      },
      "source": [
        "from matplotlib import pyplot as plt\n",
        "%config InlineBackend.figure_format = 'retina'\n",
        "\n",
        "from glob import glob\n",
        "\n",
        "import numpy as np\n",
        "\n",
        "from tensorflow                                  import __version__\n",
        "from tensorflow.test                             import is_built_with_cuda, is_gpu_available, gpu_device_name\n",
        "from tensorflow.python.client                    import device_lib\n",
        "\n",
        "print('\\nTensorflow version = {},\\nbuilt with CUDA\\t= {},\\nGPU available\\t= {},\\nGPU device name = {}\\n\\nAll devices: {}'\n",
        "      .format(__version__, is_built_with_cuda(), is_gpu_available(), gpu_device_name(), device_lib.list_local_devices()))\n",
        "\n",
        "from tensorflow.compat.v1                        import Session\n",
        "from tensorflow.python.training.checkpoint_utils import list_variables, load_variable\n",
        "\n",
        "from keras                 import backend as K\n",
        "from keras.layers          import Activation, BatchNormalization, Bidirectional, concatenate, \\\n",
        "                                  Conv2D, Dense, Input, LSTM, MaxPool2D, Reshape\n",
        "from keras.models          import load_model, Model\n",
        "\n",
        "from librosa               import midi_to_hz\n",
        "from sklearn.metrics       import auc, roc_curve\n",
        "from sklearn.preprocessing import binarize\n",
        "\n",
        "from note_seq.sequences_lib                             import pianoroll_to_note_sequence\n",
        "from magenta.models.onsets_frames_transcription.metrics import sequence_to_valued_intervals\n",
        "from mir_eval.transcription                             import precision_recall_f1_overlap as Overlap\n",
        "from mir_eval.transcription_velocity                    import precision_recall_f1_overlap as OverlapVolumes"
      ],
      "execution_count": null,
      "outputs": []
    },
    {
      "cell_type": "code",
      "metadata": {
        "id": "OkTZRkgQLmNP",
        "outputId": "973f0dc4-1e15-4a04-a574-0031037bf250",
        "colab": {
          "base_uri": "https://localhost:8080/"
        }
      },
      "source": [
        "from google.colab import drive\n",
        "drive.mount('/content/drive')"
      ],
      "execution_count": 8,
      "outputs": [
        {
          "output_type": "stream",
          "text": [
            "Mounted at /content/drive\n"
          ],
          "name": "stdout"
        }
      ]
    },
    {
      "cell_type": "code",
      "metadata": {
        "id": "YYT8MwfIjTKy",
        "outputId": "022d262e-dd49-4673-e00d-ec0ac27282db",
        "colab": {
          "base_uri": "https://localhost:8080/"
        }
      },
      "source": [
        "dataFolder, melsMinMin, melsMinMax, melsMeanMin, melsMeanMax, melsMaxMin, melsMaxMax \\\n",
        "    = '/content/drive/MyDrive/Maestro/maestro-v1.0.0', -87, -86, -31, -30, 40, 41\n",
        "\n",
        "melsVal = np.load(dataFolder + '/Mels validation.npy')\n",
        "print(len(melsVal), 'validation samples,', end='\\t')\n",
        "melsValMin, melsValMean, melsValMax = melsVal.min(), melsVal.mean(), melsVal.max()\n",
        "# assert melsMinMin < melsValMin < melsMinMax and melsMeanMin < melsValMean < melsMeanMax \\\n",
        "#     and melsMaxMin < melsValMax < melsMaxMax, 'Wrong mels decibels range'\n",
        "print('Mels decibels in range [{:.0f} ... {:.0f} ... {:.0f}]'.format(melsValMin, melsValMean, melsValMax))\n",
        "\n",
        "onVal, offVal, actVal, volsVal = map(np.load, ['{}/{} validation.npy'.format(\n",
        "    dataFolder, name) for name in ['Onsets', 'Offsets', 'Actives', 'Volumes']])\n",
        "volsValMin, volsValMean, volsValMax = volsVal.min(), volsVal.mean(), volsVal.max()\n",
        "assert volsValMin == 0 and 0 < volsValMax <= 1, 'Wrong normalized MIDI volumes range'\n",
        "print('Midi normalized volumes in range [{} ... {:.4f} ... {:.2f}]'.format(volsValMin, volsValMean, volsValMax))"
      ],
      "execution_count": 10,
      "outputs": [
        {
          "output_type": "stream",
          "text": [
            "625 validation samples,\tMels decibels in range [-77 ... -30 ... 37]\n",
            "Midi normalized volumes in range [0.0 ... 0.0037 ... 0.96]\n"
          ],
          "name": "stdout"
        }
      ]
    },
    {
      "cell_type": "markdown",
      "metadata": {
        "id": "b4M1C9TYjTK2"
      },
      "source": [
        "Instead of training my own model, I just copy the weights from the Google's pre-trained tensorflow checkpoint:\n",
        "https://storage.googleapis.com/magentadata/models/onsets_frames_transcription/maestro_checkpoint.zip\n",
        "(or look for the link here: https://github.com/tensorflow/magenta/tree/master/magenta/models/onsets_frames_transcription)"
      ]
    },
    {
      "cell_type": "code",
      "metadata": {
        "scrolled": false,
        "id": "83L6virpjTK4"
      },
      "source": [
        "cptDir, lstmWidth, inputs = '/content/drive/MyDrive/Maestro/maestro-v1.0.0/checkpoint/model.ckpt', 256, Input(shape=(melsVal.shape[1], melsVal.shape[2]))\n",
        "\n",
        "ConvBnRelu = lambda n: lambda x: Activation('relu')(BatchNormalization(scale=False)(\n",
        "    Conv2D(n, 3, padding='same', use_bias=False)(x)))\n",
        "outputs = MaxPool2D((1, 2))(ConvBnRelu(96)(MaxPool2D((1, 2))(ConvBnRelu(48)(\n",
        "    ConvBnRelu(48)(Reshape((melsVal.shape[1], melsVal.shape[2], 1))(inputs))))))\n",
        "\n",
        "model = Model(inputs, Dense(88, activation='sigmoid')(Bidirectional(LSTM(lstmWidth,\n",
        "    # https://github.com/tensorflow/tensorflow/blob/master/tensorflow/python/ops/rnn_cell_impl.py#L782\n",
        "    # Sigmoid activation for hidden units, also unroll must be True, otherwise weights will be different\n",
        "    # Cannot use stateful mode because backward LSTM would require reversed batch:\n",
        "    recurrent_activation='sigmoid', implementation=2, return_sequences=True, unroll=True))(Dense(768, activation='relu')(\n",
        "    Reshape((K.int_shape(outputs)[1], K.int_shape(outputs)[2] * K.int_shape(outputs)[3]))(outputs)))))\n",
        "\n",
        "# for i in [2, 3, 5, 6, 9, 10, 14, 15, 16]:\n",
        "# #    print(*model.layers[i].weights, sep='\\n', end='\\n\\n')\n",
        "#     print()\n",
        "#     for weights in model.layers[i].weights:\n",
        "#         print(weights.name, weights.shape, sep='\\t', end='\\n')\n",
        "# print()\n",
        "# with Session() as sess: print(*['{}\\t{}'.format(name, shape) for name, shape in list_variables(cptDir)], sep='\\n')\n",
        "# model.summary()"
      ],
      "execution_count": 41,
      "outputs": []
    },
    {
      "cell_type": "code",
      "metadata": {
        "id": "Qj0NXOFLsm5A",
        "outputId": "b9d68d8e-0c95-42ce-b837-9d1523c7f9ab",
        "colab": {
          "base_uri": "https://localhost:8080/"
        }
      },
      "source": [
        "for i in [2, 3, 5, 6, 9, 10, 14, 15, 16]:\n",
        "#    print(*model.layers[i].weights, sep='\\n', end='\\n\\n')\n",
        "    print()\n",
        "    for weights in model.layers[i].weights:\n",
        "        print(weights.name, weights.shape, sep='\\t', end='\\n')\n",
        "print()\n",
        "with Session() as sess: print(*['{}\\t{}'.format(name, shape) for name, shape in list_variables(cptDir)], sep='\\n')\n",
        "model.summary()"
      ],
      "execution_count": 42,
      "outputs": [
        {
          "output_type": "stream",
          "text": [
            "\n",
            "conv2d_33/kernel:0\t(3, 3, 1, 48)\n",
            "\n",
            "batch_normalization_33/beta:0\t(48,)\n",
            "batch_normalization_33/moving_mean:0\t(48,)\n",
            "batch_normalization_33/moving_variance:0\t(48,)\n",
            "\n",
            "conv2d_34/kernel:0\t(3, 3, 48, 48)\n",
            "\n",
            "batch_normalization_34/beta:0\t(48,)\n",
            "batch_normalization_34/moving_mean:0\t(48,)\n",
            "batch_normalization_34/moving_variance:0\t(48,)\n",
            "\n",
            "conv2d_35/kernel:0\t(3, 3, 48, 96)\n",
            "\n",
            "batch_normalization_35/beta:0\t(96,)\n",
            "batch_normalization_35/moving_mean:0\t(96,)\n",
            "batch_normalization_35/moving_variance:0\t(96,)\n",
            "\n",
            "dense_21/kernel:0\t(5472, 768)\n",
            "dense_21/bias:0\t(768,)\n",
            "\n",
            "bidirectional_10/forward_lstm_10/lstm_cell_31/kernel:0\t(768, 1024)\n",
            "bidirectional_10/forward_lstm_10/lstm_cell_31/recurrent_kernel:0\t(256, 1024)\n",
            "bidirectional_10/forward_lstm_10/lstm_cell_31/bias:0\t(1024,)\n",
            "bidirectional_10/backward_lstm_10/lstm_cell_32/kernel:0\t(768, 1024)\n",
            "bidirectional_10/backward_lstm_10/lstm_cell_32/recurrent_kernel:0\t(256, 1024)\n",
            "bidirectional_10/backward_lstm_10/lstm_cell_32/bias:0\t(1024,)\n",
            "\n",
            "dense_20/kernel:0\t(512, 88)\n",
            "dense_20/bias:0\t(88,)\n",
            "\n",
            "beta1_power\t[]\n",
            "beta2_power\t[]\n",
            "frame/activation_probs/biases\t[88]\n",
            "frame/activation_probs/biases/Adam\t[88]\n",
            "frame/activation_probs/biases/Adam_1\t[88]\n",
            "frame/activation_probs/weights\t[768, 88]\n",
            "frame/activation_probs/weights/Adam\t[768, 88]\n",
            "frame/activation_probs/weights/Adam_1\t[768, 88]\n",
            "frame/conv0/BatchNorm/beta\t[48]\n",
            "frame/conv0/BatchNorm/beta/Adam\t[48]\n",
            "frame/conv0/BatchNorm/beta/Adam_1\t[48]\n",
            "frame/conv0/BatchNorm/moving_mean\t[48]\n",
            "frame/conv0/BatchNorm/moving_variance\t[48]\n",
            "frame/conv0/weights\t[3, 3, 1, 48]\n",
            "frame/conv0/weights/Adam\t[3, 3, 1, 48]\n",
            "frame/conv0/weights/Adam_1\t[3, 3, 1, 48]\n",
            "frame/conv1/BatchNorm/beta\t[48]\n",
            "frame/conv1/BatchNorm/beta/Adam\t[48]\n",
            "frame/conv1/BatchNorm/beta/Adam_1\t[48]\n",
            "frame/conv1/BatchNorm/moving_mean\t[48]\n",
            "frame/conv1/BatchNorm/moving_variance\t[48]\n",
            "frame/conv1/weights\t[3, 3, 48, 48]\n",
            "frame/conv1/weights/Adam\t[3, 3, 48, 48]\n",
            "frame/conv1/weights/Adam_1\t[3, 3, 48, 48]\n",
            "frame/conv2/BatchNorm/beta\t[96]\n",
            "frame/conv2/BatchNorm/beta/Adam\t[96]\n",
            "frame/conv2/BatchNorm/beta/Adam_1\t[96]\n",
            "frame/conv2/BatchNorm/moving_mean\t[96]\n",
            "frame/conv2/BatchNorm/moving_variance\t[96]\n",
            "frame/conv2/weights\t[3, 3, 48, 96]\n",
            "frame/conv2/weights/Adam\t[3, 3, 48, 96]\n",
            "frame/conv2/weights/Adam_1\t[3, 3, 48, 96]\n",
            "frame/cudnn_lstm/opaque_kernel\t[1069056]\n",
            "frame/cudnn_lstm/opaque_kernel/Adam\t[1069056]\n",
            "frame/cudnn_lstm/opaque_kernel/Adam_1\t[1069056]\n",
            "frame/cudnn_lstm/stack_bidirectional_rnn/cell_0/bidirectional_rnn/bw/cudnn_compatible_lstm_cell/bias\t[1024]\n",
            "frame/cudnn_lstm/stack_bidirectional_rnn/cell_0/bidirectional_rnn/bw/cudnn_compatible_lstm_cell/kernel\t[520, 1024]\n",
            "frame/cudnn_lstm/stack_bidirectional_rnn/cell_0/bidirectional_rnn/fw/cudnn_compatible_lstm_cell/bias\t[1024]\n",
            "frame/cudnn_lstm/stack_bidirectional_rnn/cell_0/bidirectional_rnn/fw/cudnn_compatible_lstm_cell/kernel\t[520, 1024]\n",
            "frame/fc_end/biases\t[768]\n",
            "frame/fc_end/biases/Adam\t[768]\n",
            "frame/fc_end/biases/Adam_1\t[768]\n",
            "frame/fc_end/weights\t[5472, 768]\n",
            "frame/fc_end/weights/Adam\t[5472, 768]\n",
            "frame/fc_end/weights/Adam_1\t[5472, 768]\n",
            "frame/frame_probs/biases\t[88]\n",
            "frame/frame_probs/biases/Adam\t[88]\n",
            "frame/frame_probs/biases/Adam_1\t[88]\n",
            "frame/frame_probs/weights\t[512, 88]\n",
            "frame/frame_probs/weights/Adam\t[512, 88]\n",
            "frame/frame_probs/weights/Adam_1\t[512, 88]\n",
            "global_step\t[]\n",
            "offsets/conv0/BatchNorm/beta\t[48]\n",
            "offsets/conv0/BatchNorm/beta/Adam\t[48]\n",
            "offsets/conv0/BatchNorm/beta/Adam_1\t[48]\n",
            "offsets/conv0/BatchNorm/moving_mean\t[48]\n",
            "offsets/conv0/BatchNorm/moving_variance\t[48]\n",
            "offsets/conv0/weights\t[3, 3, 1, 48]\n",
            "offsets/conv0/weights/Adam\t[3, 3, 1, 48]\n",
            "offsets/conv0/weights/Adam_1\t[3, 3, 1, 48]\n",
            "offsets/conv1/BatchNorm/beta\t[48]\n",
            "offsets/conv1/BatchNorm/beta/Adam\t[48]\n",
            "offsets/conv1/BatchNorm/beta/Adam_1\t[48]\n",
            "offsets/conv1/BatchNorm/moving_mean\t[48]\n",
            "offsets/conv1/BatchNorm/moving_variance\t[48]\n",
            "offsets/conv1/weights\t[3, 3, 48, 48]\n",
            "offsets/conv1/weights/Adam\t[3, 3, 48, 48]\n",
            "offsets/conv1/weights/Adam_1\t[3, 3, 48, 48]\n",
            "offsets/conv2/BatchNorm/beta\t[96]\n",
            "offsets/conv2/BatchNorm/beta/Adam\t[96]\n",
            "offsets/conv2/BatchNorm/beta/Adam_1\t[96]\n",
            "offsets/conv2/BatchNorm/moving_mean\t[96]\n",
            "offsets/conv2/BatchNorm/moving_variance\t[96]\n",
            "offsets/conv2/weights\t[3, 3, 48, 96]\n",
            "offsets/conv2/weights/Adam\t[3, 3, 48, 96]\n",
            "offsets/conv2/weights/Adam_1\t[3, 3, 48, 96]\n",
            "offsets/cudnn_lstm/opaque_kernel\t[2101248]\n",
            "offsets/cudnn_lstm/opaque_kernel/Adam\t[2101248]\n",
            "offsets/cudnn_lstm/opaque_kernel/Adam_1\t[2101248]\n",
            "offsets/cudnn_lstm/stack_bidirectional_rnn/cell_0/bidirectional_rnn/bw/cudnn_compatible_lstm_cell/bias\t[1024]\n",
            "offsets/cudnn_lstm/stack_bidirectional_rnn/cell_0/bidirectional_rnn/bw/cudnn_compatible_lstm_cell/kernel\t[1024, 1024]\n",
            "offsets/cudnn_lstm/stack_bidirectional_rnn/cell_0/bidirectional_rnn/fw/cudnn_compatible_lstm_cell/bias\t[1024]\n",
            "offsets/cudnn_lstm/stack_bidirectional_rnn/cell_0/bidirectional_rnn/fw/cudnn_compatible_lstm_cell/kernel\t[1024, 1024]\n",
            "offsets/fc_end/biases\t[768]\n",
            "offsets/fc_end/biases/Adam\t[768]\n",
            "offsets/fc_end/biases/Adam_1\t[768]\n",
            "offsets/fc_end/weights\t[5472, 768]\n",
            "offsets/fc_end/weights/Adam\t[5472, 768]\n",
            "offsets/fc_end/weights/Adam_1\t[5472, 768]\n",
            "offsets/offset_probs/biases\t[88]\n",
            "offsets/offset_probs/biases/Adam\t[88]\n",
            "offsets/offset_probs/biases/Adam_1\t[88]\n",
            "offsets/offset_probs/weights\t[512, 88]\n",
            "offsets/offset_probs/weights/Adam\t[512, 88]\n",
            "offsets/offset_probs/weights/Adam_1\t[512, 88]\n",
            "onsets/conv0/BatchNorm/beta\t[48]\n",
            "onsets/conv0/BatchNorm/beta/Adam\t[48]\n",
            "onsets/conv0/BatchNorm/beta/Adam_1\t[48]\n",
            "onsets/conv0/BatchNorm/moving_mean\t[48]\n",
            "onsets/conv0/BatchNorm/moving_variance\t[48]\n",
            "onsets/conv0/weights\t[3, 3, 1, 48]\n",
            "onsets/conv0/weights/Adam\t[3, 3, 1, 48]\n",
            "onsets/conv0/weights/Adam_1\t[3, 3, 1, 48]\n",
            "onsets/conv1/BatchNorm/beta\t[48]\n",
            "onsets/conv1/BatchNorm/beta/Adam\t[48]\n",
            "onsets/conv1/BatchNorm/beta/Adam_1\t[48]\n",
            "onsets/conv1/BatchNorm/moving_mean\t[48]\n",
            "onsets/conv1/BatchNorm/moving_variance\t[48]\n",
            "onsets/conv1/weights\t[3, 3, 48, 48]\n",
            "onsets/conv1/weights/Adam\t[3, 3, 48, 48]\n",
            "onsets/conv1/weights/Adam_1\t[3, 3, 48, 48]\n",
            "onsets/conv2/BatchNorm/beta\t[96]\n",
            "onsets/conv2/BatchNorm/beta/Adam\t[96]\n",
            "onsets/conv2/BatchNorm/beta/Adam_1\t[96]\n",
            "onsets/conv2/BatchNorm/moving_mean\t[96]\n",
            "onsets/conv2/BatchNorm/moving_variance\t[96]\n",
            "onsets/conv2/weights\t[3, 3, 48, 96]\n",
            "onsets/conv2/weights/Adam\t[3, 3, 48, 96]\n",
            "onsets/conv2/weights/Adam_1\t[3, 3, 48, 96]\n",
            "onsets/cudnn_lstm/opaque_kernel\t[2101248]\n",
            "onsets/cudnn_lstm/opaque_kernel/Adam\t[2101248]\n",
            "onsets/cudnn_lstm/opaque_kernel/Adam_1\t[2101248]\n",
            "onsets/cudnn_lstm/stack_bidirectional_rnn/cell_0/bidirectional_rnn/bw/cudnn_compatible_lstm_cell/bias\t[1024]\n",
            "onsets/cudnn_lstm/stack_bidirectional_rnn/cell_0/bidirectional_rnn/bw/cudnn_compatible_lstm_cell/kernel\t[1024, 1024]\n",
            "onsets/cudnn_lstm/stack_bidirectional_rnn/cell_0/bidirectional_rnn/fw/cudnn_compatible_lstm_cell/bias\t[1024]\n",
            "onsets/cudnn_lstm/stack_bidirectional_rnn/cell_0/bidirectional_rnn/fw/cudnn_compatible_lstm_cell/kernel\t[1024, 1024]\n",
            "onsets/fc_end/biases\t[768]\n",
            "onsets/fc_end/biases/Adam\t[768]\n",
            "onsets/fc_end/biases/Adam_1\t[768]\n",
            "onsets/fc_end/weights\t[5472, 768]\n",
            "onsets/fc_end/weights/Adam\t[5472, 768]\n",
            "onsets/fc_end/weights/Adam_1\t[5472, 768]\n",
            "onsets/onset_probs/biases\t[88]\n",
            "onsets/onset_probs/biases/Adam\t[88]\n",
            "onsets/onset_probs/biases/Adam_1\t[88]\n",
            "onsets/onset_probs/weights\t[512, 88]\n",
            "onsets/onset_probs/weights/Adam\t[512, 88]\n",
            "onsets/onset_probs/weights/Adam_1\t[512, 88]\n",
            "velocity/conv0/BatchNorm/beta\t[48]\n",
            "velocity/conv0/BatchNorm/beta/Adam\t[48]\n",
            "velocity/conv0/BatchNorm/beta/Adam_1\t[48]\n",
            "velocity/conv0/BatchNorm/moving_mean\t[48]\n",
            "velocity/conv0/BatchNorm/moving_variance\t[48]\n",
            "velocity/conv0/weights\t[3, 3, 1, 48]\n",
            "velocity/conv0/weights/Adam\t[3, 3, 1, 48]\n",
            "velocity/conv0/weights/Adam_1\t[3, 3, 1, 48]\n",
            "velocity/conv1/BatchNorm/beta\t[48]\n",
            "velocity/conv1/BatchNorm/beta/Adam\t[48]\n",
            "velocity/conv1/BatchNorm/beta/Adam_1\t[48]\n",
            "velocity/conv1/BatchNorm/moving_mean\t[48]\n",
            "velocity/conv1/BatchNorm/moving_variance\t[48]\n",
            "velocity/conv1/weights\t[3, 3, 48, 48]\n",
            "velocity/conv1/weights/Adam\t[3, 3, 48, 48]\n",
            "velocity/conv1/weights/Adam_1\t[3, 3, 48, 48]\n",
            "velocity/conv2/BatchNorm/beta\t[96]\n",
            "velocity/conv2/BatchNorm/beta/Adam\t[96]\n",
            "velocity/conv2/BatchNorm/beta/Adam_1\t[96]\n",
            "velocity/conv2/BatchNorm/moving_mean\t[96]\n",
            "velocity/conv2/BatchNorm/moving_variance\t[96]\n",
            "velocity/conv2/weights\t[3, 3, 48, 96]\n",
            "velocity/conv2/weights/Adam\t[3, 3, 48, 96]\n",
            "velocity/conv2/weights/Adam_1\t[3, 3, 48, 96]\n",
            "velocity/fc_end/biases\t[768]\n",
            "velocity/fc_end/biases/Adam\t[768]\n",
            "velocity/fc_end/biases/Adam_1\t[768]\n",
            "velocity/fc_end/weights\t[5472, 768]\n",
            "velocity/fc_end/weights/Adam\t[5472, 768]\n",
            "velocity/fc_end/weights/Adam_1\t[5472, 768]\n",
            "velocity/onset_velocities/biases\t[88]\n",
            "velocity/onset_velocities/biases/Adam\t[88]\n",
            "velocity/onset_velocities/biases/Adam_1\t[88]\n",
            "velocity/onset_velocities/weights\t[768, 88]\n",
            "velocity/onset_velocities/weights/Adam\t[768, 88]\n",
            "velocity/onset_velocities/weights/Adam_1\t[768, 88]\n",
            "Model: \"model_10\"\n",
            "_________________________________________________________________\n",
            "Layer (type)                 Output Shape              Param #   \n",
            "=================================================================\n",
            "input_12 (InputLayer)        [(None, 626, 229)]        0         \n",
            "_________________________________________________________________\n",
            "reshape_21 (Reshape)         (None, 626, 229, 1)       0         \n",
            "_________________________________________________________________\n",
            "conv2d_33 (Conv2D)           (None, 626, 229, 48)      432       \n",
            "_________________________________________________________________\n",
            "batch_normalization_33 (Batc (None, 626, 229, 48)      144       \n",
            "_________________________________________________________________\n",
            "activation_33 (Activation)   (None, 626, 229, 48)      0         \n",
            "_________________________________________________________________\n",
            "conv2d_34 (Conv2D)           (None, 626, 229, 48)      20736     \n",
            "_________________________________________________________________\n",
            "batch_normalization_34 (Batc (None, 626, 229, 48)      144       \n",
            "_________________________________________________________________\n",
            "activation_34 (Activation)   (None, 626, 229, 48)      0         \n",
            "_________________________________________________________________\n",
            "max_pooling2d_23 (MaxPooling (None, 626, 114, 48)      0         \n",
            "_________________________________________________________________\n",
            "conv2d_35 (Conv2D)           (None, 626, 114, 96)      41472     \n",
            "_________________________________________________________________\n",
            "batch_normalization_35 (Batc (None, 626, 114, 96)      288       \n",
            "_________________________________________________________________\n",
            "activation_35 (Activation)   (None, 626, 114, 96)      0         \n",
            "_________________________________________________________________\n",
            "max_pooling2d_22 (MaxPooling (None, 626, 57, 96)       0         \n",
            "_________________________________________________________________\n",
            "reshape_22 (Reshape)         (None, 626, 5472)         0         \n",
            "_________________________________________________________________\n",
            "dense_21 (Dense)             (None, 626, 768)          4203264   \n",
            "_________________________________________________________________\n",
            "bidirectional_10 (Bidirectio (None, 626, 512)          2099200   \n",
            "_________________________________________________________________\n",
            "dense_20 (Dense)             (None, 626, 88)           45144     \n",
            "=================================================================\n",
            "Total params: 6,410,824\n",
            "Trainable params: 6,410,440\n",
            "Non-trainable params: 384\n",
            "_________________________________________________________________\n"
          ],
          "name": "stdout"
        }
      ]
    },
    {
      "cell_type": "code",
      "metadata": {
        "scrolled": false,
        "id": "xJGjUtf6jTK6"
      },
      "source": [
        "def MagentaToKeras(modelName, xVal, yVal):\n",
        "    numLayers, varName, varProbName = 16, modelName.lower(), None\n",
        "    \n",
        "    for i, j in zip(range(3), [2, 5, 9]):\n",
        "        model.layers[j    ].set_weights([load_variable(cptDir, '{}/conv{}/weights'     .format(varName, i))])\n",
        "        model.layers[j + 1].set_weights([load_variable(cptDir, '{}/conv{}/BatchNorm/{}'.format(varName, i, name))\n",
        "                                         for name in ['beta', 'moving_mean', 'moving_variance']])\n",
        "    model.layers[14].set_weights([load_variable(cptDir, '{}/fc_end/{}'.format(varName, name))\n",
        "                                  for name in ['weights', 'biases']])\n",
        "    \n",
        "    if modelName in ['Onsets', 'Offsets']: varProbName = varName[:-1] + '_probs'\n",
        "    elif modelName == 'Velocity': numLayers, varProbName = 15, 'onset_velocities'\n",
        "    else:\n",
        "        assert modelName == 'Frame', 'Illegal model name'\n",
        "        numLayers, varProbName = 20, 'frame_probs'\n",
        "        model.layers[16].set_weights([load_variable(cptDir, 'frame/activation_probs/{}'.format(name))\n",
        "                                      for name in ['weights', 'biases']])\n",
        "\n",
        "    if modelName != 'Velocity':\n",
        "        fW, fB, bW, bB = [load_variable(cptDir, '{}/cudnn_lstm/stack_bidirectional_rnn/cell_0/bidirectional_rnn/'\n",
        "            '{}/cudnn_compatible_lstm_cell/{}'.format(varName, fb, kb)) for fb in ['fw', 'bw'] for kb in ['kernel', 'bias']]\n",
        "        # https://stackoverflow.com/questions/48212694/in-what-order-are-weights-saved-in-a-lstm-kernel-in-tensorflow\n",
        "        # Tensorflow order is I-C-F-O:\n",
        "        (fWi, fWc, fWf, fWo), (bWi, bWc, bWf, bWo) = map(lambda arr: np.split(arr, 4, 1), [fW, bW])\n",
        "        (fBi, fBc, fBf, fBo), (bBi, bBc, bBf, bBo) = map(lambda arr: np.split(arr, 4),    [fB, bB])\n",
        "        # https://stackoverflow.com/questions/47661105/order-of-lstm-weights-in-keras\n",
        "        # Keras order is I-F-C-O:\n",
        "        fWk, bWk, fBk, bBk = map(np.hstack, [[fWi, fWf, fWc, fWo], [bWi, bWf, bWc, bWo],\n",
        "                                             [fBi, fBf, fBc, fBo], [bBi, bBf, bBc, bBo]])\n",
        "        # https://stats.stackexchange.com/questions/280995/accessing-lstm-weights-tensors-in-tensorflow\n",
        "        # Input units first, then hidden (recurrent) nodes:\n",
        "        model.layers[numLayers - 1].set_weights([fWk[:-lstmWidth], fWk[-lstmWidth:], fBk,\n",
        "                                                 bWk[:-lstmWidth], bWk[-lstmWidth:], bBk])\n",
        "\n",
        "    model.layers[numLayers].set_weights([load_variable(cptDir, '{}/{}/{}'.format(\n",
        "        varName, varProbName, name)) for name in ['weights', 'biases']])\n",
        "    model.save('Magenta {} {:.2f}.hdf5'.format(modelName, model.evaluate(\n",
        "        xVal, yVal, 32, 1)[1] * 100), include_optimizer=False)\n",
        "\n",
        "def Dixon(yTrue, yPred):\n",
        "    # true (correct) positives, predicted positives = tp + fp, real (ground-truth) positives = tp + fn\n",
        "    tp, pp, rp = K.sum(yTrue * K.round(yPred)), K.sum(K.round(yPred)), K.sum(yTrue)\n",
        "    return 1. if pp == 0 and rp == 0 else tp / (pp + rp - tp + K.epsilon())\n",
        "\n",
        "model.compile('Adam', 'categorical_crossentropy', [Dixon])\n",
        "MagentaToKeras('Onsets', melsVal, onVal)\n",
        "onProb = model.predict(melsVal, 16, 1)\n",
        "\n",
        "MagentaToKeras('Offsets', melsVal, offVal)\n",
        "offProb = model.predict(melsVal, 16, 1)\n",
        "\n",
        "def VolAcc(yTrue, yPred):\n",
        "    onsets = K.cast(yTrue > K.epsilon(), float)\n",
        "    yPredOnsets, numNotes = yPred * onsets, K.sum(onsets)\n",
        "    \n",
        "    # Linear regression:\n",
        "    sumX, sumY = map(K.sum, (yPredOnsets, yTrue))\n",
        "    m = (numNotes * K.sum(yPredOnsets * yTrue) - sumX * sumY) / (numNotes * K.sum(yPredOnsets ** 2) - sumX ** 2)\n",
        "    yPredOnsets = (m * yPredOnsets + (sumY - m * sumX) / numNotes) * onsets\n",
        "    \n",
        "    return (numNotes - K.sum(K.cast(K.abs(yPredOnsets - yTrue) > .1, float))) / numNotes\n",
        "\n",
        "model = Model(model.input, Dense(volsVal.shape[2], activation='sigmoid')(model.layers[-3].output))\n",
        "model.compile('Adam', 'categorical_crossentropy', [VolAcc])\n",
        "MagentaToKeras('Velocity', melsVal, volsVal)\n",
        "volsProb = model.predict(melsVal, 32, 1)\n",
        "\n",
        "onsetsIn, offsetsIn = Input(shape=(onVal.shape[1], onVal.shape[2])), Input(shape=(offVal.shape[1], offVal.shape[2]))\n",
        "model = Model([onsetsIn, model.input, offsetsIn], Dense(actVal.shape[2], activation='sigmoid')(\n",
        "    Bidirectional(LSTM(lstmWidth, recurrent_activation='sigmoid', implementation=2, return_sequences=True,\n",
        "                       unroll=True))(concatenate([onsetsIn, model.output, offsetsIn]))))\n",
        "model.compile('Adam', 'categorical_crossentropy', [Dixon])\n",
        "MagentaToKeras('Frame', [onProb, melsVal, offProb], actVal)\n",
        "actProb = model.predict([onProb, melsVal, offProb], 16, 1)"
      ],
      "execution_count": null,
      "outputs": []
    },
    {
      "cell_type": "markdown",
      "metadata": {
        "id": "EvsGy2CojTLB"
      },
      "source": [
        "# Testing."
      ]
    },
    {
      "cell_type": "code",
      "metadata": {
        "scrolled": true,
        "id": "iqsEMzWejTLC",
        "outputId": "544dcdd9-d116-4a42-dd9f-f700139f6f34"
      },
      "source": [
        "fps = 16_000 / 512\n",
        "onsetsModel, offsetsModel, activesModel, volumesModel = map(lambda name: load_model('Magenta {}.hdf5'.format(\n",
        "    name), compile=False), ['Onsets 67.72', 'Offsets 44.53', 'Frame 76.98', 'Velocity 93.40'])\n",
        "\n",
        "for mels, onsetsTrue, offsetsTrue, activesTrue, volumesTrue in zip(*(glob(\n",
        "#        '{}/test/*{}.npy'.format(dataFolder, name)) for name in ['Mels', 'Onsets', 'Offsets', 'Actives', 'Volumes'])):\n",
        "        'Maestro/1-5 seconds/test/*{}.npy'.format(name)) for name in ['Mels', 'Onsets', 'Offsets', 'Actives', 'Volumes'])):\n",
        "    print(' '.join(mels.split()[:-1]))\n",
        "    mels, onsetsTrue, offsetsTrue, activesTrue, volumesTrue = map(lambda arr: np.load(\n",
        "        arr, allow_pickle=True), [mels, onsetsTrue, offsetsTrue, activesTrue, volumesTrue])\n",
        "    \n",
        "    ps, rs, f1s, offPs, offRs, offF1s, volsPs, volsRs, volsF1s = [], [], [], [], [], [], [], [], []\n",
        "    onTrueAll, onPredAll, onProbAll, offProbAll, actProbAll, volProbAll = None, None, [], [], [], []\n",
        "    for i, [m, onTrue, offTrue, actTrue, volTrue] in enumerate(zip(mels, onsetsTrue, offsetsTrue, activesTrue, volumesTrue)):\n",
        "        print('\\t{} of {}'.format(i + 1, len(onsetsTrue)))\n",
        "\n",
        "        m, onTrue, offTrue, actTrue, volTrue = map(np.array, [m, onTrue, offTrue, actTrue, volTrue])\n",
        "        refIntervals, refPitches, refVolumes = sequence_to_valued_intervals(pianoroll_to_note_sequence(\n",
        "            actTrue, fps, 0, onset_predictions=onTrue, offset_predictions=offTrue, velocity_values=volTrue), 0)\n",
        "\n",
        "        m = np.pad(m, [(0, -len(m) % melsVal.shape[1]), (0, 0)], 'minimum').reshape((-1, melsVal.shape[1], melsVal.shape[2]))\n",
        "        onProb, offProb, volProb = map(lambda mod: mod.predict(m, 16, 1), [onsetsModel, offsetsModel, volumesModel])\n",
        "        actProb = activesModel.predict([onProb, m, offProb], 16, 1)\n",
        "\n",
        "        onProb, offProb, actProb, volProb = map(lambda arr: np.vstack(\n",
        "            arr)[:len(actTrue)], [onProb, offProb, actProb, volProb])\n",
        "        onPred, offPred, actPred = map(lambda arr: binarize(arr, .5), [onProb, offProb, actProb])\n",
        "        onTrueAll, onPredAll = map(lambda arr, newArr: newArr if arr is None else\n",
        "            np.vstack([arr, newArr]), [onTrueAll, onPredAll], [onTrue, onPred])\n",
        "\n",
        "        estIntervals, estPitches, estVolumes = sequence_to_valued_intervals(pianoroll_to_note_sequence(\n",
        "            actPred, fps, 0, onset_predictions=onPred, offset_predictions=offPred, velocity_values=volProb), 0)\n",
        "        refPitches, estPitches = map(lambda ps: midi_to_hz(ps + 21), [refPitches, estPitches])\n",
        "\n",
        "        p, r, f1, offP, offR, offF1, volsP, volsR, volsF1 = Overlap(refIntervals, refPitches, estIntervals, estPitches,\n",
        "                                  offset_ratio=None)[:-1] + Overlap(refIntervals, refPitches, estIntervals, estPitches)[:-1] \\\n",
        "                           + OverlapVolumes(refIntervals, refPitches, refVolumes, estIntervals, estPitches, estVolumes)[:-1]\n",
        "        ps, rs, f1s, offPs, offRs, offF1s, volsPs, volsRs, volsF1s = ps + [p], rs + [r], f1s + [f1], \\\n",
        "            offPs + [offP], offRs + [offR], offF1s + [offF1], volsPs + [volsP], volsRs + [volsR], volsF1s + [volsF1]\n",
        "    \n",
        "    print('\\nOnsets: \\nPrecision (specificity) = {:.2%}\\nRecall    (sensitivity) = {:.2%}\\nF1-score                = {:.2%}\\n\\n'\n",
        "            'Frames: \\nPrecision (specificity) = {:.2%}\\nRecall    (sensitivity) = {:.2%}\\nF1-score                = {:.2%}\\n\\n'\n",
        "            'Volumes:\\nPrecision (specificity) = {:.2%}\\nRecall    (sensitivity) = {:.2%}\\nF1-score                = {:.2%}\\n'\n",
        "          .format(np.mean(ps), np.mean(rs), np.mean(f1s), np.mean(offPs), np.mean(offRs), np.mean(offF1s),\n",
        "                  np.mean(volsPs), np.mean(volsRs), np.mean(volsF1s)))\n",
        "\n",
        "    numOnsetsTrue, numOnsetsPred = map(lambda arr: arr.sum(1), [onTrueAll, onPredAll])\n",
        "    numOnsetsTrue, numOnsetsPred = map(lambda arr: arr.sum() / len(np.nonzero(arr)[0]), [numOnsetsTrue, numOnsetsPred])\n",
        "    print('Actual and predicted average number of onsets: {:.2f} {:.2f}'.format(numOnsetsTrue, numOnsetsPred))\n",
        "    print('Predicts',                'more' if numOnsetsPred > numOnsetsTrue else 'less',\n",
        "          'notes than actual', '(sensitive' if numOnsetsPred > numOnsetsTrue else '(specific', 'classifier)\\n')\n",
        "    assert abs(numOnsetsTrue - numOnsetsPred) < .1"
      ],
      "execution_count": null,
      "outputs": [
        {
          "output_type": "stream",
          "text": [
            "WARNING:tensorflow:Layer lstm will not use cuDNN kernel since it doesn't meet the cuDNN kernel criteria. It will use generic GPU kernel as fallback when running on GPU\n",
            "WARNING:tensorflow:Layer lstm will not use cuDNN kernel since it doesn't meet the cuDNN kernel criteria. It will use generic GPU kernel as fallback when running on GPU\n",
            "WARNING:tensorflow:Layer lstm will not use cuDNN kernel since it doesn't meet the cuDNN kernel criteria. It will use generic GPU kernel as fallback when running on GPU\n",
            "WARNING:tensorflow:Layer lstm will not use cuDNN kernel since it doesn't meet the cuDNN kernel criteria. It will use generic GPU kernel as fallback when running on GPU\n",
            "WARNING:tensorflow:Layer lstm will not use cuDNN kernel since it doesn't meet the cuDNN kernel criteria. It will use generic GPU kernel as fallback when running on GPU\n",
            "WARNING:tensorflow:Layer lstm will not use cuDNN kernel since it doesn't meet the cuDNN kernel criteria. It will use generic GPU kernel as fallback when running on GPU\n",
            "WARNING:tensorflow:Layer lstm_1 will not use cuDNN kernel since it doesn't meet the cuDNN kernel criteria. It will use generic GPU kernel as fallback when running on GPU\n",
            "WARNING:tensorflow:Layer lstm_1 will not use cuDNN kernel since it doesn't meet the cuDNN kernel criteria. It will use generic GPU kernel as fallback when running on GPU\n",
            "WARNING:tensorflow:Layer lstm_1 will not use cuDNN kernel since it doesn't meet the cuDNN kernel criteria. It will use generic GPU kernel as fallback when running on GPU\n",
            "Maestro/1-5 seconds/test\\2004\n",
            "\t1 of 9\n",
            "1/1 [==============================] - 53s 53s/step\n",
            "1/1 [==============================] - 48s 48s/step\n",
            "1/1 [==============================] - 0s 373ms/step\n",
            "WARNING:tensorflow:5 out of the last 197 calls to <function Model.make_predict_function.<locals>.predict_function at 0x0000016F60A8B160> triggered tf.function retracing. Tracing is expensive and the excessive number of tracings could be due to (1) creating @tf.function repeatedly in a loop, (2) passing tensors with different shapes, (3) passing Python objects instead of tensors. For (1), please define your @tf.function outside of the loop. For (2), @tf.function has experimental_relax_shapes=True option that relaxes argument shapes that can avoid unnecessary retracing. For (3), please refer to https://www.tensorflow.org/guide/function#controlling_retracing and https://www.tensorflow.org/api_docs/python/tf/function for  more details.\n",
            "1/1 [==============================] - 49s 49s/step\n"
          ],
          "name": "stdout"
        },
        {
          "output_type": "stream",
          "text": [
            "C:\\Users\\Evgeniy\\anaconda3\\envs\\boris_env\\lib\\site-packages\\sklearn\\utils\\validation.py:70: FutureWarning: Pass threshold=0.5 as keyword args. From version 1.0 (renaming of 0.25) passing these as positional arguments will result in an error\n",
            "  warnings.warn(f\"Pass {args_msg} as keyword args. From version \"\n",
            "C:\\Users\\Evgeniy\\anaconda3\\envs\\boris_env\\lib\\site-packages\\sklearn\\utils\\validation.py:70: FutureWarning: Pass threshold=0.5 as keyword args. From version 1.0 (renaming of 0.25) passing these as positional arguments will result in an error\n",
            "  warnings.warn(f\"Pass {args_msg} as keyword args. From version \"\n",
            "C:\\Users\\Evgeniy\\anaconda3\\envs\\boris_env\\lib\\site-packages\\sklearn\\utils\\validation.py:70: FutureWarning: Pass threshold=0.5 as keyword args. From version 1.0 (renaming of 0.25) passing these as positional arguments will result in an error\n",
            "  warnings.warn(f\"Pass {args_msg} as keyword args. From version \"\n",
            "C:\\Users\\Evgeniy\\anaconda3\\envs\\boris_env\\lib\\site-packages\\mir_eval\\transcription_velocity.py:185: FutureWarning: `rcond` parameter will change to the default of machine precision times ``max(M, N)`` where M and N are the input matrix dimensions.\n",
            "To use the future default and silence this warning we advise to pass `rcond=None`, to keep using the old, explicitly pass `rcond=-1`.\n",
            "  slope, intercept = np.linalg.lstsq(\n"
          ],
          "name": "stderr"
        },
        {
          "output_type": "stream",
          "text": [
            "\t2 of 9\n",
            "2/2 [==============================] - 2s 808ms/step\n",
            "2/2 [==============================] - 1s 507ms/step\n",
            "2/2 [==============================] - 0s 22ms/step\n",
            "2/2 [==============================] - 1s 528ms/step\n"
          ],
          "name": "stdout"
        },
        {
          "output_type": "stream",
          "text": [
            "C:\\Users\\Evgeniy\\anaconda3\\envs\\boris_env\\lib\\site-packages\\sklearn\\utils\\validation.py:70: FutureWarning: Pass threshold=0.5 as keyword args. From version 1.0 (renaming of 0.25) passing these as positional arguments will result in an error\n",
            "  warnings.warn(f\"Pass {args_msg} as keyword args. From version \"\n",
            "C:\\Users\\Evgeniy\\anaconda3\\envs\\boris_env\\lib\\site-packages\\sklearn\\utils\\validation.py:70: FutureWarning: Pass threshold=0.5 as keyword args. From version 1.0 (renaming of 0.25) passing these as positional arguments will result in an error\n",
            "  warnings.warn(f\"Pass {args_msg} as keyword args. From version \"\n",
            "C:\\Users\\Evgeniy\\anaconda3\\envs\\boris_env\\lib\\site-packages\\sklearn\\utils\\validation.py:70: FutureWarning: Pass threshold=0.5 as keyword args. From version 1.0 (renaming of 0.25) passing these as positional arguments will result in an error\n",
            "  warnings.warn(f\"Pass {args_msg} as keyword args. From version \"\n",
            "C:\\Users\\Evgeniy\\anaconda3\\envs\\boris_env\\lib\\site-packages\\mir_eval\\transcription_velocity.py:185: FutureWarning: `rcond` parameter will change to the default of machine precision times ``max(M, N)`` where M and N are the input matrix dimensions.\n",
            "To use the future default and silence this warning we advise to pass `rcond=None`, to keep using the old, explicitly pass `rcond=-1`.\n",
            "  slope, intercept = np.linalg.lstsq(\n"
          ],
          "name": "stderr"
        },
        {
          "output_type": "stream",
          "text": [
            "\t3 of 9\n",
            "1/1 [==============================] - 1s 1s/step\n",
            "1/1 [==============================] - 1s 689ms/step\n",
            "1/1 [==============================] - 0s 159ms/step\n",
            "1/1 [==============================] - 1s 682ms/step\n"
          ],
          "name": "stdout"
        },
        {
          "output_type": "stream",
          "text": [
            "C:\\Users\\Evgeniy\\anaconda3\\envs\\boris_env\\lib\\site-packages\\sklearn\\utils\\validation.py:70: FutureWarning: Pass threshold=0.5 as keyword args. From version 1.0 (renaming of 0.25) passing these as positional arguments will result in an error\n",
            "  warnings.warn(f\"Pass {args_msg} as keyword args. From version \"\n",
            "C:\\Users\\Evgeniy\\anaconda3\\envs\\boris_env\\lib\\site-packages\\sklearn\\utils\\validation.py:70: FutureWarning: Pass threshold=0.5 as keyword args. From version 1.0 (renaming of 0.25) passing these as positional arguments will result in an error\n",
            "  warnings.warn(f\"Pass {args_msg} as keyword args. From version \"\n",
            "C:\\Users\\Evgeniy\\anaconda3\\envs\\boris_env\\lib\\site-packages\\sklearn\\utils\\validation.py:70: FutureWarning: Pass threshold=0.5 as keyword args. From version 1.0 (renaming of 0.25) passing these as positional arguments will result in an error\n",
            "  warnings.warn(f\"Pass {args_msg} as keyword args. From version \"\n",
            "C:\\Users\\Evgeniy\\anaconda3\\envs\\boris_env\\lib\\site-packages\\mir_eval\\transcription_velocity.py:185: FutureWarning: `rcond` parameter will change to the default of machine precision times ``max(M, N)`` where M and N are the input matrix dimensions.\n",
            "To use the future default and silence this warning we advise to pass `rcond=None`, to keep using the old, explicitly pass `rcond=-1`.\n",
            "  slope, intercept = np.linalg.lstsq(\n"
          ],
          "name": "stderr"
        },
        {
          "output_type": "stream",
          "text": [
            "\t4 of 9\n",
            "1/1 [==============================] - 50s 50s/step\n",
            "1/1 [==============================] - 38s 38s/step\n",
            "1/1 [==============================] - 0s 303ms/step\n",
            "WARNING:tensorflow:5 out of the last 17 calls to <function Model.make_predict_function.<locals>.predict_function at 0x0000016F60A8B160> triggered tf.function retracing. Tracing is expensive and the excessive number of tracings could be due to (1) creating @tf.function repeatedly in a loop, (2) passing tensors with different shapes, (3) passing Python objects instead of tensors. For (1), please define your @tf.function outside of the loop. For (2), @tf.function has experimental_relax_shapes=True option that relaxes argument shapes that can avoid unnecessary retracing. For (3), please refer to https://www.tensorflow.org/guide/function#controlling_retracing and https://www.tensorflow.org/api_docs/python/tf/function for  more details.\n",
            "1/1 [==============================] - 38s 38s/step\n"
          ],
          "name": "stdout"
        },
        {
          "output_type": "stream",
          "text": [
            "C:\\Users\\Evgeniy\\anaconda3\\envs\\boris_env\\lib\\site-packages\\sklearn\\utils\\validation.py:70: FutureWarning: Pass threshold=0.5 as keyword args. From version 1.0 (renaming of 0.25) passing these as positional arguments will result in an error\n",
            "  warnings.warn(f\"Pass {args_msg} as keyword args. From version \"\n",
            "C:\\Users\\Evgeniy\\anaconda3\\envs\\boris_env\\lib\\site-packages\\sklearn\\utils\\validation.py:70: FutureWarning: Pass threshold=0.5 as keyword args. From version 1.0 (renaming of 0.25) passing these as positional arguments will result in an error\n",
            "  warnings.warn(f\"Pass {args_msg} as keyword args. From version \"\n",
            "C:\\Users\\Evgeniy\\anaconda3\\envs\\boris_env\\lib\\site-packages\\sklearn\\utils\\validation.py:70: FutureWarning: Pass threshold=0.5 as keyword args. From version 1.0 (renaming of 0.25) passing these as positional arguments will result in an error\n",
            "  warnings.warn(f\"Pass {args_msg} as keyword args. From version \"\n",
            "C:\\Users\\Evgeniy\\anaconda3\\envs\\boris_env\\lib\\site-packages\\mir_eval\\transcription_velocity.py:185: FutureWarning: `rcond` parameter will change to the default of machine precision times ``max(M, N)`` where M and N are the input matrix dimensions.\n",
            "To use the future default and silence this warning we advise to pass `rcond=None`, to keep using the old, explicitly pass `rcond=-1`.\n",
            "  slope, intercept = np.linalg.lstsq(\n"
          ],
          "name": "stderr"
        },
        {
          "output_type": "stream",
          "text": [
            "\t5 of 9\n",
            "1/1 [==============================] - 1s 1s/step\n",
            "1/1 [==============================] - 1s 513ms/step\n",
            "1/1 [==============================] - 0s 98ms/step\n",
            "1/1 [==============================] - 0s 474ms/step\n"
          ],
          "name": "stdout"
        },
        {
          "output_type": "stream",
          "text": [
            "C:\\Users\\Evgeniy\\anaconda3\\envs\\boris_env\\lib\\site-packages\\sklearn\\utils\\validation.py:70: FutureWarning: Pass threshold=0.5 as keyword args. From version 1.0 (renaming of 0.25) passing these as positional arguments will result in an error\n",
            "  warnings.warn(f\"Pass {args_msg} as keyword args. From version \"\n",
            "C:\\Users\\Evgeniy\\anaconda3\\envs\\boris_env\\lib\\site-packages\\sklearn\\utils\\validation.py:70: FutureWarning: Pass threshold=0.5 as keyword args. From version 1.0 (renaming of 0.25) passing these as positional arguments will result in an error\n",
            "  warnings.warn(f\"Pass {args_msg} as keyword args. From version \"\n",
            "C:\\Users\\Evgeniy\\anaconda3\\envs\\boris_env\\lib\\site-packages\\sklearn\\utils\\validation.py:70: FutureWarning: Pass threshold=0.5 as keyword args. From version 1.0 (renaming of 0.25) passing these as positional arguments will result in an error\n",
            "  warnings.warn(f\"Pass {args_msg} as keyword args. From version \"\n",
            "C:\\Users\\Evgeniy\\anaconda3\\envs\\boris_env\\lib\\site-packages\\mir_eval\\transcription_velocity.py:185: FutureWarning: `rcond` parameter will change to the default of machine precision times ``max(M, N)`` where M and N are the input matrix dimensions.\n",
            "To use the future default and silence this warning we advise to pass `rcond=None`, to keep using the old, explicitly pass `rcond=-1`.\n",
            "  slope, intercept = np.linalg.lstsq(\n"
          ],
          "name": "stderr"
        },
        {
          "output_type": "stream",
          "text": [
            "\t6 of 9\n",
            "2/2 [==============================] - 2s 1s/step\n",
            "2/2 [==============================] - 1s 571ms/step\n",
            "2/2 [==============================] - 0s 127ms/step\n",
            "2/2 [==============================] - 1s 504ms/step\n"
          ],
          "name": "stdout"
        },
        {
          "output_type": "stream",
          "text": [
            "C:\\Users\\Evgeniy\\anaconda3\\envs\\boris_env\\lib\\site-packages\\sklearn\\utils\\validation.py:70: FutureWarning: Pass threshold=0.5 as keyword args. From version 1.0 (renaming of 0.25) passing these as positional arguments will result in an error\n",
            "  warnings.warn(f\"Pass {args_msg} as keyword args. From version \"\n",
            "C:\\Users\\Evgeniy\\anaconda3\\envs\\boris_env\\lib\\site-packages\\sklearn\\utils\\validation.py:70: FutureWarning: Pass threshold=0.5 as keyword args. From version 1.0 (renaming of 0.25) passing these as positional arguments will result in an error\n",
            "  warnings.warn(f\"Pass {args_msg} as keyword args. From version \"\n",
            "C:\\Users\\Evgeniy\\anaconda3\\envs\\boris_env\\lib\\site-packages\\sklearn\\utils\\validation.py:70: FutureWarning: Pass threshold=0.5 as keyword args. From version 1.0 (renaming of 0.25) passing these as positional arguments will result in an error\n",
            "  warnings.warn(f\"Pass {args_msg} as keyword args. From version \"\n",
            "C:\\Users\\Evgeniy\\anaconda3\\envs\\boris_env\\lib\\site-packages\\mir_eval\\transcription_velocity.py:185: FutureWarning: `rcond` parameter will change to the default of machine precision times ``max(M, N)`` where M and N are the input matrix dimensions.\n",
            "To use the future default and silence this warning we advise to pass `rcond=None`, to keep using the old, explicitly pass `rcond=-1`.\n",
            "  slope, intercept = np.linalg.lstsq(\n"
          ],
          "name": "stderr"
        },
        {
          "output_type": "stream",
          "text": [
            "\t7 of 9\n",
            "1/1 [==============================] - 1s 1s/step\n",
            "1/1 [==============================] - 1s 609ms/step\n",
            "1/1 [==============================] - 0s 198ms/step\n",
            "1/1 [==============================] - 1s 621ms/step\n"
          ],
          "name": "stdout"
        },
        {
          "output_type": "stream",
          "text": [
            "C:\\Users\\Evgeniy\\anaconda3\\envs\\boris_env\\lib\\site-packages\\sklearn\\utils\\validation.py:70: FutureWarning: Pass threshold=0.5 as keyword args. From version 1.0 (renaming of 0.25) passing these as positional arguments will result in an error\n",
            "  warnings.warn(f\"Pass {args_msg} as keyword args. From version \"\n",
            "C:\\Users\\Evgeniy\\anaconda3\\envs\\boris_env\\lib\\site-packages\\sklearn\\utils\\validation.py:70: FutureWarning: Pass threshold=0.5 as keyword args. From version 1.0 (renaming of 0.25) passing these as positional arguments will result in an error\n",
            "  warnings.warn(f\"Pass {args_msg} as keyword args. From version \"\n",
            "C:\\Users\\Evgeniy\\anaconda3\\envs\\boris_env\\lib\\site-packages\\sklearn\\utils\\validation.py:70: FutureWarning: Pass threshold=0.5 as keyword args. From version 1.0 (renaming of 0.25) passing these as positional arguments will result in an error\n",
            "  warnings.warn(f\"Pass {args_msg} as keyword args. From version \"\n",
            "C:\\Users\\Evgeniy\\anaconda3\\envs\\boris_env\\lib\\site-packages\\mir_eval\\transcription_velocity.py:185: FutureWarning: `rcond` parameter will change to the default of machine precision times ``max(M, N)`` where M and N are the input matrix dimensions.\n",
            "To use the future default and silence this warning we advise to pass `rcond=None`, to keep using the old, explicitly pass `rcond=-1`.\n",
            "  slope, intercept = np.linalg.lstsq(\n"
          ],
          "name": "stderr"
        },
        {
          "output_type": "stream",
          "text": [
            "\t8 of 9\n",
            "5/5 [==============================] - 3s 634ms/step\n",
            "5/5 [==============================] - 3s 579ms/step\n",
            "5/5 [==============================] - 1s 154ms/step\n",
            "5/5 [==============================] - 3s 559ms/step\n"
          ],
          "name": "stdout"
        },
        {
          "output_type": "stream",
          "text": [
            "C:\\Users\\Evgeniy\\anaconda3\\envs\\boris_env\\lib\\site-packages\\sklearn\\utils\\validation.py:70: FutureWarning: Pass threshold=0.5 as keyword args. From version 1.0 (renaming of 0.25) passing these as positional arguments will result in an error\n",
            "  warnings.warn(f\"Pass {args_msg} as keyword args. From version \"\n",
            "C:\\Users\\Evgeniy\\anaconda3\\envs\\boris_env\\lib\\site-packages\\sklearn\\utils\\validation.py:70: FutureWarning: Pass threshold=0.5 as keyword args. From version 1.0 (renaming of 0.25) passing these as positional arguments will result in an error\n",
            "  warnings.warn(f\"Pass {args_msg} as keyword args. From version \"\n",
            "C:\\Users\\Evgeniy\\anaconda3\\envs\\boris_env\\lib\\site-packages\\sklearn\\utils\\validation.py:70: FutureWarning: Pass threshold=0.5 as keyword args. From version 1.0 (renaming of 0.25) passing these as positional arguments will result in an error\n",
            "  warnings.warn(f\"Pass {args_msg} as keyword args. From version \"\n",
            "C:\\Users\\Evgeniy\\anaconda3\\envs\\boris_env\\lib\\site-packages\\mir_eval\\transcription_velocity.py:185: FutureWarning: `rcond` parameter will change to the default of machine precision times ``max(M, N)`` where M and N are the input matrix dimensions.\n",
            "To use the future default and silence this warning we advise to pass `rcond=None`, to keep using the old, explicitly pass `rcond=-1`.\n",
            "  slope, intercept = np.linalg.lstsq(\n"
          ],
          "name": "stderr"
        },
        {
          "output_type": "stream",
          "text": [
            "\t9 of 9\n",
            "4/4 [==============================] - 3s 824ms/step\n",
            "4/4 [==============================] - 2s 586ms/step\n",
            "4/4 [==============================] - 1s 164ms/step\n",
            "4/4 [==============================] - 2s 581ms/step\n"
          ],
          "name": "stdout"
        },
        {
          "output_type": "stream",
          "text": [
            "C:\\Users\\Evgeniy\\anaconda3\\envs\\boris_env\\lib\\site-packages\\sklearn\\utils\\validation.py:70: FutureWarning: Pass threshold=0.5 as keyword args. From version 1.0 (renaming of 0.25) passing these as positional arguments will result in an error\n",
            "  warnings.warn(f\"Pass {args_msg} as keyword args. From version \"\n",
            "C:\\Users\\Evgeniy\\anaconda3\\envs\\boris_env\\lib\\site-packages\\sklearn\\utils\\validation.py:70: FutureWarning: Pass threshold=0.5 as keyword args. From version 1.0 (renaming of 0.25) passing these as positional arguments will result in an error\n",
            "  warnings.warn(f\"Pass {args_msg} as keyword args. From version \"\n",
            "C:\\Users\\Evgeniy\\anaconda3\\envs\\boris_env\\lib\\site-packages\\sklearn\\utils\\validation.py:70: FutureWarning: Pass threshold=0.5 as keyword args. From version 1.0 (renaming of 0.25) passing these as positional arguments will result in an error\n",
            "  warnings.warn(f\"Pass {args_msg} as keyword args. From version \"\n",
            "C:\\Users\\Evgeniy\\anaconda3\\envs\\boris_env\\lib\\site-packages\\mir_eval\\transcription_velocity.py:185: FutureWarning: `rcond` parameter will change to the default of machine precision times ``max(M, N)`` where M and N are the input matrix dimensions.\n",
            "To use the future default and silence this warning we advise to pass `rcond=None`, to keep using the old, explicitly pass `rcond=-1`.\n",
            "  slope, intercept = np.linalg.lstsq(\n"
          ],
          "name": "stderr"
        },
        {
          "output_type": "stream",
          "text": [
            "\n",
            "Onsets: \n",
            "Precision (specificity) = 81.15%\n",
            "Recall    (sensitivity) = 90.09%\n",
            "F1-score                = 84.88%\n",
            "\n",
            "Frames: \n",
            "Precision (specificity) = 65.05%\n",
            "Recall    (sensitivity) = 71.51%\n",
            "F1-score                = 67.78%\n",
            "\n",
            "Volumes:\n",
            "Precision (specificity) = 62.40%\n",
            "Recall    (sensitivity) = 68.59%\n",
            "F1-score                = 65.01%\n",
            "\n",
            "Actual and predicted average number of onsets: 1.71 1.67\n",
            "Predicts less notes than actual (specific classifier)\n",
            "\n",
            "Maestro/1-5 seconds/test\\2006\n",
            "\t1 of 11\n",
            "3/3 [==============================] - 2s 764ms/step\n",
            "3/3 [==============================] - 2s 558ms/step\n",
            "3/3 [==============================] - 0s 134ms/step\n",
            "3/3 [==============================] - 2s 520ms/step\n"
          ],
          "name": "stdout"
        },
        {
          "output_type": "stream",
          "text": [
            "C:\\Users\\Evgeniy\\anaconda3\\envs\\boris_env\\lib\\site-packages\\sklearn\\utils\\validation.py:70: FutureWarning: Pass threshold=0.5 as keyword args. From version 1.0 (renaming of 0.25) passing these as positional arguments will result in an error\n",
            "  warnings.warn(f\"Pass {args_msg} as keyword args. From version \"\n",
            "C:\\Users\\Evgeniy\\anaconda3\\envs\\boris_env\\lib\\site-packages\\sklearn\\utils\\validation.py:70: FutureWarning: Pass threshold=0.5 as keyword args. From version 1.0 (renaming of 0.25) passing these as positional arguments will result in an error\n",
            "  warnings.warn(f\"Pass {args_msg} as keyword args. From version \"\n",
            "C:\\Users\\Evgeniy\\anaconda3\\envs\\boris_env\\lib\\site-packages\\sklearn\\utils\\validation.py:70: FutureWarning: Pass threshold=0.5 as keyword args. From version 1.0 (renaming of 0.25) passing these as positional arguments will result in an error\n",
            "  warnings.warn(f\"Pass {args_msg} as keyword args. From version \"\n",
            "C:\\Users\\Evgeniy\\anaconda3\\envs\\boris_env\\lib\\site-packages\\mir_eval\\transcription_velocity.py:185: FutureWarning: `rcond` parameter will change to the default of machine precision times ``max(M, N)`` where M and N are the input matrix dimensions.\n",
            "To use the future default and silence this warning we advise to pass `rcond=None`, to keep using the old, explicitly pass `rcond=-1`.\n",
            "  slope, intercept = np.linalg.lstsq(\n"
          ],
          "name": "stderr"
        },
        {
          "output_type": "stream",
          "text": [
            "\t2 of 11\n",
            "3/3 [==============================] - 2s 716ms/step\n",
            "3/3 [==============================] - 2s 519ms/step\n",
            "3/3 [==============================] - 0s 119ms/step\n",
            "3/3 [==============================] - 2s 519ms/step\n"
          ],
          "name": "stdout"
        },
        {
          "output_type": "stream",
          "text": [
            "C:\\Users\\Evgeniy\\anaconda3\\envs\\boris_env\\lib\\site-packages\\sklearn\\utils\\validation.py:70: FutureWarning: Pass threshold=0.5 as keyword args. From version 1.0 (renaming of 0.25) passing these as positional arguments will result in an error\n",
            "  warnings.warn(f\"Pass {args_msg} as keyword args. From version \"\n",
            "C:\\Users\\Evgeniy\\anaconda3\\envs\\boris_env\\lib\\site-packages\\sklearn\\utils\\validation.py:70: FutureWarning: Pass threshold=0.5 as keyword args. From version 1.0 (renaming of 0.25) passing these as positional arguments will result in an error\n",
            "  warnings.warn(f\"Pass {args_msg} as keyword args. From version \"\n",
            "C:\\Users\\Evgeniy\\anaconda3\\envs\\boris_env\\lib\\site-packages\\sklearn\\utils\\validation.py:70: FutureWarning: Pass threshold=0.5 as keyword args. From version 1.0 (renaming of 0.25) passing these as positional arguments will result in an error\n",
            "  warnings.warn(f\"Pass {args_msg} as keyword args. From version \"\n",
            "C:\\Users\\Evgeniy\\anaconda3\\envs\\boris_env\\lib\\site-packages\\mir_eval\\transcription_velocity.py:185: FutureWarning: `rcond` parameter will change to the default of machine precision times ``max(M, N)`` where M and N are the input matrix dimensions.\n",
            "To use the future default and silence this warning we advise to pass `rcond=None`, to keep using the old, explicitly pass `rcond=-1`.\n",
            "  slope, intercept = np.linalg.lstsq(\n"
          ],
          "name": "stderr"
        },
        {
          "output_type": "stream",
          "text": [
            "\t3 of 11\n",
            "4/4 [==============================] - 2s 609ms/step\n",
            "4/4 [==============================] - 2s 610ms/step\n",
            "4/4 [==============================] - 1s 250ms/step\n",
            "4/4 [==============================] - 2s 627ms/step\n"
          ],
          "name": "stdout"
        },
        {
          "output_type": "stream",
          "text": [
            "C:\\Users\\Evgeniy\\anaconda3\\envs\\boris_env\\lib\\site-packages\\sklearn\\utils\\validation.py:70: FutureWarning: Pass threshold=0.5 as keyword args. From version 1.0 (renaming of 0.25) passing these as positional arguments will result in an error\n",
            "  warnings.warn(f\"Pass {args_msg} as keyword args. From version \"\n",
            "C:\\Users\\Evgeniy\\anaconda3\\envs\\boris_env\\lib\\site-packages\\sklearn\\utils\\validation.py:70: FutureWarning: Pass threshold=0.5 as keyword args. From version 1.0 (renaming of 0.25) passing these as positional arguments will result in an error\n",
            "  warnings.warn(f\"Pass {args_msg} as keyword args. From version \"\n",
            "C:\\Users\\Evgeniy\\anaconda3\\envs\\boris_env\\lib\\site-packages\\sklearn\\utils\\validation.py:70: FutureWarning: Pass threshold=0.5 as keyword args. From version 1.0 (renaming of 0.25) passing these as positional arguments will result in an error\n",
            "  warnings.warn(f\"Pass {args_msg} as keyword args. From version \"\n",
            "C:\\Users\\Evgeniy\\anaconda3\\envs\\boris_env\\lib\\site-packages\\mir_eval\\transcription_velocity.py:185: FutureWarning: `rcond` parameter will change to the default of machine precision times ``max(M, N)`` where M and N are the input matrix dimensions.\n",
            "To use the future default and silence this warning we advise to pass `rcond=None`, to keep using the old, explicitly pass `rcond=-1`.\n",
            "  slope, intercept = np.linalg.lstsq(\n"
          ],
          "name": "stderr"
        },
        {
          "output_type": "stream",
          "text": [
            "\t4 of 11\n",
            "2/2 [==============================] - 1s 596ms/step\n",
            "2/2 [==============================] - 1s 655ms/step\n",
            "2/2 [==============================] - 0s 189ms/step\n",
            "2/2 [==============================] - 1s 576ms/step\n"
          ],
          "name": "stdout"
        },
        {
          "output_type": "stream",
          "text": [
            "C:\\Users\\Evgeniy\\anaconda3\\envs\\boris_env\\lib\\site-packages\\sklearn\\utils\\validation.py:70: FutureWarning: Pass threshold=0.5 as keyword args. From version 1.0 (renaming of 0.25) passing these as positional arguments will result in an error\n",
            "  warnings.warn(f\"Pass {args_msg} as keyword args. From version \"\n",
            "C:\\Users\\Evgeniy\\anaconda3\\envs\\boris_env\\lib\\site-packages\\sklearn\\utils\\validation.py:70: FutureWarning: Pass threshold=0.5 as keyword args. From version 1.0 (renaming of 0.25) passing these as positional arguments will result in an error\n",
            "  warnings.warn(f\"Pass {args_msg} as keyword args. From version \"\n",
            "C:\\Users\\Evgeniy\\anaconda3\\envs\\boris_env\\lib\\site-packages\\sklearn\\utils\\validation.py:70: FutureWarning: Pass threshold=0.5 as keyword args. From version 1.0 (renaming of 0.25) passing these as positional arguments will result in an error\n",
            "  warnings.warn(f\"Pass {args_msg} as keyword args. From version \"\n",
            "C:\\Users\\Evgeniy\\anaconda3\\envs\\boris_env\\lib\\site-packages\\mir_eval\\transcription_velocity.py:185: FutureWarning: `rcond` parameter will change to the default of machine precision times ``max(M, N)`` where M and N are the input matrix dimensions.\n",
            "To use the future default and silence this warning we advise to pass `rcond=None`, to keep using the old, explicitly pass `rcond=-1`.\n",
            "  slope, intercept = np.linalg.lstsq(\n"
          ],
          "name": "stderr"
        },
        {
          "output_type": "stream",
          "text": [
            "\t5 of 11\n",
            "1/1 [==============================] - 0s 500ms/step\n",
            "1/1 [==============================] - 1s 501ms/step\n",
            "1/1 [==============================] - 0s 99ms/step\n",
            "1/1 [==============================] - 1s 541ms/step\n"
          ],
          "name": "stdout"
        },
        {
          "output_type": "stream",
          "text": [
            "C:\\Users\\Evgeniy\\anaconda3\\envs\\boris_env\\lib\\site-packages\\sklearn\\utils\\validation.py:70: FutureWarning: Pass threshold=0.5 as keyword args. From version 1.0 (renaming of 0.25) passing these as positional arguments will result in an error\n",
            "  warnings.warn(f\"Pass {args_msg} as keyword args. From version \"\n",
            "C:\\Users\\Evgeniy\\anaconda3\\envs\\boris_env\\lib\\site-packages\\sklearn\\utils\\validation.py:70: FutureWarning: Pass threshold=0.5 as keyword args. From version 1.0 (renaming of 0.25) passing these as positional arguments will result in an error\n",
            "  warnings.warn(f\"Pass {args_msg} as keyword args. From version \"\n",
            "C:\\Users\\Evgeniy\\anaconda3\\envs\\boris_env\\lib\\site-packages\\sklearn\\utils\\validation.py:70: FutureWarning: Pass threshold=0.5 as keyword args. From version 1.0 (renaming of 0.25) passing these as positional arguments will result in an error\n",
            "  warnings.warn(f\"Pass {args_msg} as keyword args. From version \"\n",
            "C:\\Users\\Evgeniy\\anaconda3\\envs\\boris_env\\lib\\site-packages\\mir_eval\\transcription_velocity.py:185: FutureWarning: `rcond` parameter will change to the default of machine precision times ``max(M, N)`` where M and N are the input matrix dimensions.\n",
            "To use the future default and silence this warning we advise to pass `rcond=None`, to keep using the old, explicitly pass `rcond=-1`.\n",
            "  slope, intercept = np.linalg.lstsq(\n"
          ],
          "name": "stderr"
        },
        {
          "output_type": "stream",
          "text": [
            "\t6 of 11\n",
            "2/2 [==============================] - 1s 416ms/step\n",
            "2/2 [==============================] - 1s 442ms/step\n",
            "2/2 [==============================] - 0s 47ms/step\n",
            "2/2 [==============================] - 1s 430ms/step\n"
          ],
          "name": "stdout"
        },
        {
          "output_type": "stream",
          "text": [
            "C:\\Users\\Evgeniy\\anaconda3\\envs\\boris_env\\lib\\site-packages\\sklearn\\utils\\validation.py:70: FutureWarning: Pass threshold=0.5 as keyword args. From version 1.0 (renaming of 0.25) passing these as positional arguments will result in an error\n",
            "  warnings.warn(f\"Pass {args_msg} as keyword args. From version \"\n",
            "C:\\Users\\Evgeniy\\anaconda3\\envs\\boris_env\\lib\\site-packages\\sklearn\\utils\\validation.py:70: FutureWarning: Pass threshold=0.5 as keyword args. From version 1.0 (renaming of 0.25) passing these as positional arguments will result in an error\n",
            "  warnings.warn(f\"Pass {args_msg} as keyword args. From version \"\n",
            "C:\\Users\\Evgeniy\\anaconda3\\envs\\boris_env\\lib\\site-packages\\sklearn\\utils\\validation.py:70: FutureWarning: Pass threshold=0.5 as keyword args. From version 1.0 (renaming of 0.25) passing these as positional arguments will result in an error\n",
            "  warnings.warn(f\"Pass {args_msg} as keyword args. From version \"\n",
            "C:\\Users\\Evgeniy\\anaconda3\\envs\\boris_env\\lib\\site-packages\\mir_eval\\transcription_velocity.py:185: FutureWarning: `rcond` parameter will change to the default of machine precision times ``max(M, N)`` where M and N are the input matrix dimensions.\n",
            "To use the future default and silence this warning we advise to pass `rcond=None`, to keep using the old, explicitly pass `rcond=-1`.\n",
            "  slope, intercept = np.linalg.lstsq(\n"
          ],
          "name": "stderr"
        },
        {
          "output_type": "stream",
          "text": [
            "\t7 of 11\n",
            "2/2 [==============================] - 2s 1s/step\n",
            "2/2 [==============================] - 1s 478ms/step\n",
            "2/2 [==============================] - 0s 82ms/step\n",
            "2/2 [==============================] - 1s 448ms/step\n"
          ],
          "name": "stdout"
        },
        {
          "output_type": "stream",
          "text": [
            "C:\\Users\\Evgeniy\\anaconda3\\envs\\boris_env\\lib\\site-packages\\sklearn\\utils\\validation.py:70: FutureWarning: Pass threshold=0.5 as keyword args. From version 1.0 (renaming of 0.25) passing these as positional arguments will result in an error\n",
            "  warnings.warn(f\"Pass {args_msg} as keyword args. From version \"\n",
            "C:\\Users\\Evgeniy\\anaconda3\\envs\\boris_env\\lib\\site-packages\\sklearn\\utils\\validation.py:70: FutureWarning: Pass threshold=0.5 as keyword args. From version 1.0 (renaming of 0.25) passing these as positional arguments will result in an error\n",
            "  warnings.warn(f\"Pass {args_msg} as keyword args. From version \"\n",
            "C:\\Users\\Evgeniy\\anaconda3\\envs\\boris_env\\lib\\site-packages\\sklearn\\utils\\validation.py:70: FutureWarning: Pass threshold=0.5 as keyword args. From version 1.0 (renaming of 0.25) passing these as positional arguments will result in an error\n",
            "  warnings.warn(f\"Pass {args_msg} as keyword args. From version \"\n",
            "C:\\Users\\Evgeniy\\anaconda3\\envs\\boris_env\\lib\\site-packages\\mir_eval\\transcription_velocity.py:185: FutureWarning: `rcond` parameter will change to the default of machine precision times ``max(M, N)`` where M and N are the input matrix dimensions.\n",
            "To use the future default and silence this warning we advise to pass `rcond=None`, to keep using the old, explicitly pass `rcond=-1`.\n",
            "  slope, intercept = np.linalg.lstsq(\n"
          ],
          "name": "stderr"
        },
        {
          "output_type": "stream",
          "text": [
            "\t8 of 11\n",
            "2/2 [==============================] - 1s 886ms/step\n",
            "2/2 [==============================] - 1s 472ms/step\n",
            "2/2 [==============================] - 0s 63ms/step\n",
            "2/2 [==============================] - 1s 439ms/step\n"
          ],
          "name": "stdout"
        },
        {
          "output_type": "stream",
          "text": [
            "C:\\Users\\Evgeniy\\anaconda3\\envs\\boris_env\\lib\\site-packages\\sklearn\\utils\\validation.py:70: FutureWarning: Pass threshold=0.5 as keyword args. From version 1.0 (renaming of 0.25) passing these as positional arguments will result in an error\n",
            "  warnings.warn(f\"Pass {args_msg} as keyword args. From version \"\n",
            "C:\\Users\\Evgeniy\\anaconda3\\envs\\boris_env\\lib\\site-packages\\sklearn\\utils\\validation.py:70: FutureWarning: Pass threshold=0.5 as keyword args. From version 1.0 (renaming of 0.25) passing these as positional arguments will result in an error\n",
            "  warnings.warn(f\"Pass {args_msg} as keyword args. From version \"\n",
            "C:\\Users\\Evgeniy\\anaconda3\\envs\\boris_env\\lib\\site-packages\\sklearn\\utils\\validation.py:70: FutureWarning: Pass threshold=0.5 as keyword args. From version 1.0 (renaming of 0.25) passing these as positional arguments will result in an error\n",
            "  warnings.warn(f\"Pass {args_msg} as keyword args. From version \"\n",
            "C:\\Users\\Evgeniy\\anaconda3\\envs\\boris_env\\lib\\site-packages\\mir_eval\\transcription_velocity.py:185: FutureWarning: `rcond` parameter will change to the default of machine precision times ``max(M, N)`` where M and N are the input matrix dimensions.\n",
            "To use the future default and silence this warning we advise to pass `rcond=None`, to keep using the old, explicitly pass `rcond=-1`.\n",
            "  slope, intercept = np.linalg.lstsq(\n"
          ],
          "name": "stderr"
        },
        {
          "output_type": "stream",
          "text": [
            "\t9 of 11\n",
            "2/2 [==============================] - 1s 560ms/step\n",
            "2/2 [==============================] - 1s 531ms/step\n",
            "2/2 [==============================] - 0s 129ms/step\n",
            "2/2 [==============================] - 1s 519ms/step\n"
          ],
          "name": "stdout"
        },
        {
          "output_type": "stream",
          "text": [
            "C:\\Users\\Evgeniy\\anaconda3\\envs\\boris_env\\lib\\site-packages\\sklearn\\utils\\validation.py:70: FutureWarning: Pass threshold=0.5 as keyword args. From version 1.0 (renaming of 0.25) passing these as positional arguments will result in an error\n",
            "  warnings.warn(f\"Pass {args_msg} as keyword args. From version \"\n",
            "C:\\Users\\Evgeniy\\anaconda3\\envs\\boris_env\\lib\\site-packages\\sklearn\\utils\\validation.py:70: FutureWarning: Pass threshold=0.5 as keyword args. From version 1.0 (renaming of 0.25) passing these as positional arguments will result in an error\n",
            "  warnings.warn(f\"Pass {args_msg} as keyword args. From version \"\n",
            "C:\\Users\\Evgeniy\\anaconda3\\envs\\boris_env\\lib\\site-packages\\sklearn\\utils\\validation.py:70: FutureWarning: Pass threshold=0.5 as keyword args. From version 1.0 (renaming of 0.25) passing these as positional arguments will result in an error\n",
            "  warnings.warn(f\"Pass {args_msg} as keyword args. From version \"\n",
            "C:\\Users\\Evgeniy\\anaconda3\\envs\\boris_env\\lib\\site-packages\\mir_eval\\transcription_velocity.py:185: FutureWarning: `rcond` parameter will change to the default of machine precision times ``max(M, N)`` where M and N are the input matrix dimensions.\n",
            "To use the future default and silence this warning we advise to pass `rcond=None`, to keep using the old, explicitly pass `rcond=-1`.\n",
            "  slope, intercept = np.linalg.lstsq(\n"
          ],
          "name": "stderr"
        },
        {
          "output_type": "stream",
          "text": [
            "\t10 of 11\n",
            "2/2 [==============================] - 1s 445ms/step\n",
            "2/2 [==============================] - 1s 514ms/step\n",
            "2/2 [==============================] - 0s 83ms/step\n",
            "2/2 [==============================] - 1s 466ms/step\n"
          ],
          "name": "stdout"
        },
        {
          "output_type": "stream",
          "text": [
            "C:\\Users\\Evgeniy\\anaconda3\\envs\\boris_env\\lib\\site-packages\\sklearn\\utils\\validation.py:70: FutureWarning: Pass threshold=0.5 as keyword args. From version 1.0 (renaming of 0.25) passing these as positional arguments will result in an error\n",
            "  warnings.warn(f\"Pass {args_msg} as keyword args. From version \"\n",
            "C:\\Users\\Evgeniy\\anaconda3\\envs\\boris_env\\lib\\site-packages\\sklearn\\utils\\validation.py:70: FutureWarning: Pass threshold=0.5 as keyword args. From version 1.0 (renaming of 0.25) passing these as positional arguments will result in an error\n",
            "  warnings.warn(f\"Pass {args_msg} as keyword args. From version \"\n",
            "C:\\Users\\Evgeniy\\anaconda3\\envs\\boris_env\\lib\\site-packages\\sklearn\\utils\\validation.py:70: FutureWarning: Pass threshold=0.5 as keyword args. From version 1.0 (renaming of 0.25) passing these as positional arguments will result in an error\n",
            "  warnings.warn(f\"Pass {args_msg} as keyword args. From version \"\n",
            "C:\\Users\\Evgeniy\\anaconda3\\envs\\boris_env\\lib\\site-packages\\mir_eval\\transcription_velocity.py:185: FutureWarning: `rcond` parameter will change to the default of machine precision times ``max(M, N)`` where M and N are the input matrix dimensions.\n",
            "To use the future default and silence this warning we advise to pass `rcond=None`, to keep using the old, explicitly pass `rcond=-1`.\n",
            "  slope, intercept = np.linalg.lstsq(\n"
          ],
          "name": "stderr"
        },
        {
          "output_type": "stream",
          "text": [
            "\t11 of 11\n",
            "2/2 [==============================] - 1s 400ms/step\n",
            "2/2 [==============================] - 1s 437ms/step\n",
            "2/2 [==============================] - 0s 39ms/step\n",
            "2/2 [==============================] - 1s 403ms/step\n"
          ],
          "name": "stdout"
        },
        {
          "output_type": "stream",
          "text": [
            "C:\\Users\\Evgeniy\\anaconda3\\envs\\boris_env\\lib\\site-packages\\sklearn\\utils\\validation.py:70: FutureWarning: Pass threshold=0.5 as keyword args. From version 1.0 (renaming of 0.25) passing these as positional arguments will result in an error\n",
            "  warnings.warn(f\"Pass {args_msg} as keyword args. From version \"\n",
            "C:\\Users\\Evgeniy\\anaconda3\\envs\\boris_env\\lib\\site-packages\\sklearn\\utils\\validation.py:70: FutureWarning: Pass threshold=0.5 as keyword args. From version 1.0 (renaming of 0.25) passing these as positional arguments will result in an error\n",
            "  warnings.warn(f\"Pass {args_msg} as keyword args. From version \"\n",
            "C:\\Users\\Evgeniy\\anaconda3\\envs\\boris_env\\lib\\site-packages\\sklearn\\utils\\validation.py:70: FutureWarning: Pass threshold=0.5 as keyword args. From version 1.0 (renaming of 0.25) passing these as positional arguments will result in an error\n",
            "  warnings.warn(f\"Pass {args_msg} as keyword args. From version \"\n",
            "C:\\Users\\Evgeniy\\anaconda3\\envs\\boris_env\\lib\\site-packages\\mir_eval\\transcription_velocity.py:185: FutureWarning: `rcond` parameter will change to the default of machine precision times ``max(M, N)`` where M and N are the input matrix dimensions.\n",
            "To use the future default and silence this warning we advise to pass `rcond=None`, to keep using the old, explicitly pass `rcond=-1`.\n",
            "  slope, intercept = np.linalg.lstsq(\n"
          ],
          "name": "stderr"
        },
        {
          "output_type": "stream",
          "text": [
            "\n",
            "Onsets: \n",
            "Precision (specificity) = 80.92%\n",
            "Recall    (sensitivity) = 89.34%\n",
            "F1-score                = 84.76%\n",
            "\n",
            "Frames: \n",
            "Precision (specificity) = 63.30%\n",
            "Recall    (sensitivity) = 69.87%\n",
            "F1-score                = 66.30%\n",
            "\n",
            "Volumes:\n",
            "Precision (specificity) = 60.67%\n",
            "Recall    (sensitivity) = 66.95%\n",
            "F1-score                = 63.53%\n",
            "\n",
            "Actual and predicted average number of onsets: 1.75 1.70\n",
            "Predicts less notes than actual (specific classifier)\n",
            "\n",
            "Maestro/1-5 seconds/test\\2008\n",
            "\t1 of 22\n",
            "1/1 [==============================] - 0s 472ms/step\n",
            "1/1 [==============================] - 0s 456ms/step\n",
            "1/1 [==============================] - 0s 64ms/step\n",
            "1/1 [==============================] - 0s 438ms/step\n"
          ],
          "name": "stdout"
        },
        {
          "output_type": "stream",
          "text": [
            "C:\\Users\\Evgeniy\\anaconda3\\envs\\boris_env\\lib\\site-packages\\sklearn\\utils\\validation.py:70: FutureWarning: Pass threshold=0.5 as keyword args. From version 1.0 (renaming of 0.25) passing these as positional arguments will result in an error\n",
            "  warnings.warn(f\"Pass {args_msg} as keyword args. From version \"\n",
            "C:\\Users\\Evgeniy\\anaconda3\\envs\\boris_env\\lib\\site-packages\\sklearn\\utils\\validation.py:70: FutureWarning: Pass threshold=0.5 as keyword args. From version 1.0 (renaming of 0.25) passing these as positional arguments will result in an error\n",
            "  warnings.warn(f\"Pass {args_msg} as keyword args. From version \"\n",
            "C:\\Users\\Evgeniy\\anaconda3\\envs\\boris_env\\lib\\site-packages\\sklearn\\utils\\validation.py:70: FutureWarning: Pass threshold=0.5 as keyword args. From version 1.0 (renaming of 0.25) passing these as positional arguments will result in an error\n",
            "  warnings.warn(f\"Pass {args_msg} as keyword args. From version \"\n",
            "C:\\Users\\Evgeniy\\anaconda3\\envs\\boris_env\\lib\\site-packages\\mir_eval\\transcription_velocity.py:185: FutureWarning: `rcond` parameter will change to the default of machine precision times ``max(M, N)`` where M and N are the input matrix dimensions.\n",
            "To use the future default and silence this warning we advise to pass `rcond=None`, to keep using the old, explicitly pass `rcond=-1`.\n",
            "  slope, intercept = np.linalg.lstsq(\n"
          ],
          "name": "stderr"
        },
        {
          "output_type": "stream",
          "text": [
            "\t2 of 22\n",
            "1/1 [==============================] - 1s 540ms/step\n",
            "1/1 [==============================] - 1s 559ms/step\n",
            "1/1 [==============================] - 0s 157ms/step\n",
            "1/1 [==============================] - 1s 599ms/step\n"
          ],
          "name": "stdout"
        },
        {
          "output_type": "stream",
          "text": [
            "C:\\Users\\Evgeniy\\anaconda3\\envs\\boris_env\\lib\\site-packages\\sklearn\\utils\\validation.py:70: FutureWarning: Pass threshold=0.5 as keyword args. From version 1.0 (renaming of 0.25) passing these as positional arguments will result in an error\n",
            "  warnings.warn(f\"Pass {args_msg} as keyword args. From version \"\n",
            "C:\\Users\\Evgeniy\\anaconda3\\envs\\boris_env\\lib\\site-packages\\sklearn\\utils\\validation.py:70: FutureWarning: Pass threshold=0.5 as keyword args. From version 1.0 (renaming of 0.25) passing these as positional arguments will result in an error\n",
            "  warnings.warn(f\"Pass {args_msg} as keyword args. From version \"\n",
            "C:\\Users\\Evgeniy\\anaconda3\\envs\\boris_env\\lib\\site-packages\\sklearn\\utils\\validation.py:70: FutureWarning: Pass threshold=0.5 as keyword args. From version 1.0 (renaming of 0.25) passing these as positional arguments will result in an error\n",
            "  warnings.warn(f\"Pass {args_msg} as keyword args. From version \"\n",
            "C:\\Users\\Evgeniy\\anaconda3\\envs\\boris_env\\lib\\site-packages\\mir_eval\\transcription_velocity.py:185: FutureWarning: `rcond` parameter will change to the default of machine precision times ``max(M, N)`` where M and N are the input matrix dimensions.\n",
            "To use the future default and silence this warning we advise to pass `rcond=None`, to keep using the old, explicitly pass `rcond=-1`.\n",
            "  slope, intercept = np.linalg.lstsq(\n"
          ],
          "name": "stderr"
        },
        {
          "output_type": "stream",
          "text": [
            "\t3 of 22\n",
            "2/2 [==============================] - 1s 395ms/step\n",
            "2/2 [==============================] - 1s 405ms/step\n",
            "2/2 [==============================] - 0s 33ms/step\n",
            "2/2 [==============================] - 1s 391ms/step\n"
          ],
          "name": "stdout"
        },
        {
          "output_type": "stream",
          "text": [
            "C:\\Users\\Evgeniy\\anaconda3\\envs\\boris_env\\lib\\site-packages\\sklearn\\utils\\validation.py:70: FutureWarning: Pass threshold=0.5 as keyword args. From version 1.0 (renaming of 0.25) passing these as positional arguments will result in an error\n",
            "  warnings.warn(f\"Pass {args_msg} as keyword args. From version \"\n",
            "C:\\Users\\Evgeniy\\anaconda3\\envs\\boris_env\\lib\\site-packages\\sklearn\\utils\\validation.py:70: FutureWarning: Pass threshold=0.5 as keyword args. From version 1.0 (renaming of 0.25) passing these as positional arguments will result in an error\n",
            "  warnings.warn(f\"Pass {args_msg} as keyword args. From version \"\n",
            "C:\\Users\\Evgeniy\\anaconda3\\envs\\boris_env\\lib\\site-packages\\sklearn\\utils\\validation.py:70: FutureWarning: Pass threshold=0.5 as keyword args. From version 1.0 (renaming of 0.25) passing these as positional arguments will result in an error\n",
            "  warnings.warn(f\"Pass {args_msg} as keyword args. From version \"\n",
            "C:\\Users\\Evgeniy\\anaconda3\\envs\\boris_env\\lib\\site-packages\\mir_eval\\transcription_velocity.py:185: FutureWarning: `rcond` parameter will change to the default of machine precision times ``max(M, N)`` where M and N are the input matrix dimensions.\n",
            "To use the future default and silence this warning we advise to pass `rcond=None`, to keep using the old, explicitly pass `rcond=-1`.\n",
            "  slope, intercept = np.linalg.lstsq(\n"
          ],
          "name": "stderr"
        },
        {
          "output_type": "stream",
          "text": [
            "\t4 of 22\n",
            "2/2 [==============================] - 1s 479ms/step\n",
            "2/2 [==============================] - 1s 500ms/step\n",
            "2/2 [==============================] - 0s 84ms/step\n",
            "2/2 [==============================] - 1s 487ms/step\n"
          ],
          "name": "stdout"
        },
        {
          "output_type": "stream",
          "text": [
            "C:\\Users\\Evgeniy\\anaconda3\\envs\\boris_env\\lib\\site-packages\\sklearn\\utils\\validation.py:70: FutureWarning: Pass threshold=0.5 as keyword args. From version 1.0 (renaming of 0.25) passing these as positional arguments will result in an error\n",
            "  warnings.warn(f\"Pass {args_msg} as keyword args. From version \"\n",
            "C:\\Users\\Evgeniy\\anaconda3\\envs\\boris_env\\lib\\site-packages\\sklearn\\utils\\validation.py:70: FutureWarning: Pass threshold=0.5 as keyword args. From version 1.0 (renaming of 0.25) passing these as positional arguments will result in an error\n",
            "  warnings.warn(f\"Pass {args_msg} as keyword args. From version \"\n",
            "C:\\Users\\Evgeniy\\anaconda3\\envs\\boris_env\\lib\\site-packages\\sklearn\\utils\\validation.py:70: FutureWarning: Pass threshold=0.5 as keyword args. From version 1.0 (renaming of 0.25) passing these as positional arguments will result in an error\n",
            "  warnings.warn(f\"Pass {args_msg} as keyword args. From version \"\n",
            "C:\\Users\\Evgeniy\\anaconda3\\envs\\boris_env\\lib\\site-packages\\mir_eval\\transcription_velocity.py:185: FutureWarning: `rcond` parameter will change to the default of machine precision times ``max(M, N)`` where M and N are the input matrix dimensions.\n",
            "To use the future default and silence this warning we advise to pass `rcond=None`, to keep using the old, explicitly pass `rcond=-1`.\n",
            "  slope, intercept = np.linalg.lstsq(\n"
          ],
          "name": "stderr"
        },
        {
          "output_type": "stream",
          "text": [
            "\t5 of 22\n",
            "2/2 [==============================] - 1s 517ms/step\n",
            "2/2 [==============================] - 1s 541ms/step\n",
            "2/2 [==============================] - 0s 137ms/step\n",
            "2/2 [==============================] - 1s 588ms/step\n"
          ],
          "name": "stdout"
        },
        {
          "output_type": "stream",
          "text": [
            "C:\\Users\\Evgeniy\\anaconda3\\envs\\boris_env\\lib\\site-packages\\sklearn\\utils\\validation.py:70: FutureWarning: Pass threshold=0.5 as keyword args. From version 1.0 (renaming of 0.25) passing these as positional arguments will result in an error\n",
            "  warnings.warn(f\"Pass {args_msg} as keyword args. From version \"\n",
            "C:\\Users\\Evgeniy\\anaconda3\\envs\\boris_env\\lib\\site-packages\\sklearn\\utils\\validation.py:70: FutureWarning: Pass threshold=0.5 as keyword args. From version 1.0 (renaming of 0.25) passing these as positional arguments will result in an error\n",
            "  warnings.warn(f\"Pass {args_msg} as keyword args. From version \"\n",
            "C:\\Users\\Evgeniy\\anaconda3\\envs\\boris_env\\lib\\site-packages\\sklearn\\utils\\validation.py:70: FutureWarning: Pass threshold=0.5 as keyword args. From version 1.0 (renaming of 0.25) passing these as positional arguments will result in an error\n",
            "  warnings.warn(f\"Pass {args_msg} as keyword args. From version \"\n",
            "C:\\Users\\Evgeniy\\anaconda3\\envs\\boris_env\\lib\\site-packages\\mir_eval\\transcription_velocity.py:185: FutureWarning: `rcond` parameter will change to the default of machine precision times ``max(M, N)`` where M and N are the input matrix dimensions.\n",
            "To use the future default and silence this warning we advise to pass `rcond=None`, to keep using the old, explicitly pass `rcond=-1`.\n",
            "  slope, intercept = np.linalg.lstsq(\n"
          ],
          "name": "stderr"
        },
        {
          "output_type": "stream",
          "text": [
            "\t6 of 22\n",
            "2/2 [==============================] - 1s 475ms/step\n",
            "2/2 [==============================] - 1s 497ms/step\n",
            "2/2 [==============================] - 0s 71ms/step\n",
            "2/2 [==============================] - 1s 469ms/step\n"
          ],
          "name": "stdout"
        },
        {
          "output_type": "stream",
          "text": [
            "C:\\Users\\Evgeniy\\anaconda3\\envs\\boris_env\\lib\\site-packages\\sklearn\\utils\\validation.py:70: FutureWarning: Pass threshold=0.5 as keyword args. From version 1.0 (renaming of 0.25) passing these as positional arguments will result in an error\n",
            "  warnings.warn(f\"Pass {args_msg} as keyword args. From version \"\n",
            "C:\\Users\\Evgeniy\\anaconda3\\envs\\boris_env\\lib\\site-packages\\sklearn\\utils\\validation.py:70: FutureWarning: Pass threshold=0.5 as keyword args. From version 1.0 (renaming of 0.25) passing these as positional arguments will result in an error\n",
            "  warnings.warn(f\"Pass {args_msg} as keyword args. From version \"\n",
            "C:\\Users\\Evgeniy\\anaconda3\\envs\\boris_env\\lib\\site-packages\\sklearn\\utils\\validation.py:70: FutureWarning: Pass threshold=0.5 as keyword args. From version 1.0 (renaming of 0.25) passing these as positional arguments will result in an error\n",
            "  warnings.warn(f\"Pass {args_msg} as keyword args. From version \"\n",
            "C:\\Users\\Evgeniy\\anaconda3\\envs\\boris_env\\lib\\site-packages\\mir_eval\\transcription_velocity.py:185: FutureWarning: `rcond` parameter will change to the default of machine precision times ``max(M, N)`` where M and N are the input matrix dimensions.\n",
            "To use the future default and silence this warning we advise to pass `rcond=None`, to keep using the old, explicitly pass `rcond=-1`.\n",
            "  slope, intercept = np.linalg.lstsq(\n"
          ],
          "name": "stderr"
        },
        {
          "output_type": "stream",
          "text": [
            "\t7 of 22\n",
            "1/1 [==============================] - 1s 1s/step\n",
            "1/1 [==============================] - 1s 663ms/step\n",
            "1/1 [==============================] - 0s 187ms/step\n",
            "1/1 [==============================] - 1s 628ms/step\n"
          ],
          "name": "stdout"
        },
        {
          "output_type": "stream",
          "text": [
            "C:\\Users\\Evgeniy\\anaconda3\\envs\\boris_env\\lib\\site-packages\\sklearn\\utils\\validation.py:70: FutureWarning: Pass threshold=0.5 as keyword args. From version 1.0 (renaming of 0.25) passing these as positional arguments will result in an error\n",
            "  warnings.warn(f\"Pass {args_msg} as keyword args. From version \"\n",
            "C:\\Users\\Evgeniy\\anaconda3\\envs\\boris_env\\lib\\site-packages\\sklearn\\utils\\validation.py:70: FutureWarning: Pass threshold=0.5 as keyword args. From version 1.0 (renaming of 0.25) passing these as positional arguments will result in an error\n",
            "  warnings.warn(f\"Pass {args_msg} as keyword args. From version \"\n",
            "C:\\Users\\Evgeniy\\anaconda3\\envs\\boris_env\\lib\\site-packages\\sklearn\\utils\\validation.py:70: FutureWarning: Pass threshold=0.5 as keyword args. From version 1.0 (renaming of 0.25) passing these as positional arguments will result in an error\n",
            "  warnings.warn(f\"Pass {args_msg} as keyword args. From version \"\n",
            "C:\\Users\\Evgeniy\\anaconda3\\envs\\boris_env\\lib\\site-packages\\mir_eval\\transcription_velocity.py:185: FutureWarning: `rcond` parameter will change to the default of machine precision times ``max(M, N)`` where M and N are the input matrix dimensions.\n",
            "To use the future default and silence this warning we advise to pass `rcond=None`, to keep using the old, explicitly pass `rcond=-1`.\n",
            "  slope, intercept = np.linalg.lstsq(\n"
          ],
          "name": "stderr"
        },
        {
          "output_type": "stream",
          "text": [
            "\t8 of 22\n",
            "2/2 [==============================] - 1s 580ms/step\n",
            "2/2 [==============================] - 1s 650ms/step\n",
            "2/2 [==============================] - 0s 186ms/step\n",
            "2/2 [==============================] - 1s 594ms/step\n"
          ],
          "name": "stdout"
        },
        {
          "output_type": "stream",
          "text": [
            "C:\\Users\\Evgeniy\\anaconda3\\envs\\boris_env\\lib\\site-packages\\sklearn\\utils\\validation.py:70: FutureWarning: Pass threshold=0.5 as keyword args. From version 1.0 (renaming of 0.25) passing these as positional arguments will result in an error\n",
            "  warnings.warn(f\"Pass {args_msg} as keyword args. From version \"\n",
            "C:\\Users\\Evgeniy\\anaconda3\\envs\\boris_env\\lib\\site-packages\\sklearn\\utils\\validation.py:70: FutureWarning: Pass threshold=0.5 as keyword args. From version 1.0 (renaming of 0.25) passing these as positional arguments will result in an error\n",
            "  warnings.warn(f\"Pass {args_msg} as keyword args. From version \"\n",
            "C:\\Users\\Evgeniy\\anaconda3\\envs\\boris_env\\lib\\site-packages\\sklearn\\utils\\validation.py:70: FutureWarning: Pass threshold=0.5 as keyword args. From version 1.0 (renaming of 0.25) passing these as positional arguments will result in an error\n",
            "  warnings.warn(f\"Pass {args_msg} as keyword args. From version \"\n",
            "C:\\Users\\Evgeniy\\anaconda3\\envs\\boris_env\\lib\\site-packages\\mir_eval\\transcription_velocity.py:185: FutureWarning: `rcond` parameter will change to the default of machine precision times ``max(M, N)`` where M and N are the input matrix dimensions.\n",
            "To use the future default and silence this warning we advise to pass `rcond=None`, to keep using the old, explicitly pass `rcond=-1`.\n",
            "  slope, intercept = np.linalg.lstsq(\n"
          ],
          "name": "stderr"
        },
        {
          "output_type": "stream",
          "text": [
            "\t9 of 22\n",
            "2/2 [==============================] - 1s 401ms/step\n",
            "2/2 [==============================] - 1s 404ms/step\n",
            "2/2 [==============================] - 0s 32ms/step\n",
            "2/2 [==============================] - 1s 426ms/step\n"
          ],
          "name": "stdout"
        },
        {
          "output_type": "stream",
          "text": [
            "C:\\Users\\Evgeniy\\anaconda3\\envs\\boris_env\\lib\\site-packages\\sklearn\\utils\\validation.py:70: FutureWarning: Pass threshold=0.5 as keyword args. From version 1.0 (renaming of 0.25) passing these as positional arguments will result in an error\n",
            "  warnings.warn(f\"Pass {args_msg} as keyword args. From version \"\n",
            "C:\\Users\\Evgeniy\\anaconda3\\envs\\boris_env\\lib\\site-packages\\sklearn\\utils\\validation.py:70: FutureWarning: Pass threshold=0.5 as keyword args. From version 1.0 (renaming of 0.25) passing these as positional arguments will result in an error\n",
            "  warnings.warn(f\"Pass {args_msg} as keyword args. From version \"\n",
            "C:\\Users\\Evgeniy\\anaconda3\\envs\\boris_env\\lib\\site-packages\\sklearn\\utils\\validation.py:70: FutureWarning: Pass threshold=0.5 as keyword args. From version 1.0 (renaming of 0.25) passing these as positional arguments will result in an error\n",
            "  warnings.warn(f\"Pass {args_msg} as keyword args. From version \"\n",
            "C:\\Users\\Evgeniy\\anaconda3\\envs\\boris_env\\lib\\site-packages\\mir_eval\\transcription_velocity.py:185: FutureWarning: `rcond` parameter will change to the default of machine precision times ``max(M, N)`` where M and N are the input matrix dimensions.\n",
            "To use the future default and silence this warning we advise to pass `rcond=None`, to keep using the old, explicitly pass `rcond=-1`.\n",
            "  slope, intercept = np.linalg.lstsq(\n"
          ],
          "name": "stderr"
        },
        {
          "output_type": "stream",
          "text": [
            "\t10 of 22\n",
            "1/1 [==============================] - 1s 529ms/step\n",
            "1/1 [==============================] - 0s 498ms/step\n",
            "1/1 [==============================] - 0s 98ms/step\n",
            "1/1 [==============================] - 0s 483ms/step\n"
          ],
          "name": "stdout"
        },
        {
          "output_type": "stream",
          "text": [
            "C:\\Users\\Evgeniy\\anaconda3\\envs\\boris_env\\lib\\site-packages\\sklearn\\utils\\validation.py:70: FutureWarning: Pass threshold=0.5 as keyword args. From version 1.0 (renaming of 0.25) passing these as positional arguments will result in an error\n",
            "  warnings.warn(f\"Pass {args_msg} as keyword args. From version \"\n",
            "C:\\Users\\Evgeniy\\anaconda3\\envs\\boris_env\\lib\\site-packages\\sklearn\\utils\\validation.py:70: FutureWarning: Pass threshold=0.5 as keyword args. From version 1.0 (renaming of 0.25) passing these as positional arguments will result in an error\n",
            "  warnings.warn(f\"Pass {args_msg} as keyword args. From version \"\n",
            "C:\\Users\\Evgeniy\\anaconda3\\envs\\boris_env\\lib\\site-packages\\sklearn\\utils\\validation.py:70: FutureWarning: Pass threshold=0.5 as keyword args. From version 1.0 (renaming of 0.25) passing these as positional arguments will result in an error\n",
            "  warnings.warn(f\"Pass {args_msg} as keyword args. From version \"\n",
            "C:\\Users\\Evgeniy\\anaconda3\\envs\\boris_env\\lib\\site-packages\\mir_eval\\transcription_velocity.py:185: FutureWarning: `rcond` parameter will change to the default of machine precision times ``max(M, N)`` where M and N are the input matrix dimensions.\n",
            "To use the future default and silence this warning we advise to pass `rcond=None`, to keep using the old, explicitly pass `rcond=-1`.\n",
            "  slope, intercept = np.linalg.lstsq(\n"
          ],
          "name": "stderr"
        },
        {
          "output_type": "stream",
          "text": [
            "\t11 of 22\n",
            "2/2 [==============================] - 1s 404ms/step\n",
            "2/2 [==============================] - 1s 461ms/step\n",
            "2/2 [==============================] - 0s 33ms/step\n",
            "2/2 [==============================] - 1s 377ms/step\n"
          ],
          "name": "stdout"
        },
        {
          "output_type": "stream",
          "text": [
            "C:\\Users\\Evgeniy\\anaconda3\\envs\\boris_env\\lib\\site-packages\\sklearn\\utils\\validation.py:70: FutureWarning: Pass threshold=0.5 as keyword args. From version 1.0 (renaming of 0.25) passing these as positional arguments will result in an error\n",
            "  warnings.warn(f\"Pass {args_msg} as keyword args. From version \"\n",
            "C:\\Users\\Evgeniy\\anaconda3\\envs\\boris_env\\lib\\site-packages\\sklearn\\utils\\validation.py:70: FutureWarning: Pass threshold=0.5 as keyword args. From version 1.0 (renaming of 0.25) passing these as positional arguments will result in an error\n",
            "  warnings.warn(f\"Pass {args_msg} as keyword args. From version \"\n",
            "C:\\Users\\Evgeniy\\anaconda3\\envs\\boris_env\\lib\\site-packages\\sklearn\\utils\\validation.py:70: FutureWarning: Pass threshold=0.5 as keyword args. From version 1.0 (renaming of 0.25) passing these as positional arguments will result in an error\n",
            "  warnings.warn(f\"Pass {args_msg} as keyword args. From version \"\n",
            "C:\\Users\\Evgeniy\\anaconda3\\envs\\boris_env\\lib\\site-packages\\mir_eval\\transcription_velocity.py:185: FutureWarning: `rcond` parameter will change to the default of machine precision times ``max(M, N)`` where M and N are the input matrix dimensions.\n",
            "To use the future default and silence this warning we advise to pass `rcond=None`, to keep using the old, explicitly pass `rcond=-1`.\n",
            "  slope, intercept = np.linalg.lstsq(\n"
          ],
          "name": "stderr"
        },
        {
          "output_type": "stream",
          "text": [
            "\t12 of 22\n",
            "1/1 [==============================] - 0s 475ms/step\n",
            "1/1 [==============================] - 1s 557ms/step\n",
            "1/1 [==============================] - 0s 70ms/step\n",
            "1/1 [==============================] - 0s 496ms/step\n"
          ],
          "name": "stdout"
        },
        {
          "output_type": "stream",
          "text": [
            "C:\\Users\\Evgeniy\\anaconda3\\envs\\boris_env\\lib\\site-packages\\sklearn\\utils\\validation.py:70: FutureWarning: Pass threshold=0.5 as keyword args. From version 1.0 (renaming of 0.25) passing these as positional arguments will result in an error\n",
            "  warnings.warn(f\"Pass {args_msg} as keyword args. From version \"\n",
            "C:\\Users\\Evgeniy\\anaconda3\\envs\\boris_env\\lib\\site-packages\\sklearn\\utils\\validation.py:70: FutureWarning: Pass threshold=0.5 as keyword args. From version 1.0 (renaming of 0.25) passing these as positional arguments will result in an error\n",
            "  warnings.warn(f\"Pass {args_msg} as keyword args. From version \"\n",
            "C:\\Users\\Evgeniy\\anaconda3\\envs\\boris_env\\lib\\site-packages\\sklearn\\utils\\validation.py:70: FutureWarning: Pass threshold=0.5 as keyword args. From version 1.0 (renaming of 0.25) passing these as positional arguments will result in an error\n",
            "  warnings.warn(f\"Pass {args_msg} as keyword args. From version \"\n",
            "C:\\Users\\Evgeniy\\anaconda3\\envs\\boris_env\\lib\\site-packages\\mir_eval\\transcription_velocity.py:185: FutureWarning: `rcond` parameter will change to the default of machine precision times ``max(M, N)`` where M and N are the input matrix dimensions.\n",
            "To use the future default and silence this warning we advise to pass `rcond=None`, to keep using the old, explicitly pass `rcond=-1`.\n",
            "  slope, intercept = np.linalg.lstsq(\n"
          ],
          "name": "stderr"
        },
        {
          "output_type": "stream",
          "text": [
            "\t13 of 22\n",
            "2/2 [==============================] - 1s 512ms/step\n",
            "2/2 [==============================] - 1s 453ms/step\n",
            "2/2 [==============================] - 0s 37ms/step\n",
            "2/2 [==============================] - 1s 460ms/step\n"
          ],
          "name": "stdout"
        },
        {
          "output_type": "stream",
          "text": [
            "C:\\Users\\Evgeniy\\anaconda3\\envs\\boris_env\\lib\\site-packages\\sklearn\\utils\\validation.py:70: FutureWarning: Pass threshold=0.5 as keyword args. From version 1.0 (renaming of 0.25) passing these as positional arguments will result in an error\n",
            "  warnings.warn(f\"Pass {args_msg} as keyword args. From version \"\n",
            "C:\\Users\\Evgeniy\\anaconda3\\envs\\boris_env\\lib\\site-packages\\sklearn\\utils\\validation.py:70: FutureWarning: Pass threshold=0.5 as keyword args. From version 1.0 (renaming of 0.25) passing these as positional arguments will result in an error\n",
            "  warnings.warn(f\"Pass {args_msg} as keyword args. From version \"\n",
            "C:\\Users\\Evgeniy\\anaconda3\\envs\\boris_env\\lib\\site-packages\\sklearn\\utils\\validation.py:70: FutureWarning: Pass threshold=0.5 as keyword args. From version 1.0 (renaming of 0.25) passing these as positional arguments will result in an error\n",
            "  warnings.warn(f\"Pass {args_msg} as keyword args. From version \"\n",
            "C:\\Users\\Evgeniy\\anaconda3\\envs\\boris_env\\lib\\site-packages\\mir_eval\\transcription_velocity.py:185: FutureWarning: `rcond` parameter will change to the default of machine precision times ``max(M, N)`` where M and N are the input matrix dimensions.\n",
            "To use the future default and silence this warning we advise to pass `rcond=None`, to keep using the old, explicitly pass `rcond=-1`.\n",
            "  slope, intercept = np.linalg.lstsq(\n"
          ],
          "name": "stderr"
        },
        {
          "output_type": "stream",
          "text": [
            "\t14 of 22\n",
            "1/1 [==============================] - 1s 513ms/step\n",
            "1/1 [==============================] - 1s 543ms/step\n",
            "1/1 [==============================] - 0s 133ms/step\n",
            "1/1 [==============================] - 1s 555ms/step\n"
          ],
          "name": "stdout"
        },
        {
          "output_type": "stream",
          "text": [
            "C:\\Users\\Evgeniy\\anaconda3\\envs\\boris_env\\lib\\site-packages\\sklearn\\utils\\validation.py:70: FutureWarning: Pass threshold=0.5 as keyword args. From version 1.0 (renaming of 0.25) passing these as positional arguments will result in an error\n",
            "  warnings.warn(f\"Pass {args_msg} as keyword args. From version \"\n",
            "C:\\Users\\Evgeniy\\anaconda3\\envs\\boris_env\\lib\\site-packages\\sklearn\\utils\\validation.py:70: FutureWarning: Pass threshold=0.5 as keyword args. From version 1.0 (renaming of 0.25) passing these as positional arguments will result in an error\n",
            "  warnings.warn(f\"Pass {args_msg} as keyword args. From version \"\n",
            "C:\\Users\\Evgeniy\\anaconda3\\envs\\boris_env\\lib\\site-packages\\sklearn\\utils\\validation.py:70: FutureWarning: Pass threshold=0.5 as keyword args. From version 1.0 (renaming of 0.25) passing these as positional arguments will result in an error\n",
            "  warnings.warn(f\"Pass {args_msg} as keyword args. From version \"\n",
            "C:\\Users\\Evgeniy\\anaconda3\\envs\\boris_env\\lib\\site-packages\\mir_eval\\transcription_velocity.py:185: FutureWarning: `rcond` parameter will change to the default of machine precision times ``max(M, N)`` where M and N are the input matrix dimensions.\n",
            "To use the future default and silence this warning we advise to pass `rcond=None`, to keep using the old, explicitly pass `rcond=-1`.\n",
            "  slope, intercept = np.linalg.lstsq(\n"
          ],
          "name": "stderr"
        },
        {
          "output_type": "stream",
          "text": [
            "\t15 of 22\n",
            "1/1 [==============================] - 1s 567ms/step\n",
            "1/1 [==============================] - 1s 594ms/step\n",
            "1/1 [==============================] - 0s 184ms/step\n",
            "1/1 [==============================] - 1s 595ms/step\n"
          ],
          "name": "stdout"
        },
        {
          "output_type": "stream",
          "text": [
            "C:\\Users\\Evgeniy\\anaconda3\\envs\\boris_env\\lib\\site-packages\\sklearn\\utils\\validation.py:70: FutureWarning: Pass threshold=0.5 as keyword args. From version 1.0 (renaming of 0.25) passing these as positional arguments will result in an error\n",
            "  warnings.warn(f\"Pass {args_msg} as keyword args. From version \"\n",
            "C:\\Users\\Evgeniy\\anaconda3\\envs\\boris_env\\lib\\site-packages\\sklearn\\utils\\validation.py:70: FutureWarning: Pass threshold=0.5 as keyword args. From version 1.0 (renaming of 0.25) passing these as positional arguments will result in an error\n",
            "  warnings.warn(f\"Pass {args_msg} as keyword args. From version \"\n",
            "C:\\Users\\Evgeniy\\anaconda3\\envs\\boris_env\\lib\\site-packages\\sklearn\\utils\\validation.py:70: FutureWarning: Pass threshold=0.5 as keyword args. From version 1.0 (renaming of 0.25) passing these as positional arguments will result in an error\n",
            "  warnings.warn(f\"Pass {args_msg} as keyword args. From version \"\n",
            "C:\\Users\\Evgeniy\\anaconda3\\envs\\boris_env\\lib\\site-packages\\mir_eval\\transcription_velocity.py:185: FutureWarning: `rcond` parameter will change to the default of machine precision times ``max(M, N)`` where M and N are the input matrix dimensions.\n",
            "To use the future default and silence this warning we advise to pass `rcond=None`, to keep using the old, explicitly pass `rcond=-1`.\n",
            "  slope, intercept = np.linalg.lstsq(\n"
          ],
          "name": "stderr"
        },
        {
          "output_type": "stream",
          "text": [
            "\t16 of 22\n",
            "1/1 [==============================] - 1s 1s/step\n",
            "1/1 [==============================] - 1s 562ms/step\n",
            "1/1 [==============================] - 0s 123ms/step\n",
            "1/1 [==============================] - 1s 514ms/step\n"
          ],
          "name": "stdout"
        },
        {
          "output_type": "stream",
          "text": [
            "C:\\Users\\Evgeniy\\anaconda3\\envs\\boris_env\\lib\\site-packages\\sklearn\\utils\\validation.py:70: FutureWarning: Pass threshold=0.5 as keyword args. From version 1.0 (renaming of 0.25) passing these as positional arguments will result in an error\n",
            "  warnings.warn(f\"Pass {args_msg} as keyword args. From version \"\n",
            "C:\\Users\\Evgeniy\\anaconda3\\envs\\boris_env\\lib\\site-packages\\sklearn\\utils\\validation.py:70: FutureWarning: Pass threshold=0.5 as keyword args. From version 1.0 (renaming of 0.25) passing these as positional arguments will result in an error\n",
            "  warnings.warn(f\"Pass {args_msg} as keyword args. From version \"\n",
            "C:\\Users\\Evgeniy\\anaconda3\\envs\\boris_env\\lib\\site-packages\\sklearn\\utils\\validation.py:70: FutureWarning: Pass threshold=0.5 as keyword args. From version 1.0 (renaming of 0.25) passing these as positional arguments will result in an error\n",
            "  warnings.warn(f\"Pass {args_msg} as keyword args. From version \"\n",
            "C:\\Users\\Evgeniy\\anaconda3\\envs\\boris_env\\lib\\site-packages\\mir_eval\\transcription_velocity.py:185: FutureWarning: `rcond` parameter will change to the default of machine precision times ``max(M, N)`` where M and N are the input matrix dimensions.\n",
            "To use the future default and silence this warning we advise to pass `rcond=None`, to keep using the old, explicitly pass `rcond=-1`.\n",
            "  slope, intercept = np.linalg.lstsq(\n"
          ],
          "name": "stderr"
        },
        {
          "output_type": "stream",
          "text": [
            "\t17 of 22\n",
            "2/2 [==============================] - 1s 437ms/step\n",
            "2/2 [==============================] - 1s 512ms/step\n",
            "2/2 [==============================] - 0s 72ms/step\n",
            "2/2 [==============================] - 1s 461ms/step\n"
          ],
          "name": "stdout"
        },
        {
          "output_type": "stream",
          "text": [
            "C:\\Users\\Evgeniy\\anaconda3\\envs\\boris_env\\lib\\site-packages\\sklearn\\utils\\validation.py:70: FutureWarning: Pass threshold=0.5 as keyword args. From version 1.0 (renaming of 0.25) passing these as positional arguments will result in an error\n",
            "  warnings.warn(f\"Pass {args_msg} as keyword args. From version \"\n",
            "C:\\Users\\Evgeniy\\anaconda3\\envs\\boris_env\\lib\\site-packages\\sklearn\\utils\\validation.py:70: FutureWarning: Pass threshold=0.5 as keyword args. From version 1.0 (renaming of 0.25) passing these as positional arguments will result in an error\n",
            "  warnings.warn(f\"Pass {args_msg} as keyword args. From version \"\n",
            "C:\\Users\\Evgeniy\\anaconda3\\envs\\boris_env\\lib\\site-packages\\sklearn\\utils\\validation.py:70: FutureWarning: Pass threshold=0.5 as keyword args. From version 1.0 (renaming of 0.25) passing these as positional arguments will result in an error\n",
            "  warnings.warn(f\"Pass {args_msg} as keyword args. From version \"\n",
            "C:\\Users\\Evgeniy\\anaconda3\\envs\\boris_env\\lib\\site-packages\\mir_eval\\transcription_velocity.py:185: FutureWarning: `rcond` parameter will change to the default of machine precision times ``max(M, N)`` where M and N are the input matrix dimensions.\n",
            "To use the future default and silence this warning we advise to pass `rcond=None`, to keep using the old, explicitly pass `rcond=-1`.\n",
            "  slope, intercept = np.linalg.lstsq(\n"
          ],
          "name": "stderr"
        },
        {
          "output_type": "stream",
          "text": [
            "\t18 of 22\n",
            "1/1 [==============================] - 0s 455ms/step\n",
            "1/1 [==============================] - 0s 478ms/step\n",
            "1/1 [==============================] - 0s 89ms/step\n",
            "1/1 [==============================] - 0s 486ms/step\n"
          ],
          "name": "stdout"
        },
        {
          "output_type": "stream",
          "text": [
            "C:\\Users\\Evgeniy\\anaconda3\\envs\\boris_env\\lib\\site-packages\\sklearn\\utils\\validation.py:70: FutureWarning: Pass threshold=0.5 as keyword args. From version 1.0 (renaming of 0.25) passing these as positional arguments will result in an error\n",
            "  warnings.warn(f\"Pass {args_msg} as keyword args. From version \"\n",
            "C:\\Users\\Evgeniy\\anaconda3\\envs\\boris_env\\lib\\site-packages\\sklearn\\utils\\validation.py:70: FutureWarning: Pass threshold=0.5 as keyword args. From version 1.0 (renaming of 0.25) passing these as positional arguments will result in an error\n",
            "  warnings.warn(f\"Pass {args_msg} as keyword args. From version \"\n",
            "C:\\Users\\Evgeniy\\anaconda3\\envs\\boris_env\\lib\\site-packages\\sklearn\\utils\\validation.py:70: FutureWarning: Pass threshold=0.5 as keyword args. From version 1.0 (renaming of 0.25) passing these as positional arguments will result in an error\n",
            "  warnings.warn(f\"Pass {args_msg} as keyword args. From version \"\n",
            "C:\\Users\\Evgeniy\\anaconda3\\envs\\boris_env\\lib\\site-packages\\mir_eval\\transcription_velocity.py:185: FutureWarning: `rcond` parameter will change to the default of machine precision times ``max(M, N)`` where M and N are the input matrix dimensions.\n",
            "To use the future default and silence this warning we advise to pass `rcond=None`, to keep using the old, explicitly pass `rcond=-1`.\n",
            "  slope, intercept = np.linalg.lstsq(\n"
          ],
          "name": "stderr"
        },
        {
          "output_type": "stream",
          "text": [
            "\t19 of 22\n",
            "2/2 [==============================] - 1s 618ms/step\n",
            "2/2 [==============================] - 1s 619ms/step\n",
            "2/2 [==============================] - 0s 376ms/step\n",
            "2/2 [==============================] - 1s 642ms/step\n"
          ],
          "name": "stdout"
        },
        {
          "output_type": "stream",
          "text": [
            "C:\\Users\\Evgeniy\\anaconda3\\envs\\boris_env\\lib\\site-packages\\sklearn\\utils\\validation.py:70: FutureWarning: Pass threshold=0.5 as keyword args. From version 1.0 (renaming of 0.25) passing these as positional arguments will result in an error\n",
            "  warnings.warn(f\"Pass {args_msg} as keyword args. From version \"\n",
            "C:\\Users\\Evgeniy\\anaconda3\\envs\\boris_env\\lib\\site-packages\\sklearn\\utils\\validation.py:70: FutureWarning: Pass threshold=0.5 as keyword args. From version 1.0 (renaming of 0.25) passing these as positional arguments will result in an error\n",
            "  warnings.warn(f\"Pass {args_msg} as keyword args. From version \"\n",
            "C:\\Users\\Evgeniy\\anaconda3\\envs\\boris_env\\lib\\site-packages\\sklearn\\utils\\validation.py:70: FutureWarning: Pass threshold=0.5 as keyword args. From version 1.0 (renaming of 0.25) passing these as positional arguments will result in an error\n",
            "  warnings.warn(f\"Pass {args_msg} as keyword args. From version \"\n",
            "C:\\Users\\Evgeniy\\anaconda3\\envs\\boris_env\\lib\\site-packages\\mir_eval\\transcription_velocity.py:185: FutureWarning: `rcond` parameter will change to the default of machine precision times ``max(M, N)`` where M and N are the input matrix dimensions.\n",
            "To use the future default and silence this warning we advise to pass `rcond=None`, to keep using the old, explicitly pass `rcond=-1`.\n",
            "  slope, intercept = np.linalg.lstsq(\n"
          ],
          "name": "stderr"
        },
        {
          "output_type": "stream",
          "text": [
            "\t20 of 22\n",
            "1/1 [==============================] - 1s 632ms/step\n",
            "1/1 [==============================] - 1s 609ms/step\n",
            "1/1 [==============================] - 0s 199ms/step\n",
            "1/1 [==============================] - 1s 620ms/step\n"
          ],
          "name": "stdout"
        },
        {
          "output_type": "stream",
          "text": [
            "C:\\Users\\Evgeniy\\anaconda3\\envs\\boris_env\\lib\\site-packages\\sklearn\\utils\\validation.py:70: FutureWarning: Pass threshold=0.5 as keyword args. From version 1.0 (renaming of 0.25) passing these as positional arguments will result in an error\n",
            "  warnings.warn(f\"Pass {args_msg} as keyword args. From version \"\n",
            "C:\\Users\\Evgeniy\\anaconda3\\envs\\boris_env\\lib\\site-packages\\sklearn\\utils\\validation.py:70: FutureWarning: Pass threshold=0.5 as keyword args. From version 1.0 (renaming of 0.25) passing these as positional arguments will result in an error\n",
            "  warnings.warn(f\"Pass {args_msg} as keyword args. From version \"\n",
            "C:\\Users\\Evgeniy\\anaconda3\\envs\\boris_env\\lib\\site-packages\\sklearn\\utils\\validation.py:70: FutureWarning: Pass threshold=0.5 as keyword args. From version 1.0 (renaming of 0.25) passing these as positional arguments will result in an error\n",
            "  warnings.warn(f\"Pass {args_msg} as keyword args. From version \"\n",
            "C:\\Users\\Evgeniy\\anaconda3\\envs\\boris_env\\lib\\site-packages\\mir_eval\\transcription_velocity.py:185: FutureWarning: `rcond` parameter will change to the default of machine precision times ``max(M, N)`` where M and N are the input matrix dimensions.\n",
            "To use the future default and silence this warning we advise to pass `rcond=None`, to keep using the old, explicitly pass `rcond=-1`.\n",
            "  slope, intercept = np.linalg.lstsq(\n"
          ],
          "name": "stderr"
        },
        {
          "output_type": "stream",
          "text": [
            "\t21 of 22\n",
            "2/2 [==============================] - 1s 449ms/step\n",
            "2/2 [==============================] - 1s 479ms/step\n",
            "2/2 [==============================] - 0s 60ms/step\n",
            "2/2 [==============================] - 1s 399ms/step\n"
          ],
          "name": "stdout"
        },
        {
          "output_type": "stream",
          "text": [
            "C:\\Users\\Evgeniy\\anaconda3\\envs\\boris_env\\lib\\site-packages\\sklearn\\utils\\validation.py:70: FutureWarning: Pass threshold=0.5 as keyword args. From version 1.0 (renaming of 0.25) passing these as positional arguments will result in an error\n",
            "  warnings.warn(f\"Pass {args_msg} as keyword args. From version \"\n",
            "C:\\Users\\Evgeniy\\anaconda3\\envs\\boris_env\\lib\\site-packages\\sklearn\\utils\\validation.py:70: FutureWarning: Pass threshold=0.5 as keyword args. From version 1.0 (renaming of 0.25) passing these as positional arguments will result in an error\n",
            "  warnings.warn(f\"Pass {args_msg} as keyword args. From version \"\n",
            "C:\\Users\\Evgeniy\\anaconda3\\envs\\boris_env\\lib\\site-packages\\sklearn\\utils\\validation.py:70: FutureWarning: Pass threshold=0.5 as keyword args. From version 1.0 (renaming of 0.25) passing these as positional arguments will result in an error\n",
            "  warnings.warn(f\"Pass {args_msg} as keyword args. From version \"\n",
            "C:\\Users\\Evgeniy\\anaconda3\\envs\\boris_env\\lib\\site-packages\\mir_eval\\transcription_velocity.py:185: FutureWarning: `rcond` parameter will change to the default of machine precision times ``max(M, N)`` where M and N are the input matrix dimensions.\n",
            "To use the future default and silence this warning we advise to pass `rcond=None`, to keep using the old, explicitly pass `rcond=-1`.\n",
            "  slope, intercept = np.linalg.lstsq(\n"
          ],
          "name": "stderr"
        },
        {
          "output_type": "stream",
          "text": [
            "\t22 of 22\n",
            "2/2 [==============================] - 1s 423ms/step\n",
            "2/2 [==============================] - 1s 443ms/step\n",
            "2/2 [==============================] - 0s 34ms/step\n",
            "2/2 [==============================] - 1s 415ms/step\n"
          ],
          "name": "stdout"
        },
        {
          "output_type": "stream",
          "text": [
            "C:\\Users\\Evgeniy\\anaconda3\\envs\\boris_env\\lib\\site-packages\\sklearn\\utils\\validation.py:70: FutureWarning: Pass threshold=0.5 as keyword args. From version 1.0 (renaming of 0.25) passing these as positional arguments will result in an error\n",
            "  warnings.warn(f\"Pass {args_msg} as keyword args. From version \"\n",
            "C:\\Users\\Evgeniy\\anaconda3\\envs\\boris_env\\lib\\site-packages\\sklearn\\utils\\validation.py:70: FutureWarning: Pass threshold=0.5 as keyword args. From version 1.0 (renaming of 0.25) passing these as positional arguments will result in an error\n",
            "  warnings.warn(f\"Pass {args_msg} as keyword args. From version \"\n",
            "C:\\Users\\Evgeniy\\anaconda3\\envs\\boris_env\\lib\\site-packages\\sklearn\\utils\\validation.py:70: FutureWarning: Pass threshold=0.5 as keyword args. From version 1.0 (renaming of 0.25) passing these as positional arguments will result in an error\n",
            "  warnings.warn(f\"Pass {args_msg} as keyword args. From version \"\n",
            "C:\\Users\\Evgeniy\\anaconda3\\envs\\boris_env\\lib\\site-packages\\mir_eval\\transcription_velocity.py:185: FutureWarning: `rcond` parameter will change to the default of machine precision times ``max(M, N)`` where M and N are the input matrix dimensions.\n",
            "To use the future default and silence this warning we advise to pass `rcond=None`, to keep using the old, explicitly pass `rcond=-1`.\n",
            "  slope, intercept = np.linalg.lstsq(\n"
          ],
          "name": "stderr"
        },
        {
          "output_type": "stream",
          "text": [
            "\n",
            "Onsets: \n",
            "Precision (specificity) = 80.40%\n",
            "Recall    (sensitivity) = 88.71%\n",
            "F1-score                = 83.70%\n",
            "\n",
            "Frames: \n",
            "Precision (specificity) = 65.51%\n",
            "Recall    (sensitivity) = 71.74%\n",
            "F1-score                = 68.01%\n",
            "\n",
            "Volumes:\n",
            "Precision (specificity) = 62.97%\n",
            "Recall    (sensitivity) = 68.95%\n",
            "F1-score                = 65.37%\n",
            "\n",
            "Actual and predicted average number of onsets: 1.77 1.71\n",
            "Predicts less notes than actual (specific classifier)\n",
            "\n",
            "Maestro/1-5 seconds/test\\2009\n",
            "\t1 of 17\n",
            "1/1 [==============================] - 1s 537ms/step\n",
            "1/1 [==============================] - 0s 496ms/step\n",
            "1/1 [==============================] - 0s 76ms/step\n",
            "1/1 [==============================] - 0s 454ms/step\n"
          ],
          "name": "stdout"
        },
        {
          "output_type": "stream",
          "text": [
            "C:\\Users\\Evgeniy\\anaconda3\\envs\\boris_env\\lib\\site-packages\\sklearn\\utils\\validation.py:70: FutureWarning: Pass threshold=0.5 as keyword args. From version 1.0 (renaming of 0.25) passing these as positional arguments will result in an error\n",
            "  warnings.warn(f\"Pass {args_msg} as keyword args. From version \"\n",
            "C:\\Users\\Evgeniy\\anaconda3\\envs\\boris_env\\lib\\site-packages\\sklearn\\utils\\validation.py:70: FutureWarning: Pass threshold=0.5 as keyword args. From version 1.0 (renaming of 0.25) passing these as positional arguments will result in an error\n",
            "  warnings.warn(f\"Pass {args_msg} as keyword args. From version \"\n",
            "C:\\Users\\Evgeniy\\anaconda3\\envs\\boris_env\\lib\\site-packages\\sklearn\\utils\\validation.py:70: FutureWarning: Pass threshold=0.5 as keyword args. From version 1.0 (renaming of 0.25) passing these as positional arguments will result in an error\n",
            "  warnings.warn(f\"Pass {args_msg} as keyword args. From version \"\n",
            "C:\\Users\\Evgeniy\\anaconda3\\envs\\boris_env\\lib\\site-packages\\mir_eval\\transcription_velocity.py:185: FutureWarning: `rcond` parameter will change to the default of machine precision times ``max(M, N)`` where M and N are the input matrix dimensions.\n",
            "To use the future default and silence this warning we advise to pass `rcond=None`, to keep using the old, explicitly pass `rcond=-1`.\n",
            "  slope, intercept = np.linalg.lstsq(\n"
          ],
          "name": "stderr"
        },
        {
          "output_type": "stream",
          "text": [
            "\t2 of 17\n",
            "2/2 [==============================] - 1s 401ms/step\n",
            "2/2 [==============================] - 1s 404ms/step\n",
            "2/2 [==============================] - 0s 33ms/step\n",
            "2/2 [==============================] - 1s 435ms/step\n"
          ],
          "name": "stdout"
        },
        {
          "output_type": "stream",
          "text": [
            "C:\\Users\\Evgeniy\\anaconda3\\envs\\boris_env\\lib\\site-packages\\sklearn\\utils\\validation.py:70: FutureWarning: Pass threshold=0.5 as keyword args. From version 1.0 (renaming of 0.25) passing these as positional arguments will result in an error\n",
            "  warnings.warn(f\"Pass {args_msg} as keyword args. From version \"\n",
            "C:\\Users\\Evgeniy\\anaconda3\\envs\\boris_env\\lib\\site-packages\\sklearn\\utils\\validation.py:70: FutureWarning: Pass threshold=0.5 as keyword args. From version 1.0 (renaming of 0.25) passing these as positional arguments will result in an error\n",
            "  warnings.warn(f\"Pass {args_msg} as keyword args. From version \"\n",
            "C:\\Users\\Evgeniy\\anaconda3\\envs\\boris_env\\lib\\site-packages\\sklearn\\utils\\validation.py:70: FutureWarning: Pass threshold=0.5 as keyword args. From version 1.0 (renaming of 0.25) passing these as positional arguments will result in an error\n",
            "  warnings.warn(f\"Pass {args_msg} as keyword args. From version \"\n",
            "C:\\Users\\Evgeniy\\anaconda3\\envs\\boris_env\\lib\\site-packages\\mir_eval\\transcription_velocity.py:185: FutureWarning: `rcond` parameter will change to the default of machine precision times ``max(M, N)`` where M and N are the input matrix dimensions.\n",
            "To use the future default and silence this warning we advise to pass `rcond=None`, to keep using the old, explicitly pass `rcond=-1`.\n",
            "  slope, intercept = np.linalg.lstsq(\n"
          ],
          "name": "stderr"
        },
        {
          "output_type": "stream",
          "text": [
            "\t3 of 17\n",
            "2/2 [==============================] - 1s 454ms/step\n",
            "2/2 [==============================] - 1s 496ms/step\n",
            "2/2 [==============================] - 0s 86ms/step\n",
            "2/2 [==============================] - 1s 446ms/step\n"
          ],
          "name": "stdout"
        },
        {
          "output_type": "stream",
          "text": [
            "C:\\Users\\Evgeniy\\anaconda3\\envs\\boris_env\\lib\\site-packages\\sklearn\\utils\\validation.py:70: FutureWarning: Pass threshold=0.5 as keyword args. From version 1.0 (renaming of 0.25) passing these as positional arguments will result in an error\n",
            "  warnings.warn(f\"Pass {args_msg} as keyword args. From version \"\n",
            "C:\\Users\\Evgeniy\\anaconda3\\envs\\boris_env\\lib\\site-packages\\sklearn\\utils\\validation.py:70: FutureWarning: Pass threshold=0.5 as keyword args. From version 1.0 (renaming of 0.25) passing these as positional arguments will result in an error\n",
            "  warnings.warn(f\"Pass {args_msg} as keyword args. From version \"\n",
            "C:\\Users\\Evgeniy\\anaconda3\\envs\\boris_env\\lib\\site-packages\\sklearn\\utils\\validation.py:70: FutureWarning: Pass threshold=0.5 as keyword args. From version 1.0 (renaming of 0.25) passing these as positional arguments will result in an error\n",
            "  warnings.warn(f\"Pass {args_msg} as keyword args. From version \"\n",
            "C:\\Users\\Evgeniy\\anaconda3\\envs\\boris_env\\lib\\site-packages\\mir_eval\\transcription_velocity.py:185: FutureWarning: `rcond` parameter will change to the default of machine precision times ``max(M, N)`` where M and N are the input matrix dimensions.\n",
            "To use the future default and silence this warning we advise to pass `rcond=None`, to keep using the old, explicitly pass `rcond=-1`.\n",
            "  slope, intercept = np.linalg.lstsq(\n"
          ],
          "name": "stderr"
        },
        {
          "output_type": "stream",
          "text": [
            "\t4 of 17\n",
            "2/2 [==============================] - 1s 513ms/step\n",
            "2/2 [==============================] - 1s 504ms/step\n",
            "2/2 [==============================] - 0s 71ms/step\n",
            "2/2 [==============================] - 1s 507ms/step\n"
          ],
          "name": "stdout"
        },
        {
          "output_type": "stream",
          "text": [
            "C:\\Users\\Evgeniy\\anaconda3\\envs\\boris_env\\lib\\site-packages\\sklearn\\utils\\validation.py:70: FutureWarning: Pass threshold=0.5 as keyword args. From version 1.0 (renaming of 0.25) passing these as positional arguments will result in an error\n",
            "  warnings.warn(f\"Pass {args_msg} as keyword args. From version \"\n",
            "C:\\Users\\Evgeniy\\anaconda3\\envs\\boris_env\\lib\\site-packages\\sklearn\\utils\\validation.py:70: FutureWarning: Pass threshold=0.5 as keyword args. From version 1.0 (renaming of 0.25) passing these as positional arguments will result in an error\n",
            "  warnings.warn(f\"Pass {args_msg} as keyword args. From version \"\n",
            "C:\\Users\\Evgeniy\\anaconda3\\envs\\boris_env\\lib\\site-packages\\sklearn\\utils\\validation.py:70: FutureWarning: Pass threshold=0.5 as keyword args. From version 1.0 (renaming of 0.25) passing these as positional arguments will result in an error\n",
            "  warnings.warn(f\"Pass {args_msg} as keyword args. From version \"\n",
            "C:\\Users\\Evgeniy\\anaconda3\\envs\\boris_env\\lib\\site-packages\\mir_eval\\transcription_velocity.py:185: FutureWarning: `rcond` parameter will change to the default of machine precision times ``max(M, N)`` where M and N are the input matrix dimensions.\n",
            "To use the future default and silence this warning we advise to pass `rcond=None`, to keep using the old, explicitly pass `rcond=-1`.\n",
            "  slope, intercept = np.linalg.lstsq(\n"
          ],
          "name": "stderr"
        },
        {
          "output_type": "stream",
          "text": [
            "\t5 of 17\n",
            "3/3 [==============================] - 2s 532ms/step\n",
            "3/3 [==============================] - 2s 592ms/step\n",
            "3/3 [==============================] - 1s 152ms/step\n",
            "3/3 [==============================] - 2s 578ms/step\n"
          ],
          "name": "stdout"
        },
        {
          "output_type": "stream",
          "text": [
            "C:\\Users\\Evgeniy\\anaconda3\\envs\\boris_env\\lib\\site-packages\\sklearn\\utils\\validation.py:70: FutureWarning: Pass threshold=0.5 as keyword args. From version 1.0 (renaming of 0.25) passing these as positional arguments will result in an error\n",
            "  warnings.warn(f\"Pass {args_msg} as keyword args. From version \"\n",
            "C:\\Users\\Evgeniy\\anaconda3\\envs\\boris_env\\lib\\site-packages\\sklearn\\utils\\validation.py:70: FutureWarning: Pass threshold=0.5 as keyword args. From version 1.0 (renaming of 0.25) passing these as positional arguments will result in an error\n",
            "  warnings.warn(f\"Pass {args_msg} as keyword args. From version \"\n",
            "C:\\Users\\Evgeniy\\anaconda3\\envs\\boris_env\\lib\\site-packages\\sklearn\\utils\\validation.py:70: FutureWarning: Pass threshold=0.5 as keyword args. From version 1.0 (renaming of 0.25) passing these as positional arguments will result in an error\n",
            "  warnings.warn(f\"Pass {args_msg} as keyword args. From version \"\n",
            "C:\\Users\\Evgeniy\\anaconda3\\envs\\boris_env\\lib\\site-packages\\mir_eval\\transcription_velocity.py:185: FutureWarning: `rcond` parameter will change to the default of machine precision times ``max(M, N)`` where M and N are the input matrix dimensions.\n",
            "To use the future default and silence this warning we advise to pass `rcond=None`, to keep using the old, explicitly pass `rcond=-1`.\n",
            "  slope, intercept = np.linalg.lstsq(\n"
          ],
          "name": "stderr"
        },
        {
          "output_type": "stream",
          "text": [
            "\t6 of 17\n",
            "6/6 [==============================] - 3s 551ms/step\n",
            "6/6 [==============================] - 4s 590ms/step\n",
            "6/6 [==============================] - 1s 161ms/step\n",
            "6/6 [==============================] - 3s 566ms/step\n"
          ],
          "name": "stdout"
        },
        {
          "output_type": "stream",
          "text": [
            "C:\\Users\\Evgeniy\\anaconda3\\envs\\boris_env\\lib\\site-packages\\sklearn\\utils\\validation.py:70: FutureWarning: Pass threshold=0.5 as keyword args. From version 1.0 (renaming of 0.25) passing these as positional arguments will result in an error\n",
            "  warnings.warn(f\"Pass {args_msg} as keyword args. From version \"\n",
            "C:\\Users\\Evgeniy\\anaconda3\\envs\\boris_env\\lib\\site-packages\\sklearn\\utils\\validation.py:70: FutureWarning: Pass threshold=0.5 as keyword args. From version 1.0 (renaming of 0.25) passing these as positional arguments will result in an error\n",
            "  warnings.warn(f\"Pass {args_msg} as keyword args. From version \"\n",
            "C:\\Users\\Evgeniy\\anaconda3\\envs\\boris_env\\lib\\site-packages\\sklearn\\utils\\validation.py:70: FutureWarning: Pass threshold=0.5 as keyword args. From version 1.0 (renaming of 0.25) passing these as positional arguments will result in an error\n",
            "  warnings.warn(f\"Pass {args_msg} as keyword args. From version \"\n",
            "C:\\Users\\Evgeniy\\anaconda3\\envs\\boris_env\\lib\\site-packages\\mir_eval\\transcription_velocity.py:185: FutureWarning: `rcond` parameter will change to the default of machine precision times ``max(M, N)`` where M and N are the input matrix dimensions.\n",
            "To use the future default and silence this warning we advise to pass `rcond=None`, to keep using the old, explicitly pass `rcond=-1`.\n",
            "  slope, intercept = np.linalg.lstsq(\n"
          ],
          "name": "stderr"
        },
        {
          "output_type": "stream",
          "text": [
            "\t7 of 17\n",
            "5/5 [==============================] - 3s 570ms/step\n",
            "5/5 [==============================] - 3s 615ms/step\n",
            "5/5 [==============================] - 1s 174ms/step\n",
            "5/5 [==============================] - 3s 574ms/step\n"
          ],
          "name": "stdout"
        },
        {
          "output_type": "stream",
          "text": [
            "C:\\Users\\Evgeniy\\anaconda3\\envs\\boris_env\\lib\\site-packages\\sklearn\\utils\\validation.py:70: FutureWarning: Pass threshold=0.5 as keyword args. From version 1.0 (renaming of 0.25) passing these as positional arguments will result in an error\n",
            "  warnings.warn(f\"Pass {args_msg} as keyword args. From version \"\n",
            "C:\\Users\\Evgeniy\\anaconda3\\envs\\boris_env\\lib\\site-packages\\sklearn\\utils\\validation.py:70: FutureWarning: Pass threshold=0.5 as keyword args. From version 1.0 (renaming of 0.25) passing these as positional arguments will result in an error\n",
            "  warnings.warn(f\"Pass {args_msg} as keyword args. From version \"\n",
            "C:\\Users\\Evgeniy\\anaconda3\\envs\\boris_env\\lib\\site-packages\\sklearn\\utils\\validation.py:70: FutureWarning: Pass threshold=0.5 as keyword args. From version 1.0 (renaming of 0.25) passing these as positional arguments will result in an error\n",
            "  warnings.warn(f\"Pass {args_msg} as keyword args. From version \"\n",
            "C:\\Users\\Evgeniy\\anaconda3\\envs\\boris_env\\lib\\site-packages\\mir_eval\\transcription_velocity.py:185: FutureWarning: `rcond` parameter will change to the default of machine precision times ``max(M, N)`` where M and N are the input matrix dimensions.\n",
            "To use the future default and silence this warning we advise to pass `rcond=None`, to keep using the old, explicitly pass `rcond=-1`.\n",
            "  slope, intercept = np.linalg.lstsq(\n"
          ],
          "name": "stderr"
        },
        {
          "output_type": "stream",
          "text": [
            "\t8 of 17\n",
            "2/2 [==============================] - 1s 387ms/step\n",
            "2/2 [==============================] - 1s 404ms/step\n",
            "2/2 [==============================] - 0s 24ms/step\n",
            "2/2 [==============================] - 1s 469ms/step\n"
          ],
          "name": "stdout"
        },
        {
          "output_type": "stream",
          "text": [
            "C:\\Users\\Evgeniy\\anaconda3\\envs\\boris_env\\lib\\site-packages\\sklearn\\utils\\validation.py:70: FutureWarning: Pass threshold=0.5 as keyword args. From version 1.0 (renaming of 0.25) passing these as positional arguments will result in an error\n",
            "  warnings.warn(f\"Pass {args_msg} as keyword args. From version \"\n",
            "C:\\Users\\Evgeniy\\anaconda3\\envs\\boris_env\\lib\\site-packages\\sklearn\\utils\\validation.py:70: FutureWarning: Pass threshold=0.5 as keyword args. From version 1.0 (renaming of 0.25) passing these as positional arguments will result in an error\n",
            "  warnings.warn(f\"Pass {args_msg} as keyword args. From version \"\n",
            "C:\\Users\\Evgeniy\\anaconda3\\envs\\boris_env\\lib\\site-packages\\sklearn\\utils\\validation.py:70: FutureWarning: Pass threshold=0.5 as keyword args. From version 1.0 (renaming of 0.25) passing these as positional arguments will result in an error\n",
            "  warnings.warn(f\"Pass {args_msg} as keyword args. From version \"\n",
            "C:\\Users\\Evgeniy\\anaconda3\\envs\\boris_env\\lib\\site-packages\\mir_eval\\transcription_velocity.py:185: FutureWarning: `rcond` parameter will change to the default of machine precision times ``max(M, N)`` where M and N are the input matrix dimensions.\n",
            "To use the future default and silence this warning we advise to pass `rcond=None`, to keep using the old, explicitly pass `rcond=-1`.\n",
            "  slope, intercept = np.linalg.lstsq(\n"
          ],
          "name": "stderr"
        },
        {
          "output_type": "stream",
          "text": [
            "\t9 of 17\n",
            "1/1 [==============================] - 1s 592ms/step\n",
            "1/1 [==============================] - 1s 573ms/step\n",
            "1/1 [==============================] - 0s 160ms/step\n",
            "1/1 [==============================] - 1s 600ms/step\n"
          ],
          "name": "stdout"
        },
        {
          "output_type": "stream",
          "text": [
            "C:\\Users\\Evgeniy\\anaconda3\\envs\\boris_env\\lib\\site-packages\\sklearn\\utils\\validation.py:70: FutureWarning: Pass threshold=0.5 as keyword args. From version 1.0 (renaming of 0.25) passing these as positional arguments will result in an error\n",
            "  warnings.warn(f\"Pass {args_msg} as keyword args. From version \"\n",
            "C:\\Users\\Evgeniy\\anaconda3\\envs\\boris_env\\lib\\site-packages\\sklearn\\utils\\validation.py:70: FutureWarning: Pass threshold=0.5 as keyword args. From version 1.0 (renaming of 0.25) passing these as positional arguments will result in an error\n",
            "  warnings.warn(f\"Pass {args_msg} as keyword args. From version \"\n",
            "C:\\Users\\Evgeniy\\anaconda3\\envs\\boris_env\\lib\\site-packages\\sklearn\\utils\\validation.py:70: FutureWarning: Pass threshold=0.5 as keyword args. From version 1.0 (renaming of 0.25) passing these as positional arguments will result in an error\n",
            "  warnings.warn(f\"Pass {args_msg} as keyword args. From version \"\n",
            "C:\\Users\\Evgeniy\\anaconda3\\envs\\boris_env\\lib\\site-packages\\mir_eval\\transcription_velocity.py:185: FutureWarning: `rcond` parameter will change to the default of machine precision times ``max(M, N)`` where M and N are the input matrix dimensions.\n",
            "To use the future default and silence this warning we advise to pass `rcond=None`, to keep using the old, explicitly pass `rcond=-1`.\n",
            "  slope, intercept = np.linalg.lstsq(\n"
          ],
          "name": "stderr"
        },
        {
          "output_type": "stream",
          "text": [
            "\t10 of 17\n",
            "3/3 [==============================] - 2s 585ms/step\n",
            "3/3 [==============================] - 2s 647ms/step\n",
            "3/3 [==============================] - 1s 191ms/step\n",
            "3/3 [==============================] - 2s 601ms/step\n"
          ],
          "name": "stdout"
        },
        {
          "output_type": "stream",
          "text": [
            "C:\\Users\\Evgeniy\\anaconda3\\envs\\boris_env\\lib\\site-packages\\sklearn\\utils\\validation.py:70: FutureWarning: Pass threshold=0.5 as keyword args. From version 1.0 (renaming of 0.25) passing these as positional arguments will result in an error\n",
            "  warnings.warn(f\"Pass {args_msg} as keyword args. From version \"\n",
            "C:\\Users\\Evgeniy\\anaconda3\\envs\\boris_env\\lib\\site-packages\\sklearn\\utils\\validation.py:70: FutureWarning: Pass threshold=0.5 as keyword args. From version 1.0 (renaming of 0.25) passing these as positional arguments will result in an error\n",
            "  warnings.warn(f\"Pass {args_msg} as keyword args. From version \"\n",
            "C:\\Users\\Evgeniy\\anaconda3\\envs\\boris_env\\lib\\site-packages\\sklearn\\utils\\validation.py:70: FutureWarning: Pass threshold=0.5 as keyword args. From version 1.0 (renaming of 0.25) passing these as positional arguments will result in an error\n",
            "  warnings.warn(f\"Pass {args_msg} as keyword args. From version \"\n",
            "C:\\Users\\Evgeniy\\anaconda3\\envs\\boris_env\\lib\\site-packages\\mir_eval\\transcription_velocity.py:185: FutureWarning: `rcond` parameter will change to the default of machine precision times ``max(M, N)`` where M and N are the input matrix dimensions.\n",
            "To use the future default and silence this warning we advise to pass `rcond=None`, to keep using the old, explicitly pass `rcond=-1`.\n",
            "  slope, intercept = np.linalg.lstsq(\n"
          ],
          "name": "stderr"
        },
        {
          "output_type": "stream",
          "text": [
            "\t11 of 17\n",
            "5/5 [==============================] - 3s 556ms/step\n",
            "5/5 [==============================] - 3s 563ms/step\n",
            "5/5 [==============================] - 1s 152ms/step\n",
            "5/5 [==============================] - 3s 543ms/step\n"
          ],
          "name": "stdout"
        },
        {
          "output_type": "stream",
          "text": [
            "C:\\Users\\Evgeniy\\anaconda3\\envs\\boris_env\\lib\\site-packages\\sklearn\\utils\\validation.py:70: FutureWarning: Pass threshold=0.5 as keyword args. From version 1.0 (renaming of 0.25) passing these as positional arguments will result in an error\n",
            "  warnings.warn(f\"Pass {args_msg} as keyword args. From version \"\n",
            "C:\\Users\\Evgeniy\\anaconda3\\envs\\boris_env\\lib\\site-packages\\sklearn\\utils\\validation.py:70: FutureWarning: Pass threshold=0.5 as keyword args. From version 1.0 (renaming of 0.25) passing these as positional arguments will result in an error\n",
            "  warnings.warn(f\"Pass {args_msg} as keyword args. From version \"\n",
            "C:\\Users\\Evgeniy\\anaconda3\\envs\\boris_env\\lib\\site-packages\\sklearn\\utils\\validation.py:70: FutureWarning: Pass threshold=0.5 as keyword args. From version 1.0 (renaming of 0.25) passing these as positional arguments will result in an error\n",
            "  warnings.warn(f\"Pass {args_msg} as keyword args. From version \"\n",
            "C:\\Users\\Evgeniy\\anaconda3\\envs\\boris_env\\lib\\site-packages\\mir_eval\\transcription_velocity.py:185: FutureWarning: `rcond` parameter will change to the default of machine precision times ``max(M, N)`` where M and N are the input matrix dimensions.\n",
            "To use the future default and silence this warning we advise to pass `rcond=None`, to keep using the old, explicitly pass `rcond=-1`.\n",
            "  slope, intercept = np.linalg.lstsq(\n"
          ],
          "name": "stderr"
        },
        {
          "output_type": "stream",
          "text": [
            "\t12 of 17\n",
            "1/1 [==============================] - 1s 545ms/step\n",
            "1/1 [==============================] - 1s 534ms/step\n",
            "1/1 [==============================] - 0s 123ms/step\n",
            "1/1 [==============================] - 0s 500ms/step\n"
          ],
          "name": "stdout"
        },
        {
          "output_type": "stream",
          "text": [
            "C:\\Users\\Evgeniy\\anaconda3\\envs\\boris_env\\lib\\site-packages\\sklearn\\utils\\validation.py:70: FutureWarning: Pass threshold=0.5 as keyword args. From version 1.0 (renaming of 0.25) passing these as positional arguments will result in an error\n",
            "  warnings.warn(f\"Pass {args_msg} as keyword args. From version \"\n",
            "C:\\Users\\Evgeniy\\anaconda3\\envs\\boris_env\\lib\\site-packages\\sklearn\\utils\\validation.py:70: FutureWarning: Pass threshold=0.5 as keyword args. From version 1.0 (renaming of 0.25) passing these as positional arguments will result in an error\n",
            "  warnings.warn(f\"Pass {args_msg} as keyword args. From version \"\n",
            "C:\\Users\\Evgeniy\\anaconda3\\envs\\boris_env\\lib\\site-packages\\sklearn\\utils\\validation.py:70: FutureWarning: Pass threshold=0.5 as keyword args. From version 1.0 (renaming of 0.25) passing these as positional arguments will result in an error\n",
            "  warnings.warn(f\"Pass {args_msg} as keyword args. From version \"\n",
            "C:\\Users\\Evgeniy\\anaconda3\\envs\\boris_env\\lib\\site-packages\\mir_eval\\transcription_velocity.py:185: FutureWarning: `rcond` parameter will change to the default of machine precision times ``max(M, N)`` where M and N are the input matrix dimensions.\n",
            "To use the future default and silence this warning we advise to pass `rcond=None`, to keep using the old, explicitly pass `rcond=-1`.\n",
            "  slope, intercept = np.linalg.lstsq(\n"
          ],
          "name": "stderr"
        },
        {
          "output_type": "stream",
          "text": [
            "\t13 of 17\n",
            "1/1 [==============================] - 1s 533ms/step\n",
            "1/1 [==============================] - 1s 501ms/step\n",
            "1/1 [==============================] - 0s 98ms/step\n",
            "1/1 [==============================] - 0s 496ms/step\n"
          ],
          "name": "stdout"
        },
        {
          "output_type": "stream",
          "text": [
            "C:\\Users\\Evgeniy\\anaconda3\\envs\\boris_env\\lib\\site-packages\\sklearn\\utils\\validation.py:70: FutureWarning: Pass threshold=0.5 as keyword args. From version 1.0 (renaming of 0.25) passing these as positional arguments will result in an error\n",
            "  warnings.warn(f\"Pass {args_msg} as keyword args. From version \"\n",
            "C:\\Users\\Evgeniy\\anaconda3\\envs\\boris_env\\lib\\site-packages\\sklearn\\utils\\validation.py:70: FutureWarning: Pass threshold=0.5 as keyword args. From version 1.0 (renaming of 0.25) passing these as positional arguments will result in an error\n",
            "  warnings.warn(f\"Pass {args_msg} as keyword args. From version \"\n",
            "C:\\Users\\Evgeniy\\anaconda3\\envs\\boris_env\\lib\\site-packages\\sklearn\\utils\\validation.py:70: FutureWarning: Pass threshold=0.5 as keyword args. From version 1.0 (renaming of 0.25) passing these as positional arguments will result in an error\n",
            "  warnings.warn(f\"Pass {args_msg} as keyword args. From version \"\n",
            "C:\\Users\\Evgeniy\\anaconda3\\envs\\boris_env\\lib\\site-packages\\mir_eval\\transcription_velocity.py:185: FutureWarning: `rcond` parameter will change to the default of machine precision times ``max(M, N)`` where M and N are the input matrix dimensions.\n",
            "To use the future default and silence this warning we advise to pass `rcond=None`, to keep using the old, explicitly pass `rcond=-1`.\n",
            "  slope, intercept = np.linalg.lstsq(\n"
          ],
          "name": "stderr"
        },
        {
          "output_type": "stream",
          "text": [
            "\t14 of 17\n",
            "3/3 [==============================] - 2s 567ms/step\n",
            "3/3 [==============================] - 2s 641ms/step\n",
            "3/3 [==============================] - 1s 186ms/step\n",
            "3/3 [==============================] - 2s 582ms/step\n"
          ],
          "name": "stdout"
        },
        {
          "output_type": "stream",
          "text": [
            "C:\\Users\\Evgeniy\\anaconda3\\envs\\boris_env\\lib\\site-packages\\sklearn\\utils\\validation.py:70: FutureWarning: Pass threshold=0.5 as keyword args. From version 1.0 (renaming of 0.25) passing these as positional arguments will result in an error\n",
            "  warnings.warn(f\"Pass {args_msg} as keyword args. From version \"\n",
            "C:\\Users\\Evgeniy\\anaconda3\\envs\\boris_env\\lib\\site-packages\\sklearn\\utils\\validation.py:70: FutureWarning: Pass threshold=0.5 as keyword args. From version 1.0 (renaming of 0.25) passing these as positional arguments will result in an error\n",
            "  warnings.warn(f\"Pass {args_msg} as keyword args. From version \"\n",
            "C:\\Users\\Evgeniy\\anaconda3\\envs\\boris_env\\lib\\site-packages\\sklearn\\utils\\validation.py:70: FutureWarning: Pass threshold=0.5 as keyword args. From version 1.0 (renaming of 0.25) passing these as positional arguments will result in an error\n",
            "  warnings.warn(f\"Pass {args_msg} as keyword args. From version \"\n",
            "C:\\Users\\Evgeniy\\anaconda3\\envs\\boris_env\\lib\\site-packages\\mir_eval\\transcription_velocity.py:185: FutureWarning: `rcond` parameter will change to the default of machine precision times ``max(M, N)`` where M and N are the input matrix dimensions.\n",
            "To use the future default and silence this warning we advise to pass `rcond=None`, to keep using the old, explicitly pass `rcond=-1`.\n",
            "  slope, intercept = np.linalg.lstsq(\n"
          ],
          "name": "stderr"
        },
        {
          "output_type": "stream",
          "text": [
            "\t15 of 17\n",
            "5/5 [==============================] - 3s 607ms/step\n",
            "5/5 [==============================] - 3s 607ms/step\n",
            "5/5 [==============================] - 1s 178ms/step\n",
            "5/5 [==============================] - 3s 596ms/step\n"
          ],
          "name": "stdout"
        },
        {
          "output_type": "stream",
          "text": [
            "C:\\Users\\Evgeniy\\anaconda3\\envs\\boris_env\\lib\\site-packages\\sklearn\\utils\\validation.py:70: FutureWarning: Pass threshold=0.5 as keyword args. From version 1.0 (renaming of 0.25) passing these as positional arguments will result in an error\n",
            "  warnings.warn(f\"Pass {args_msg} as keyword args. From version \"\n",
            "C:\\Users\\Evgeniy\\anaconda3\\envs\\boris_env\\lib\\site-packages\\sklearn\\utils\\validation.py:70: FutureWarning: Pass threshold=0.5 as keyword args. From version 1.0 (renaming of 0.25) passing these as positional arguments will result in an error\n",
            "  warnings.warn(f\"Pass {args_msg} as keyword args. From version \"\n",
            "C:\\Users\\Evgeniy\\anaconda3\\envs\\boris_env\\lib\\site-packages\\sklearn\\utils\\validation.py:70: FutureWarning: Pass threshold=0.5 as keyword args. From version 1.0 (renaming of 0.25) passing these as positional arguments will result in an error\n",
            "  warnings.warn(f\"Pass {args_msg} as keyword args. From version \"\n",
            "C:\\Users\\Evgeniy\\anaconda3\\envs\\boris_env\\lib\\site-packages\\mir_eval\\transcription_velocity.py:185: FutureWarning: `rcond` parameter will change to the default of machine precision times ``max(M, N)`` where M and N are the input matrix dimensions.\n",
            "To use the future default and silence this warning we advise to pass `rcond=None`, to keep using the old, explicitly pass `rcond=-1`.\n",
            "  slope, intercept = np.linalg.lstsq(\n"
          ],
          "name": "stderr"
        },
        {
          "output_type": "stream",
          "text": [
            "\t16 of 17\n",
            "2/2 [==============================] - 1s 454ms/step\n",
            "2/2 [==============================] - 1s 441ms/step\n",
            "2/2 [==============================] - 0s 62ms/step\n",
            "2/2 [==============================] - 1s 392ms/step\n"
          ],
          "name": "stdout"
        },
        {
          "output_type": "stream",
          "text": [
            "C:\\Users\\Evgeniy\\anaconda3\\envs\\boris_env\\lib\\site-packages\\sklearn\\utils\\validation.py:70: FutureWarning: Pass threshold=0.5 as keyword args. From version 1.0 (renaming of 0.25) passing these as positional arguments will result in an error\n",
            "  warnings.warn(f\"Pass {args_msg} as keyword args. From version \"\n",
            "C:\\Users\\Evgeniy\\anaconda3\\envs\\boris_env\\lib\\site-packages\\sklearn\\utils\\validation.py:70: FutureWarning: Pass threshold=0.5 as keyword args. From version 1.0 (renaming of 0.25) passing these as positional arguments will result in an error\n",
            "  warnings.warn(f\"Pass {args_msg} as keyword args. From version \"\n",
            "C:\\Users\\Evgeniy\\anaconda3\\envs\\boris_env\\lib\\site-packages\\sklearn\\utils\\validation.py:70: FutureWarning: Pass threshold=0.5 as keyword args. From version 1.0 (renaming of 0.25) passing these as positional arguments will result in an error\n",
            "  warnings.warn(f\"Pass {args_msg} as keyword args. From version \"\n",
            "C:\\Users\\Evgeniy\\anaconda3\\envs\\boris_env\\lib\\site-packages\\mir_eval\\transcription_velocity.py:185: FutureWarning: `rcond` parameter will change to the default of machine precision times ``max(M, N)`` where M and N are the input matrix dimensions.\n",
            "To use the future default and silence this warning we advise to pass `rcond=None`, to keep using the old, explicitly pass `rcond=-1`.\n",
            "  slope, intercept = np.linalg.lstsq(\n"
          ],
          "name": "stderr"
        },
        {
          "output_type": "stream",
          "text": [
            "\t17 of 17\n",
            "2/2 [==============================] - 1s 456ms/step\n",
            "2/2 [==============================] - 1s 449ms/step\n",
            "2/2 [==============================] - 0s 60ms/step\n",
            "2/2 [==============================] - 1s 449ms/step\n"
          ],
          "name": "stdout"
        },
        {
          "output_type": "stream",
          "text": [
            "C:\\Users\\Evgeniy\\anaconda3\\envs\\boris_env\\lib\\site-packages\\sklearn\\utils\\validation.py:70: FutureWarning: Pass threshold=0.5 as keyword args. From version 1.0 (renaming of 0.25) passing these as positional arguments will result in an error\n",
            "  warnings.warn(f\"Pass {args_msg} as keyword args. From version \"\n",
            "C:\\Users\\Evgeniy\\anaconda3\\envs\\boris_env\\lib\\site-packages\\sklearn\\utils\\validation.py:70: FutureWarning: Pass threshold=0.5 as keyword args. From version 1.0 (renaming of 0.25) passing these as positional arguments will result in an error\n",
            "  warnings.warn(f\"Pass {args_msg} as keyword args. From version \"\n",
            "C:\\Users\\Evgeniy\\anaconda3\\envs\\boris_env\\lib\\site-packages\\sklearn\\utils\\validation.py:70: FutureWarning: Pass threshold=0.5 as keyword args. From version 1.0 (renaming of 0.25) passing these as positional arguments will result in an error\n",
            "  warnings.warn(f\"Pass {args_msg} as keyword args. From version \"\n",
            "C:\\Users\\Evgeniy\\anaconda3\\envs\\boris_env\\lib\\site-packages\\mir_eval\\transcription_velocity.py:185: FutureWarning: `rcond` parameter will change to the default of machine precision times ``max(M, N)`` where M and N are the input matrix dimensions.\n",
            "To use the future default and silence this warning we advise to pass `rcond=None`, to keep using the old, explicitly pass `rcond=-1`.\n",
            "  slope, intercept = np.linalg.lstsq(\n"
          ],
          "name": "stderr"
        },
        {
          "output_type": "stream",
          "text": [
            "\n",
            "Onsets: \n",
            "Precision (specificity) = 84.51%\n",
            "Recall    (sensitivity) = 92.21%\n",
            "F1-score                = 88.00%\n",
            "\n",
            "Frames: \n",
            "Precision (specificity) = 67.02%\n",
            "Recall    (sensitivity) = 72.83%\n",
            "F1-score                = 69.65%\n",
            "\n",
            "Volumes:\n",
            "Precision (specificity) = 63.62%\n",
            "Recall    (sensitivity) = 69.17%\n",
            "F1-score                = 66.13%\n",
            "\n",
            "Actual and predicted average number of onsets: 1.60 1.58\n",
            "Predicts less notes than actual (specific classifier)\n",
            "\n",
            "Maestro/1-5 seconds/test\\2011\n",
            "\t1 of 16\n",
            "2/2 [==============================] - 1s 604ms/step\n",
            "2/2 [==============================] - 1s 647ms/step\n",
            "2/2 [==============================] - 0s 175ms/step\n",
            "2/2 [==============================] - 1s 581ms/step\n"
          ],
          "name": "stdout"
        },
        {
          "output_type": "stream",
          "text": [
            "C:\\Users\\Evgeniy\\anaconda3\\envs\\boris_env\\lib\\site-packages\\sklearn\\utils\\validation.py:70: FutureWarning: Pass threshold=0.5 as keyword args. From version 1.0 (renaming of 0.25) passing these as positional arguments will result in an error\n",
            "  warnings.warn(f\"Pass {args_msg} as keyword args. From version \"\n",
            "C:\\Users\\Evgeniy\\anaconda3\\envs\\boris_env\\lib\\site-packages\\sklearn\\utils\\validation.py:70: FutureWarning: Pass threshold=0.5 as keyword args. From version 1.0 (renaming of 0.25) passing these as positional arguments will result in an error\n",
            "  warnings.warn(f\"Pass {args_msg} as keyword args. From version \"\n",
            "C:\\Users\\Evgeniy\\anaconda3\\envs\\boris_env\\lib\\site-packages\\sklearn\\utils\\validation.py:70: FutureWarning: Pass threshold=0.5 as keyword args. From version 1.0 (renaming of 0.25) passing these as positional arguments will result in an error\n",
            "  warnings.warn(f\"Pass {args_msg} as keyword args. From version \"\n",
            "C:\\Users\\Evgeniy\\anaconda3\\envs\\boris_env\\lib\\site-packages\\mir_eval\\transcription_velocity.py:185: FutureWarning: `rcond` parameter will change to the default of machine precision times ``max(M, N)`` where M and N are the input matrix dimensions.\n",
            "To use the future default and silence this warning we advise to pass `rcond=None`, to keep using the old, explicitly pass `rcond=-1`.\n",
            "  slope, intercept = np.linalg.lstsq(\n"
          ],
          "name": "stderr"
        },
        {
          "output_type": "stream",
          "text": [
            "\t2 of 16\n",
            "1/1 [==============================] - 1s 518ms/step\n",
            "1/1 [==============================] - 1s 510ms/step\n",
            "1/1 [==============================] - 0s 133ms/step\n",
            "1/1 [==============================] - 1s 521ms/step\n"
          ],
          "name": "stdout"
        },
        {
          "output_type": "stream",
          "text": [
            "C:\\Users\\Evgeniy\\anaconda3\\envs\\boris_env\\lib\\site-packages\\sklearn\\utils\\validation.py:70: FutureWarning: Pass threshold=0.5 as keyword args. From version 1.0 (renaming of 0.25) passing these as positional arguments will result in an error\n",
            "  warnings.warn(f\"Pass {args_msg} as keyword args. From version \"\n",
            "C:\\Users\\Evgeniy\\anaconda3\\envs\\boris_env\\lib\\site-packages\\sklearn\\utils\\validation.py:70: FutureWarning: Pass threshold=0.5 as keyword args. From version 1.0 (renaming of 0.25) passing these as positional arguments will result in an error\n",
            "  warnings.warn(f\"Pass {args_msg} as keyword args. From version \"\n",
            "C:\\Users\\Evgeniy\\anaconda3\\envs\\boris_env\\lib\\site-packages\\sklearn\\utils\\validation.py:70: FutureWarning: Pass threshold=0.5 as keyword args. From version 1.0 (renaming of 0.25) passing these as positional arguments will result in an error\n",
            "  warnings.warn(f\"Pass {args_msg} as keyword args. From version \"\n",
            "C:\\Users\\Evgeniy\\anaconda3\\envs\\boris_env\\lib\\site-packages\\mir_eval\\transcription_velocity.py:185: FutureWarning: `rcond` parameter will change to the default of machine precision times ``max(M, N)`` where M and N are the input matrix dimensions.\n",
            "To use the future default and silence this warning we advise to pass `rcond=None`, to keep using the old, explicitly pass `rcond=-1`.\n",
            "  slope, intercept = np.linalg.lstsq(\n"
          ],
          "name": "stderr"
        },
        {
          "output_type": "stream",
          "text": [
            "\t3 of 16\n",
            "2/2 [==============================] - 1s 430ms/step\n",
            "2/2 [==============================] - 1s 460ms/step\n",
            "2/2 [==============================] - 0s 45ms/step\n",
            "2/2 [==============================] - 1s 375ms/step\n"
          ],
          "name": "stdout"
        },
        {
          "output_type": "stream",
          "text": [
            "C:\\Users\\Evgeniy\\anaconda3\\envs\\boris_env\\lib\\site-packages\\sklearn\\utils\\validation.py:70: FutureWarning: Pass threshold=0.5 as keyword args. From version 1.0 (renaming of 0.25) passing these as positional arguments will result in an error\n",
            "  warnings.warn(f\"Pass {args_msg} as keyword args. From version \"\n",
            "C:\\Users\\Evgeniy\\anaconda3\\envs\\boris_env\\lib\\site-packages\\sklearn\\utils\\validation.py:70: FutureWarning: Pass threshold=0.5 as keyword args. From version 1.0 (renaming of 0.25) passing these as positional arguments will result in an error\n",
            "  warnings.warn(f\"Pass {args_msg} as keyword args. From version \"\n",
            "C:\\Users\\Evgeniy\\anaconda3\\envs\\boris_env\\lib\\site-packages\\sklearn\\utils\\validation.py:70: FutureWarning: Pass threshold=0.5 as keyword args. From version 1.0 (renaming of 0.25) passing these as positional arguments will result in an error\n",
            "  warnings.warn(f\"Pass {args_msg} as keyword args. From version \"\n",
            "C:\\Users\\Evgeniy\\anaconda3\\envs\\boris_env\\lib\\site-packages\\mir_eval\\transcription_velocity.py:185: FutureWarning: `rcond` parameter will change to the default of machine precision times ``max(M, N)`` where M and N are the input matrix dimensions.\n",
            "To use the future default and silence this warning we advise to pass `rcond=None`, to keep using the old, explicitly pass `rcond=-1`.\n",
            "  slope, intercept = np.linalg.lstsq(\n"
          ],
          "name": "stderr"
        },
        {
          "output_type": "stream",
          "text": [
            "\t4 of 16\n",
            "2/2 [==============================] - 1s 369ms/step\n",
            "2/2 [==============================] - 1s 404ms/step\n",
            "2/2 [==============================] - 0s 47ms/step\n",
            "2/2 [==============================] - 1s 434ms/step\n"
          ],
          "name": "stdout"
        },
        {
          "output_type": "stream",
          "text": [
            "C:\\Users\\Evgeniy\\anaconda3\\envs\\boris_env\\lib\\site-packages\\sklearn\\utils\\validation.py:70: FutureWarning: Pass threshold=0.5 as keyword args. From version 1.0 (renaming of 0.25) passing these as positional arguments will result in an error\n",
            "  warnings.warn(f\"Pass {args_msg} as keyword args. From version \"\n",
            "C:\\Users\\Evgeniy\\anaconda3\\envs\\boris_env\\lib\\site-packages\\sklearn\\utils\\validation.py:70: FutureWarning: Pass threshold=0.5 as keyword args. From version 1.0 (renaming of 0.25) passing these as positional arguments will result in an error\n",
            "  warnings.warn(f\"Pass {args_msg} as keyword args. From version \"\n",
            "C:\\Users\\Evgeniy\\anaconda3\\envs\\boris_env\\lib\\site-packages\\sklearn\\utils\\validation.py:70: FutureWarning: Pass threshold=0.5 as keyword args. From version 1.0 (renaming of 0.25) passing these as positional arguments will result in an error\n",
            "  warnings.warn(f\"Pass {args_msg} as keyword args. From version \"\n",
            "C:\\Users\\Evgeniy\\anaconda3\\envs\\boris_env\\lib\\site-packages\\mir_eval\\transcription_velocity.py:185: FutureWarning: `rcond` parameter will change to the default of machine precision times ``max(M, N)`` where M and N are the input matrix dimensions.\n",
            "To use the future default and silence this warning we advise to pass `rcond=None`, to keep using the old, explicitly pass `rcond=-1`.\n",
            "  slope, intercept = np.linalg.lstsq(\n"
          ],
          "name": "stderr"
        },
        {
          "output_type": "stream",
          "text": [
            "\t5 of 16\n",
            "2/2 [==============================] - 1s 385ms/step\n",
            "2/2 [==============================] - 1s 447ms/step\n",
            "2/2 [==============================] - 0s 33ms/step\n",
            "2/2 [==============================] - 1s 343ms/step\n"
          ],
          "name": "stdout"
        },
        {
          "output_type": "stream",
          "text": [
            "C:\\Users\\Evgeniy\\anaconda3\\envs\\boris_env\\lib\\site-packages\\sklearn\\utils\\validation.py:70: FutureWarning: Pass threshold=0.5 as keyword args. From version 1.0 (renaming of 0.25) passing these as positional arguments will result in an error\n",
            "  warnings.warn(f\"Pass {args_msg} as keyword args. From version \"\n",
            "C:\\Users\\Evgeniy\\anaconda3\\envs\\boris_env\\lib\\site-packages\\sklearn\\utils\\validation.py:70: FutureWarning: Pass threshold=0.5 as keyword args. From version 1.0 (renaming of 0.25) passing these as positional arguments will result in an error\n",
            "  warnings.warn(f\"Pass {args_msg} as keyword args. From version \"\n",
            "C:\\Users\\Evgeniy\\anaconda3\\envs\\boris_env\\lib\\site-packages\\sklearn\\utils\\validation.py:70: FutureWarning: Pass threshold=0.5 as keyword args. From version 1.0 (renaming of 0.25) passing these as positional arguments will result in an error\n",
            "  warnings.warn(f\"Pass {args_msg} as keyword args. From version \"\n",
            "C:\\Users\\Evgeniy\\anaconda3\\envs\\boris_env\\lib\\site-packages\\mir_eval\\transcription_velocity.py:185: FutureWarning: `rcond` parameter will change to the default of machine precision times ``max(M, N)`` where M and N are the input matrix dimensions.\n",
            "To use the future default and silence this warning we advise to pass `rcond=None`, to keep using the old, explicitly pass `rcond=-1`.\n",
            "  slope, intercept = np.linalg.lstsq(\n"
          ],
          "name": "stderr"
        },
        {
          "output_type": "stream",
          "text": [
            "\t6 of 16\n",
            "2/2 [==============================] - 1s 466ms/step\n",
            "2/2 [==============================] - 1s 467ms/step\n",
            "2/2 [==============================] - 0s 34ms/step\n",
            "2/2 [==============================] - 1s 372ms/step\n"
          ],
          "name": "stdout"
        },
        {
          "output_type": "stream",
          "text": [
            "C:\\Users\\Evgeniy\\anaconda3\\envs\\boris_env\\lib\\site-packages\\sklearn\\utils\\validation.py:70: FutureWarning: Pass threshold=0.5 as keyword args. From version 1.0 (renaming of 0.25) passing these as positional arguments will result in an error\n",
            "  warnings.warn(f\"Pass {args_msg} as keyword args. From version \"\n",
            "C:\\Users\\Evgeniy\\anaconda3\\envs\\boris_env\\lib\\site-packages\\sklearn\\utils\\validation.py:70: FutureWarning: Pass threshold=0.5 as keyword args. From version 1.0 (renaming of 0.25) passing these as positional arguments will result in an error\n",
            "  warnings.warn(f\"Pass {args_msg} as keyword args. From version \"\n",
            "C:\\Users\\Evgeniy\\anaconda3\\envs\\boris_env\\lib\\site-packages\\sklearn\\utils\\validation.py:70: FutureWarning: Pass threshold=0.5 as keyword args. From version 1.0 (renaming of 0.25) passing these as positional arguments will result in an error\n",
            "  warnings.warn(f\"Pass {args_msg} as keyword args. From version \"\n",
            "C:\\Users\\Evgeniy\\anaconda3\\envs\\boris_env\\lib\\site-packages\\mir_eval\\transcription_velocity.py:185: FutureWarning: `rcond` parameter will change to the default of machine precision times ``max(M, N)`` where M and N are the input matrix dimensions.\n",
            "To use the future default and silence this warning we advise to pass `rcond=None`, to keep using the old, explicitly pass `rcond=-1`.\n",
            "  slope, intercept = np.linalg.lstsq(\n"
          ],
          "name": "stderr"
        },
        {
          "output_type": "stream",
          "text": [
            "\t7 of 16\n",
            "1/1 [==============================] - 1s 644ms/step\n",
            "1/1 [==============================] - 1s 776ms/step\n",
            "1/1 [==============================] - 0s 133ms/step\n",
            "1/1 [==============================] - 1s 537ms/step\n"
          ],
          "name": "stdout"
        },
        {
          "output_type": "stream",
          "text": [
            "C:\\Users\\Evgeniy\\anaconda3\\envs\\boris_env\\lib\\site-packages\\sklearn\\utils\\validation.py:70: FutureWarning: Pass threshold=0.5 as keyword args. From version 1.0 (renaming of 0.25) passing these as positional arguments will result in an error\n",
            "  warnings.warn(f\"Pass {args_msg} as keyword args. From version \"\n",
            "C:\\Users\\Evgeniy\\anaconda3\\envs\\boris_env\\lib\\site-packages\\sklearn\\utils\\validation.py:70: FutureWarning: Pass threshold=0.5 as keyword args. From version 1.0 (renaming of 0.25) passing these as positional arguments will result in an error\n",
            "  warnings.warn(f\"Pass {args_msg} as keyword args. From version \"\n",
            "C:\\Users\\Evgeniy\\anaconda3\\envs\\boris_env\\lib\\site-packages\\sklearn\\utils\\validation.py:70: FutureWarning: Pass threshold=0.5 as keyword args. From version 1.0 (renaming of 0.25) passing these as positional arguments will result in an error\n",
            "  warnings.warn(f\"Pass {args_msg} as keyword args. From version \"\n",
            "C:\\Users\\Evgeniy\\anaconda3\\envs\\boris_env\\lib\\site-packages\\mir_eval\\transcription_velocity.py:185: FutureWarning: `rcond` parameter will change to the default of machine precision times ``max(M, N)`` where M and N are the input matrix dimensions.\n",
            "To use the future default and silence this warning we advise to pass `rcond=None`, to keep using the old, explicitly pass `rcond=-1`.\n",
            "  slope, intercept = np.linalg.lstsq(\n"
          ],
          "name": "stderr"
        },
        {
          "output_type": "stream",
          "text": [
            "\t8 of 16\n",
            "1/1 [==============================] - 1s 823ms/step\n",
            "1/1 [==============================] - 1s 862ms/step\n",
            "1/1 [==============================] - 0s 199ms/step\n",
            "1/1 [==============================] - 1s 765ms/step\n"
          ],
          "name": "stdout"
        },
        {
          "output_type": "stream",
          "text": [
            "C:\\Users\\Evgeniy\\anaconda3\\envs\\boris_env\\lib\\site-packages\\sklearn\\utils\\validation.py:70: FutureWarning: Pass threshold=0.5 as keyword args. From version 1.0 (renaming of 0.25) passing these as positional arguments will result in an error\n",
            "  warnings.warn(f\"Pass {args_msg} as keyword args. From version \"\n",
            "C:\\Users\\Evgeniy\\anaconda3\\envs\\boris_env\\lib\\site-packages\\sklearn\\utils\\validation.py:70: FutureWarning: Pass threshold=0.5 as keyword args. From version 1.0 (renaming of 0.25) passing these as positional arguments will result in an error\n",
            "  warnings.warn(f\"Pass {args_msg} as keyword args. From version \"\n",
            "C:\\Users\\Evgeniy\\anaconda3\\envs\\boris_env\\lib\\site-packages\\sklearn\\utils\\validation.py:70: FutureWarning: Pass threshold=0.5 as keyword args. From version 1.0 (renaming of 0.25) passing these as positional arguments will result in an error\n",
            "  warnings.warn(f\"Pass {args_msg} as keyword args. From version \"\n",
            "C:\\Users\\Evgeniy\\anaconda3\\envs\\boris_env\\lib\\site-packages\\mir_eval\\transcription_velocity.py:185: FutureWarning: `rcond` parameter will change to the default of machine precision times ``max(M, N)`` where M and N are the input matrix dimensions.\n",
            "To use the future default and silence this warning we advise to pass `rcond=None`, to keep using the old, explicitly pass `rcond=-1`.\n",
            "  slope, intercept = np.linalg.lstsq(\n"
          ],
          "name": "stderr"
        },
        {
          "output_type": "stream",
          "text": [
            "\t9 of 16\n",
            "1/1 [==============================] - 1s 643ms/step\n",
            "1/1 [==============================] - 1s 662ms/step\n",
            "1/1 [==============================] - 0s 194ms/step\n",
            "1/1 [==============================] - 1s 643ms/step\n"
          ],
          "name": "stdout"
        },
        {
          "output_type": "stream",
          "text": [
            "C:\\Users\\Evgeniy\\anaconda3\\envs\\boris_env\\lib\\site-packages\\sklearn\\utils\\validation.py:70: FutureWarning: Pass threshold=0.5 as keyword args. From version 1.0 (renaming of 0.25) passing these as positional arguments will result in an error\n",
            "  warnings.warn(f\"Pass {args_msg} as keyword args. From version \"\n",
            "C:\\Users\\Evgeniy\\anaconda3\\envs\\boris_env\\lib\\site-packages\\sklearn\\utils\\validation.py:70: FutureWarning: Pass threshold=0.5 as keyword args. From version 1.0 (renaming of 0.25) passing these as positional arguments will result in an error\n",
            "  warnings.warn(f\"Pass {args_msg} as keyword args. From version \"\n",
            "C:\\Users\\Evgeniy\\anaconda3\\envs\\boris_env\\lib\\site-packages\\sklearn\\utils\\validation.py:70: FutureWarning: Pass threshold=0.5 as keyword args. From version 1.0 (renaming of 0.25) passing these as positional arguments will result in an error\n",
            "  warnings.warn(f\"Pass {args_msg} as keyword args. From version \"\n",
            "C:\\Users\\Evgeniy\\anaconda3\\envs\\boris_env\\lib\\site-packages\\mir_eval\\transcription_velocity.py:185: FutureWarning: `rcond` parameter will change to the default of machine precision times ``max(M, N)`` where M and N are the input matrix dimensions.\n",
            "To use the future default and silence this warning we advise to pass `rcond=None`, to keep using the old, explicitly pass `rcond=-1`.\n",
            "  slope, intercept = np.linalg.lstsq(\n"
          ],
          "name": "stderr"
        },
        {
          "output_type": "stream",
          "text": [
            "\t10 of 16\n",
            "2/2 [==============================] - 1s 525ms/step\n",
            "2/2 [==============================] - 1s 515ms/step\n",
            "2/2 [==============================] - 0s 64ms/step\n",
            "2/2 [==============================] - 1s 536ms/step\n"
          ],
          "name": "stdout"
        },
        {
          "output_type": "stream",
          "text": [
            "C:\\Users\\Evgeniy\\anaconda3\\envs\\boris_env\\lib\\site-packages\\sklearn\\utils\\validation.py:70: FutureWarning: Pass threshold=0.5 as keyword args. From version 1.0 (renaming of 0.25) passing these as positional arguments will result in an error\n",
            "  warnings.warn(f\"Pass {args_msg} as keyword args. From version \"\n",
            "C:\\Users\\Evgeniy\\anaconda3\\envs\\boris_env\\lib\\site-packages\\sklearn\\utils\\validation.py:70: FutureWarning: Pass threshold=0.5 as keyword args. From version 1.0 (renaming of 0.25) passing these as positional arguments will result in an error\n",
            "  warnings.warn(f\"Pass {args_msg} as keyword args. From version \"\n",
            "C:\\Users\\Evgeniy\\anaconda3\\envs\\boris_env\\lib\\site-packages\\sklearn\\utils\\validation.py:70: FutureWarning: Pass threshold=0.5 as keyword args. From version 1.0 (renaming of 0.25) passing these as positional arguments will result in an error\n",
            "  warnings.warn(f\"Pass {args_msg} as keyword args. From version \"\n",
            "C:\\Users\\Evgeniy\\anaconda3\\envs\\boris_env\\lib\\site-packages\\mir_eval\\transcription_velocity.py:185: FutureWarning: `rcond` parameter will change to the default of machine precision times ``max(M, N)`` where M and N are the input matrix dimensions.\n",
            "To use the future default and silence this warning we advise to pass `rcond=None`, to keep using the old, explicitly pass `rcond=-1`.\n",
            "  slope, intercept = np.linalg.lstsq(\n"
          ],
          "name": "stderr"
        },
        {
          "output_type": "stream",
          "text": [
            "\t11 of 16\n",
            "2/2 [==============================] - 1s 494ms/step\n",
            "2/2 [==============================] - 1s 524ms/step\n",
            "2/2 [==============================] - 0s 23ms/step\n",
            "2/2 [==============================] - 1s 468ms/step\n"
          ],
          "name": "stdout"
        },
        {
          "output_type": "stream",
          "text": [
            "C:\\Users\\Evgeniy\\anaconda3\\envs\\boris_env\\lib\\site-packages\\sklearn\\utils\\validation.py:70: FutureWarning: Pass threshold=0.5 as keyword args. From version 1.0 (renaming of 0.25) passing these as positional arguments will result in an error\n",
            "  warnings.warn(f\"Pass {args_msg} as keyword args. From version \"\n",
            "C:\\Users\\Evgeniy\\anaconda3\\envs\\boris_env\\lib\\site-packages\\sklearn\\utils\\validation.py:70: FutureWarning: Pass threshold=0.5 as keyword args. From version 1.0 (renaming of 0.25) passing these as positional arguments will result in an error\n",
            "  warnings.warn(f\"Pass {args_msg} as keyword args. From version \"\n",
            "C:\\Users\\Evgeniy\\anaconda3\\envs\\boris_env\\lib\\site-packages\\sklearn\\utils\\validation.py:70: FutureWarning: Pass threshold=0.5 as keyword args. From version 1.0 (renaming of 0.25) passing these as positional arguments will result in an error\n",
            "  warnings.warn(f\"Pass {args_msg} as keyword args. From version \"\n",
            "C:\\Users\\Evgeniy\\anaconda3\\envs\\boris_env\\lib\\site-packages\\mir_eval\\transcription_velocity.py:185: FutureWarning: `rcond` parameter will change to the default of machine precision times ``max(M, N)`` where M and N are the input matrix dimensions.\n",
            "To use the future default and silence this warning we advise to pass `rcond=None`, to keep using the old, explicitly pass `rcond=-1`.\n",
            "  slope, intercept = np.linalg.lstsq(\n"
          ],
          "name": "stderr"
        },
        {
          "output_type": "stream",
          "text": [
            "\t12 of 16\n",
            "1/1 [==============================] - 2s 2s/step\n",
            "1/1 [==============================] - 1s 704ms/step\n",
            "1/1 [==============================] - 0s 184ms/step\n",
            "1/1 [==============================] - 1s 756ms/step\n"
          ],
          "name": "stdout"
        },
        {
          "output_type": "stream",
          "text": [
            "C:\\Users\\Evgeniy\\anaconda3\\envs\\boris_env\\lib\\site-packages\\sklearn\\utils\\validation.py:70: FutureWarning: Pass threshold=0.5 as keyword args. From version 1.0 (renaming of 0.25) passing these as positional arguments will result in an error\n",
            "  warnings.warn(f\"Pass {args_msg} as keyword args. From version \"\n",
            "C:\\Users\\Evgeniy\\anaconda3\\envs\\boris_env\\lib\\site-packages\\sklearn\\utils\\validation.py:70: FutureWarning: Pass threshold=0.5 as keyword args. From version 1.0 (renaming of 0.25) passing these as positional arguments will result in an error\n",
            "  warnings.warn(f\"Pass {args_msg} as keyword args. From version \"\n",
            "C:\\Users\\Evgeniy\\anaconda3\\envs\\boris_env\\lib\\site-packages\\sklearn\\utils\\validation.py:70: FutureWarning: Pass threshold=0.5 as keyword args. From version 1.0 (renaming of 0.25) passing these as positional arguments will result in an error\n",
            "  warnings.warn(f\"Pass {args_msg} as keyword args. From version \"\n",
            "C:\\Users\\Evgeniy\\anaconda3\\envs\\boris_env\\lib\\site-packages\\mir_eval\\transcription_velocity.py:185: FutureWarning: `rcond` parameter will change to the default of machine precision times ``max(M, N)`` where M and N are the input matrix dimensions.\n",
            "To use the future default and silence this warning we advise to pass `rcond=None`, to keep using the old, explicitly pass `rcond=-1`.\n",
            "  slope, intercept = np.linalg.lstsq(\n"
          ],
          "name": "stderr"
        },
        {
          "output_type": "stream",
          "text": [
            "\t13 of 16\n",
            "2/2 [==============================] - 1s 531ms/step\n",
            "2/2 [==============================] - 1s 555ms/step\n",
            "2/2 [==============================] - 0s 117ms/step\n",
            "2/2 [==============================] - 1s 582ms/step\n"
          ],
          "name": "stdout"
        },
        {
          "output_type": "stream",
          "text": [
            "C:\\Users\\Evgeniy\\anaconda3\\envs\\boris_env\\lib\\site-packages\\sklearn\\utils\\validation.py:70: FutureWarning: Pass threshold=0.5 as keyword args. From version 1.0 (renaming of 0.25) passing these as positional arguments will result in an error\n",
            "  warnings.warn(f\"Pass {args_msg} as keyword args. From version \"\n",
            "C:\\Users\\Evgeniy\\anaconda3\\envs\\boris_env\\lib\\site-packages\\sklearn\\utils\\validation.py:70: FutureWarning: Pass threshold=0.5 as keyword args. From version 1.0 (renaming of 0.25) passing these as positional arguments will result in an error\n",
            "  warnings.warn(f\"Pass {args_msg} as keyword args. From version \"\n",
            "C:\\Users\\Evgeniy\\anaconda3\\envs\\boris_env\\lib\\site-packages\\sklearn\\utils\\validation.py:70: FutureWarning: Pass threshold=0.5 as keyword args. From version 1.0 (renaming of 0.25) passing these as positional arguments will result in an error\n",
            "  warnings.warn(f\"Pass {args_msg} as keyword args. From version \"\n",
            "C:\\Users\\Evgeniy\\anaconda3\\envs\\boris_env\\lib\\site-packages\\mir_eval\\transcription_velocity.py:185: FutureWarning: `rcond` parameter will change to the default of machine precision times ``max(M, N)`` where M and N are the input matrix dimensions.\n",
            "To use the future default and silence this warning we advise to pass `rcond=None`, to keep using the old, explicitly pass `rcond=-1`.\n",
            "  slope, intercept = np.linalg.lstsq(\n"
          ],
          "name": "stderr"
        },
        {
          "output_type": "stream",
          "text": [
            "\t14 of 16\n",
            "1/1 [==============================] - 1s 619ms/step\n",
            "1/1 [==============================] - 1s 616ms/step\n",
            "1/1 [==============================] - 0s 108ms/step\n",
            "1/1 [==============================] - 1s 605ms/step\n"
          ],
          "name": "stdout"
        },
        {
          "output_type": "stream",
          "text": [
            "C:\\Users\\Evgeniy\\anaconda3\\envs\\boris_env\\lib\\site-packages\\sklearn\\utils\\validation.py:70: FutureWarning: Pass threshold=0.5 as keyword args. From version 1.0 (renaming of 0.25) passing these as positional arguments will result in an error\n",
            "  warnings.warn(f\"Pass {args_msg} as keyword args. From version \"\n",
            "C:\\Users\\Evgeniy\\anaconda3\\envs\\boris_env\\lib\\site-packages\\sklearn\\utils\\validation.py:70: FutureWarning: Pass threshold=0.5 as keyword args. From version 1.0 (renaming of 0.25) passing these as positional arguments will result in an error\n",
            "  warnings.warn(f\"Pass {args_msg} as keyword args. From version \"\n",
            "C:\\Users\\Evgeniy\\anaconda3\\envs\\boris_env\\lib\\site-packages\\sklearn\\utils\\validation.py:70: FutureWarning: Pass threshold=0.5 as keyword args. From version 1.0 (renaming of 0.25) passing these as positional arguments will result in an error\n",
            "  warnings.warn(f\"Pass {args_msg} as keyword args. From version \"\n",
            "C:\\Users\\Evgeniy\\anaconda3\\envs\\boris_env\\lib\\site-packages\\mir_eval\\transcription_velocity.py:185: FutureWarning: `rcond` parameter will change to the default of machine precision times ``max(M, N)`` where M and N are the input matrix dimensions.\n",
            "To use the future default and silence this warning we advise to pass `rcond=None`, to keep using the old, explicitly pass `rcond=-1`.\n",
            "  slope, intercept = np.linalg.lstsq(\n"
          ],
          "name": "stderr"
        },
        {
          "output_type": "stream",
          "text": [
            "\t15 of 16\n",
            "1/1 [==============================] - 1s 736ms/step\n",
            "1/1 [==============================] - 1s 725ms/step\n",
            "1/1 [==============================] - 0s 206ms/step\n",
            "1/1 [==============================] - 1s 699ms/step\n"
          ],
          "name": "stdout"
        },
        {
          "output_type": "stream",
          "text": [
            "C:\\Users\\Evgeniy\\anaconda3\\envs\\boris_env\\lib\\site-packages\\sklearn\\utils\\validation.py:70: FutureWarning: Pass threshold=0.5 as keyword args. From version 1.0 (renaming of 0.25) passing these as positional arguments will result in an error\n",
            "  warnings.warn(f\"Pass {args_msg} as keyword args. From version \"\n",
            "C:\\Users\\Evgeniy\\anaconda3\\envs\\boris_env\\lib\\site-packages\\sklearn\\utils\\validation.py:70: FutureWarning: Pass threshold=0.5 as keyword args. From version 1.0 (renaming of 0.25) passing these as positional arguments will result in an error\n",
            "  warnings.warn(f\"Pass {args_msg} as keyword args. From version \"\n",
            "C:\\Users\\Evgeniy\\anaconda3\\envs\\boris_env\\lib\\site-packages\\sklearn\\utils\\validation.py:70: FutureWarning: Pass threshold=0.5 as keyword args. From version 1.0 (renaming of 0.25) passing these as positional arguments will result in an error\n",
            "  warnings.warn(f\"Pass {args_msg} as keyword args. From version \"\n",
            "C:\\Users\\Evgeniy\\anaconda3\\envs\\boris_env\\lib\\site-packages\\mir_eval\\transcription_velocity.py:185: FutureWarning: `rcond` parameter will change to the default of machine precision times ``max(M, N)`` where M and N are the input matrix dimensions.\n",
            "To use the future default and silence this warning we advise to pass `rcond=None`, to keep using the old, explicitly pass `rcond=-1`.\n",
            "  slope, intercept = np.linalg.lstsq(\n"
          ],
          "name": "stderr"
        },
        {
          "output_type": "stream",
          "text": [
            "\t16 of 16\n",
            "2/2 [==============================] - 1s 683ms/step\n",
            "2/2 [==============================] - 1s 643ms/step\n",
            "2/2 [==============================] - 0s 176ms/step\n",
            "2/2 [==============================] - 1s 617ms/step\n"
          ],
          "name": "stdout"
        },
        {
          "output_type": "stream",
          "text": [
            "C:\\Users\\Evgeniy\\anaconda3\\envs\\boris_env\\lib\\site-packages\\sklearn\\utils\\validation.py:70: FutureWarning: Pass threshold=0.5 as keyword args. From version 1.0 (renaming of 0.25) passing these as positional arguments will result in an error\n",
            "  warnings.warn(f\"Pass {args_msg} as keyword args. From version \"\n",
            "C:\\Users\\Evgeniy\\anaconda3\\envs\\boris_env\\lib\\site-packages\\sklearn\\utils\\validation.py:70: FutureWarning: Pass threshold=0.5 as keyword args. From version 1.0 (renaming of 0.25) passing these as positional arguments will result in an error\n",
            "  warnings.warn(f\"Pass {args_msg} as keyword args. From version \"\n",
            "C:\\Users\\Evgeniy\\anaconda3\\envs\\boris_env\\lib\\site-packages\\sklearn\\utils\\validation.py:70: FutureWarning: Pass threshold=0.5 as keyword args. From version 1.0 (renaming of 0.25) passing these as positional arguments will result in an error\n",
            "  warnings.warn(f\"Pass {args_msg} as keyword args. From version \"\n",
            "C:\\Users\\Evgeniy\\anaconda3\\envs\\boris_env\\lib\\site-packages\\mir_eval\\transcription_velocity.py:185: FutureWarning: `rcond` parameter will change to the default of machine precision times ``max(M, N)`` where M and N are the input matrix dimensions.\n",
            "To use the future default and silence this warning we advise to pass `rcond=None`, to keep using the old, explicitly pass `rcond=-1`.\n",
            "  slope, intercept = np.linalg.lstsq(\n"
          ],
          "name": "stderr"
        },
        {
          "output_type": "stream",
          "text": [
            "\n",
            "Onsets: \n",
            "Precision (specificity) = 85.86%\n",
            "Recall    (sensitivity) = 91.92%\n",
            "F1-score                = 88.67%\n",
            "\n",
            "Frames: \n",
            "Precision (specificity) = 70.27%\n",
            "Recall    (sensitivity) = 75.14%\n",
            "F1-score                = 72.53%\n",
            "\n",
            "Volumes:\n",
            "Precision (specificity) = 67.46%\n",
            "Recall    (sensitivity) = 72.16%\n",
            "F1-score                = 69.64%\n",
            "\n",
            "Actual and predicted average number of onsets: 1.84 1.79\n",
            "Predicts less notes than actual (specific classifier)\n",
            "\n",
            "Maestro/1-5 seconds/test\\2013\n",
            "\t1 of 10\n",
            "1/1 [==============================] - 1s 656ms/step\n",
            "1/1 [==============================] - 1s 626ms/step\n",
            "1/1 [==============================] - 0s 199ms/step\n",
            "1/1 [==============================] - 1s 624ms/step\n"
          ],
          "name": "stdout"
        },
        {
          "output_type": "stream",
          "text": [
            "C:\\Users\\Evgeniy\\anaconda3\\envs\\boris_env\\lib\\site-packages\\sklearn\\utils\\validation.py:70: FutureWarning: Pass threshold=0.5 as keyword args. From version 1.0 (renaming of 0.25) passing these as positional arguments will result in an error\n",
            "  warnings.warn(f\"Pass {args_msg} as keyword args. From version \"\n",
            "C:\\Users\\Evgeniy\\anaconda3\\envs\\boris_env\\lib\\site-packages\\sklearn\\utils\\validation.py:70: FutureWarning: Pass threshold=0.5 as keyword args. From version 1.0 (renaming of 0.25) passing these as positional arguments will result in an error\n",
            "  warnings.warn(f\"Pass {args_msg} as keyword args. From version \"\n",
            "C:\\Users\\Evgeniy\\anaconda3\\envs\\boris_env\\lib\\site-packages\\sklearn\\utils\\validation.py:70: FutureWarning: Pass threshold=0.5 as keyword args. From version 1.0 (renaming of 0.25) passing these as positional arguments will result in an error\n",
            "  warnings.warn(f\"Pass {args_msg} as keyword args. From version \"\n",
            "C:\\Users\\Evgeniy\\anaconda3\\envs\\boris_env\\lib\\site-packages\\mir_eval\\transcription_velocity.py:185: FutureWarning: `rcond` parameter will change to the default of machine precision times ``max(M, N)`` where M and N are the input matrix dimensions.\n",
            "To use the future default and silence this warning we advise to pass `rcond=None`, to keep using the old, explicitly pass `rcond=-1`.\n",
            "  slope, intercept = np.linalg.lstsq(\n"
          ],
          "name": "stderr"
        },
        {
          "output_type": "stream",
          "text": [
            "\t2 of 10\n",
            "1/1 [==============================] - 1s 679ms/step\n",
            "1/1 [==============================] - 1s 653ms/step\n",
            "1/1 [==============================] - 0s 203ms/step\n",
            "1/1 [==============================] - 1s 643ms/step\n"
          ],
          "name": "stdout"
        },
        {
          "output_type": "stream",
          "text": [
            "C:\\Users\\Evgeniy\\anaconda3\\envs\\boris_env\\lib\\site-packages\\sklearn\\utils\\validation.py:70: FutureWarning: Pass threshold=0.5 as keyword args. From version 1.0 (renaming of 0.25) passing these as positional arguments will result in an error\n",
            "  warnings.warn(f\"Pass {args_msg} as keyword args. From version \"\n",
            "C:\\Users\\Evgeniy\\anaconda3\\envs\\boris_env\\lib\\site-packages\\sklearn\\utils\\validation.py:70: FutureWarning: Pass threshold=0.5 as keyword args. From version 1.0 (renaming of 0.25) passing these as positional arguments will result in an error\n",
            "  warnings.warn(f\"Pass {args_msg} as keyword args. From version \"\n",
            "C:\\Users\\Evgeniy\\anaconda3\\envs\\boris_env\\lib\\site-packages\\sklearn\\utils\\validation.py:70: FutureWarning: Pass threshold=0.5 as keyword args. From version 1.0 (renaming of 0.25) passing these as positional arguments will result in an error\n",
            "  warnings.warn(f\"Pass {args_msg} as keyword args. From version \"\n",
            "C:\\Users\\Evgeniy\\anaconda3\\envs\\boris_env\\lib\\site-packages\\mir_eval\\transcription_velocity.py:185: FutureWarning: `rcond` parameter will change to the default of machine precision times ``max(M, N)`` where M and N are the input matrix dimensions.\n",
            "To use the future default and silence this warning we advise to pass `rcond=None`, to keep using the old, explicitly pass `rcond=-1`.\n",
            "  slope, intercept = np.linalg.lstsq(\n"
          ],
          "name": "stderr"
        },
        {
          "output_type": "stream",
          "text": [
            "\t3 of 10\n",
            "1/1 [==============================] - 1s 628ms/step\n",
            "1/1 [==============================] - 1s 624ms/step\n",
            "1/1 [==============================] - 0s 191ms/step\n",
            "1/1 [==============================] - 1s 564ms/step\n"
          ],
          "name": "stdout"
        },
        {
          "output_type": "stream",
          "text": [
            "C:\\Users\\Evgeniy\\anaconda3\\envs\\boris_env\\lib\\site-packages\\sklearn\\utils\\validation.py:70: FutureWarning: Pass threshold=0.5 as keyword args. From version 1.0 (renaming of 0.25) passing these as positional arguments will result in an error\n",
            "  warnings.warn(f\"Pass {args_msg} as keyword args. From version \"\n",
            "C:\\Users\\Evgeniy\\anaconda3\\envs\\boris_env\\lib\\site-packages\\sklearn\\utils\\validation.py:70: FutureWarning: Pass threshold=0.5 as keyword args. From version 1.0 (renaming of 0.25) passing these as positional arguments will result in an error\n",
            "  warnings.warn(f\"Pass {args_msg} as keyword args. From version \"\n",
            "C:\\Users\\Evgeniy\\anaconda3\\envs\\boris_env\\lib\\site-packages\\sklearn\\utils\\validation.py:70: FutureWarning: Pass threshold=0.5 as keyword args. From version 1.0 (renaming of 0.25) passing these as positional arguments will result in an error\n",
            "  warnings.warn(f\"Pass {args_msg} as keyword args. From version \"\n",
            "C:\\Users\\Evgeniy\\anaconda3\\envs\\boris_env\\lib\\site-packages\\mir_eval\\transcription_velocity.py:185: FutureWarning: `rcond` parameter will change to the default of machine precision times ``max(M, N)`` where M and N are the input matrix dimensions.\n",
            "To use the future default and silence this warning we advise to pass `rcond=None`, to keep using the old, explicitly pass `rcond=-1`.\n",
            "  slope, intercept = np.linalg.lstsq(\n"
          ],
          "name": "stderr"
        },
        {
          "output_type": "stream",
          "text": [
            "\t4 of 10\n",
            "2/2 [==============================] - 1s 636ms/step\n",
            "2/2 [==============================] - 1s 625ms/step\n",
            "2/2 [==============================] - 0s 137ms/step\n",
            "2/2 [==============================] - 1s 591ms/step\n"
          ],
          "name": "stdout"
        },
        {
          "output_type": "stream",
          "text": [
            "C:\\Users\\Evgeniy\\anaconda3\\envs\\boris_env\\lib\\site-packages\\sklearn\\utils\\validation.py:70: FutureWarning: Pass threshold=0.5 as keyword args. From version 1.0 (renaming of 0.25) passing these as positional arguments will result in an error\n",
            "  warnings.warn(f\"Pass {args_msg} as keyword args. From version \"\n",
            "C:\\Users\\Evgeniy\\anaconda3\\envs\\boris_env\\lib\\site-packages\\sklearn\\utils\\validation.py:70: FutureWarning: Pass threshold=0.5 as keyword args. From version 1.0 (renaming of 0.25) passing these as positional arguments will result in an error\n",
            "  warnings.warn(f\"Pass {args_msg} as keyword args. From version \"\n",
            "C:\\Users\\Evgeniy\\anaconda3\\envs\\boris_env\\lib\\site-packages\\sklearn\\utils\\validation.py:70: FutureWarning: Pass threshold=0.5 as keyword args. From version 1.0 (renaming of 0.25) passing these as positional arguments will result in an error\n",
            "  warnings.warn(f\"Pass {args_msg} as keyword args. From version \"\n",
            "C:\\Users\\Evgeniy\\anaconda3\\envs\\boris_env\\lib\\site-packages\\mir_eval\\transcription_velocity.py:185: FutureWarning: `rcond` parameter will change to the default of machine precision times ``max(M, N)`` where M and N are the input matrix dimensions.\n",
            "To use the future default and silence this warning we advise to pass `rcond=None`, to keep using the old, explicitly pass `rcond=-1`.\n",
            "  slope, intercept = np.linalg.lstsq(\n"
          ],
          "name": "stderr"
        },
        {
          "output_type": "stream",
          "text": [
            "\t5 of 10\n",
            "2/2 [==============================] - 1s 661ms/step\n",
            "2/2 [==============================] - 1s 550ms/step\n",
            "2/2 [==============================] - 0s 83ms/step\n",
            "2/2 [==============================] - 1s 580ms/step\n"
          ],
          "name": "stdout"
        },
        {
          "output_type": "stream",
          "text": [
            "C:\\Users\\Evgeniy\\anaconda3\\envs\\boris_env\\lib\\site-packages\\sklearn\\utils\\validation.py:70: FutureWarning: Pass threshold=0.5 as keyword args. From version 1.0 (renaming of 0.25) passing these as positional arguments will result in an error\n",
            "  warnings.warn(f\"Pass {args_msg} as keyword args. From version \"\n",
            "C:\\Users\\Evgeniy\\anaconda3\\envs\\boris_env\\lib\\site-packages\\sklearn\\utils\\validation.py:70: FutureWarning: Pass threshold=0.5 as keyword args. From version 1.0 (renaming of 0.25) passing these as positional arguments will result in an error\n",
            "  warnings.warn(f\"Pass {args_msg} as keyword args. From version \"\n",
            "C:\\Users\\Evgeniy\\anaconda3\\envs\\boris_env\\lib\\site-packages\\sklearn\\utils\\validation.py:70: FutureWarning: Pass threshold=0.5 as keyword args. From version 1.0 (renaming of 0.25) passing these as positional arguments will result in an error\n",
            "  warnings.warn(f\"Pass {args_msg} as keyword args. From version \"\n",
            "C:\\Users\\Evgeniy\\anaconda3\\envs\\boris_env\\lib\\site-packages\\mir_eval\\transcription_velocity.py:185: FutureWarning: `rcond` parameter will change to the default of machine precision times ``max(M, N)`` where M and N are the input matrix dimensions.\n",
            "To use the future default and silence this warning we advise to pass `rcond=None`, to keep using the old, explicitly pass `rcond=-1`.\n",
            "  slope, intercept = np.linalg.lstsq(\n"
          ],
          "name": "stderr"
        },
        {
          "output_type": "stream",
          "text": [
            "\t6 of 10\n",
            "4/4 [==============================] - 3s 691ms/step\n",
            "4/4 [==============================] - 3s 702ms/step\n",
            "4/4 [==============================] - 1s 176ms/step\n",
            "4/4 [==============================] - 3s 668ms/step\n"
          ],
          "name": "stdout"
        },
        {
          "output_type": "stream",
          "text": [
            "C:\\Users\\Evgeniy\\anaconda3\\envs\\boris_env\\lib\\site-packages\\sklearn\\utils\\validation.py:70: FutureWarning: Pass threshold=0.5 as keyword args. From version 1.0 (renaming of 0.25) passing these as positional arguments will result in an error\n",
            "  warnings.warn(f\"Pass {args_msg} as keyword args. From version \"\n",
            "C:\\Users\\Evgeniy\\anaconda3\\envs\\boris_env\\lib\\site-packages\\sklearn\\utils\\validation.py:70: FutureWarning: Pass threshold=0.5 as keyword args. From version 1.0 (renaming of 0.25) passing these as positional arguments will result in an error\n",
            "  warnings.warn(f\"Pass {args_msg} as keyword args. From version \"\n",
            "C:\\Users\\Evgeniy\\anaconda3\\envs\\boris_env\\lib\\site-packages\\sklearn\\utils\\validation.py:70: FutureWarning: Pass threshold=0.5 as keyword args. From version 1.0 (renaming of 0.25) passing these as positional arguments will result in an error\n",
            "  warnings.warn(f\"Pass {args_msg} as keyword args. From version \"\n",
            "C:\\Users\\Evgeniy\\anaconda3\\envs\\boris_env\\lib\\site-packages\\mir_eval\\transcription_velocity.py:185: FutureWarning: `rcond` parameter will change to the default of machine precision times ``max(M, N)`` where M and N are the input matrix dimensions.\n",
            "To use the future default and silence this warning we advise to pass `rcond=None`, to keep using the old, explicitly pass `rcond=-1`.\n",
            "  slope, intercept = np.linalg.lstsq(\n"
          ],
          "name": "stderr"
        },
        {
          "output_type": "stream",
          "text": [
            "\t7 of 10\n",
            "2/2 [==============================] - 1s 511ms/step\n",
            "2/2 [==============================] - 1s 609ms/step\n",
            "2/2 [==============================] - 0s 46ms/step\n",
            "2/2 [==============================] - 1s 501ms/step\n"
          ],
          "name": "stdout"
        },
        {
          "output_type": "stream",
          "text": [
            "C:\\Users\\Evgeniy\\anaconda3\\envs\\boris_env\\lib\\site-packages\\sklearn\\utils\\validation.py:70: FutureWarning: Pass threshold=0.5 as keyword args. From version 1.0 (renaming of 0.25) passing these as positional arguments will result in an error\n",
            "  warnings.warn(f\"Pass {args_msg} as keyword args. From version \"\n",
            "C:\\Users\\Evgeniy\\anaconda3\\envs\\boris_env\\lib\\site-packages\\sklearn\\utils\\validation.py:70: FutureWarning: Pass threshold=0.5 as keyword args. From version 1.0 (renaming of 0.25) passing these as positional arguments will result in an error\n",
            "  warnings.warn(f\"Pass {args_msg} as keyword args. From version \"\n",
            "C:\\Users\\Evgeniy\\anaconda3\\envs\\boris_env\\lib\\site-packages\\sklearn\\utils\\validation.py:70: FutureWarning: Pass threshold=0.5 as keyword args. From version 1.0 (renaming of 0.25) passing these as positional arguments will result in an error\n",
            "  warnings.warn(f\"Pass {args_msg} as keyword args. From version \"\n",
            "C:\\Users\\Evgeniy\\anaconda3\\envs\\boris_env\\lib\\site-packages\\mir_eval\\transcription_velocity.py:185: FutureWarning: `rcond` parameter will change to the default of machine precision times ``max(M, N)`` where M and N are the input matrix dimensions.\n",
            "To use the future default and silence this warning we advise to pass `rcond=None`, to keep using the old, explicitly pass `rcond=-1`.\n",
            "  slope, intercept = np.linalg.lstsq(\n"
          ],
          "name": "stderr"
        },
        {
          "output_type": "stream",
          "text": [
            "\t8 of 10\n",
            "1/1 [==============================] - 1s 731ms/step\n",
            "1/1 [==============================] - 1s 657ms/step\n",
            "1/1 [==============================] - 0s 165ms/step\n",
            "1/1 [==============================] - 1s 658ms/step\n"
          ],
          "name": "stdout"
        },
        {
          "output_type": "stream",
          "text": [
            "C:\\Users\\Evgeniy\\anaconda3\\envs\\boris_env\\lib\\site-packages\\sklearn\\utils\\validation.py:70: FutureWarning: Pass threshold=0.5 as keyword args. From version 1.0 (renaming of 0.25) passing these as positional arguments will result in an error\n",
            "  warnings.warn(f\"Pass {args_msg} as keyword args. From version \"\n",
            "C:\\Users\\Evgeniy\\anaconda3\\envs\\boris_env\\lib\\site-packages\\sklearn\\utils\\validation.py:70: FutureWarning: Pass threshold=0.5 as keyword args. From version 1.0 (renaming of 0.25) passing these as positional arguments will result in an error\n",
            "  warnings.warn(f\"Pass {args_msg} as keyword args. From version \"\n",
            "C:\\Users\\Evgeniy\\anaconda3\\envs\\boris_env\\lib\\site-packages\\sklearn\\utils\\validation.py:70: FutureWarning: Pass threshold=0.5 as keyword args. From version 1.0 (renaming of 0.25) passing these as positional arguments will result in an error\n",
            "  warnings.warn(f\"Pass {args_msg} as keyword args. From version \"\n",
            "C:\\Users\\Evgeniy\\anaconda3\\envs\\boris_env\\lib\\site-packages\\mir_eval\\transcription_velocity.py:185: FutureWarning: `rcond` parameter will change to the default of machine precision times ``max(M, N)`` where M and N are the input matrix dimensions.\n",
            "To use the future default and silence this warning we advise to pass `rcond=None`, to keep using the old, explicitly pass `rcond=-1`.\n",
            "  slope, intercept = np.linalg.lstsq(\n"
          ],
          "name": "stderr"
        },
        {
          "output_type": "stream",
          "text": [
            "\t9 of 10\n",
            "2/2 [==============================] - 1s 607ms/step\n",
            "2/2 [==============================] - 1s 579ms/step\n",
            "2/2 [==============================] - 0s 61ms/step\n",
            "2/2 [==============================] - 1s 521ms/step\n"
          ],
          "name": "stdout"
        },
        {
          "output_type": "stream",
          "text": [
            "C:\\Users\\Evgeniy\\anaconda3\\envs\\boris_env\\lib\\site-packages\\sklearn\\utils\\validation.py:70: FutureWarning: Pass threshold=0.5 as keyword args. From version 1.0 (renaming of 0.25) passing these as positional arguments will result in an error\n",
            "  warnings.warn(f\"Pass {args_msg} as keyword args. From version \"\n",
            "C:\\Users\\Evgeniy\\anaconda3\\envs\\boris_env\\lib\\site-packages\\sklearn\\utils\\validation.py:70: FutureWarning: Pass threshold=0.5 as keyword args. From version 1.0 (renaming of 0.25) passing these as positional arguments will result in an error\n",
            "  warnings.warn(f\"Pass {args_msg} as keyword args. From version \"\n",
            "C:\\Users\\Evgeniy\\anaconda3\\envs\\boris_env\\lib\\site-packages\\sklearn\\utils\\validation.py:70: FutureWarning: Pass threshold=0.5 as keyword args. From version 1.0 (renaming of 0.25) passing these as positional arguments will result in an error\n",
            "  warnings.warn(f\"Pass {args_msg} as keyword args. From version \"\n",
            "C:\\Users\\Evgeniy\\anaconda3\\envs\\boris_env\\lib\\site-packages\\mir_eval\\transcription_velocity.py:185: FutureWarning: `rcond` parameter will change to the default of machine precision times ``max(M, N)`` where M and N are the input matrix dimensions.\n",
            "To use the future default and silence this warning we advise to pass `rcond=None`, to keep using the old, explicitly pass `rcond=-1`.\n",
            "  slope, intercept = np.linalg.lstsq(\n"
          ],
          "name": "stderr"
        },
        {
          "output_type": "stream",
          "text": [
            "\t10 of 10\n",
            "2/2 [==============================] - 1s 550ms/step\n",
            "2/2 [==============================] - 1s 579ms/step\n",
            "2/2 [==============================] - 0s 107ms/step\n",
            "2/2 [==============================] - 1s 621ms/step\n"
          ],
          "name": "stdout"
        },
        {
          "output_type": "stream",
          "text": [
            "C:\\Users\\Evgeniy\\anaconda3\\envs\\boris_env\\lib\\site-packages\\sklearn\\utils\\validation.py:70: FutureWarning: Pass threshold=0.5 as keyword args. From version 1.0 (renaming of 0.25) passing these as positional arguments will result in an error\n",
            "  warnings.warn(f\"Pass {args_msg} as keyword args. From version \"\n",
            "C:\\Users\\Evgeniy\\anaconda3\\envs\\boris_env\\lib\\site-packages\\sklearn\\utils\\validation.py:70: FutureWarning: Pass threshold=0.5 as keyword args. From version 1.0 (renaming of 0.25) passing these as positional arguments will result in an error\n",
            "  warnings.warn(f\"Pass {args_msg} as keyword args. From version \"\n",
            "C:\\Users\\Evgeniy\\anaconda3\\envs\\boris_env\\lib\\site-packages\\sklearn\\utils\\validation.py:70: FutureWarning: Pass threshold=0.5 as keyword args. From version 1.0 (renaming of 0.25) passing these as positional arguments will result in an error\n",
            "  warnings.warn(f\"Pass {args_msg} as keyword args. From version \"\n",
            "C:\\Users\\Evgeniy\\anaconda3\\envs\\boris_env\\lib\\site-packages\\mir_eval\\transcription_velocity.py:185: FutureWarning: `rcond` parameter will change to the default of machine precision times ``max(M, N)`` where M and N are the input matrix dimensions.\n",
            "To use the future default and silence this warning we advise to pass `rcond=None`, to keep using the old, explicitly pass `rcond=-1`.\n",
            "  slope, intercept = np.linalg.lstsq(\n"
          ],
          "name": "stderr"
        },
        {
          "output_type": "stream",
          "text": [
            "\n",
            "Onsets: \n",
            "Precision (specificity) = 82.04%\n",
            "Recall    (sensitivity) = 88.30%\n",
            "F1-score                = 84.99%\n",
            "\n",
            "Frames: \n",
            "Precision (specificity) = 67.18%\n",
            "Recall    (sensitivity) = 72.30%\n",
            "F1-score                = 69.60%\n",
            "\n",
            "Volumes:\n",
            "Precision (specificity) = 63.77%\n",
            "Recall    (sensitivity) = 68.66%\n",
            "F1-score                = 66.08%\n",
            "\n",
            "Actual and predicted average number of onsets: 2.03 1.96\n",
            "Predicts less notes than actual (specific classifier)\n",
            "\n",
            "Maestro/1-5 seconds/test\\2014\n",
            "\t1 of 16\n",
            "2/2 [==============================] - 1s 675ms/step\n",
            "2/2 [==============================] - 1s 508ms/step\n",
            "2/2 [==============================] - 0s 90ms/step\n",
            "2/2 [==============================] - 1s 462ms/step\n"
          ],
          "name": "stdout"
        },
        {
          "output_type": "stream",
          "text": [
            "C:\\Users\\Evgeniy\\anaconda3\\envs\\boris_env\\lib\\site-packages\\sklearn\\utils\\validation.py:70: FutureWarning: Pass threshold=0.5 as keyword args. From version 1.0 (renaming of 0.25) passing these as positional arguments will result in an error\n",
            "  warnings.warn(f\"Pass {args_msg} as keyword args. From version \"\n",
            "C:\\Users\\Evgeniy\\anaconda3\\envs\\boris_env\\lib\\site-packages\\sklearn\\utils\\validation.py:70: FutureWarning: Pass threshold=0.5 as keyword args. From version 1.0 (renaming of 0.25) passing these as positional arguments will result in an error\n",
            "  warnings.warn(f\"Pass {args_msg} as keyword args. From version \"\n",
            "C:\\Users\\Evgeniy\\anaconda3\\envs\\boris_env\\lib\\site-packages\\sklearn\\utils\\validation.py:70: FutureWarning: Pass threshold=0.5 as keyword args. From version 1.0 (renaming of 0.25) passing these as positional arguments will result in an error\n",
            "  warnings.warn(f\"Pass {args_msg} as keyword args. From version \"\n",
            "C:\\Users\\Evgeniy\\anaconda3\\envs\\boris_env\\lib\\site-packages\\mir_eval\\transcription_velocity.py:185: FutureWarning: `rcond` parameter will change to the default of machine precision times ``max(M, N)`` where M and N are the input matrix dimensions.\n",
            "To use the future default and silence this warning we advise to pass `rcond=None`, to keep using the old, explicitly pass `rcond=-1`.\n",
            "  slope, intercept = np.linalg.lstsq(\n"
          ],
          "name": "stderr"
        },
        {
          "output_type": "stream",
          "text": [
            "\t2 of 16\n",
            "2/2 [==============================] - 1s 394ms/step\n",
            "2/2 [==============================] - 1s 459ms/step\n",
            "2/2 [==============================] - 0s 23ms/step\n",
            "2/2 [==============================] - 1s 379ms/step\n"
          ],
          "name": "stdout"
        },
        {
          "output_type": "stream",
          "text": [
            "C:\\Users\\Evgeniy\\anaconda3\\envs\\boris_env\\lib\\site-packages\\sklearn\\utils\\validation.py:70: FutureWarning: Pass threshold=0.5 as keyword args. From version 1.0 (renaming of 0.25) passing these as positional arguments will result in an error\n",
            "  warnings.warn(f\"Pass {args_msg} as keyword args. From version \"\n",
            "C:\\Users\\Evgeniy\\anaconda3\\envs\\boris_env\\lib\\site-packages\\sklearn\\utils\\validation.py:70: FutureWarning: Pass threshold=0.5 as keyword args. From version 1.0 (renaming of 0.25) passing these as positional arguments will result in an error\n",
            "  warnings.warn(f\"Pass {args_msg} as keyword args. From version \"\n",
            "C:\\Users\\Evgeniy\\anaconda3\\envs\\boris_env\\lib\\site-packages\\sklearn\\utils\\validation.py:70: FutureWarning: Pass threshold=0.5 as keyword args. From version 1.0 (renaming of 0.25) passing these as positional arguments will result in an error\n",
            "  warnings.warn(f\"Pass {args_msg} as keyword args. From version \"\n",
            "C:\\Users\\Evgeniy\\anaconda3\\envs\\boris_env\\lib\\site-packages\\mir_eval\\transcription_velocity.py:185: FutureWarning: `rcond` parameter will change to the default of machine precision times ``max(M, N)`` where M and N are the input matrix dimensions.\n",
            "To use the future default and silence this warning we advise to pass `rcond=None`, to keep using the old, explicitly pass `rcond=-1`.\n",
            "  slope, intercept = np.linalg.lstsq(\n"
          ],
          "name": "stderr"
        },
        {
          "output_type": "stream",
          "text": [
            "\t3 of 16\n",
            "2/2 [==============================] - 1s 633ms/step\n",
            "2/2 [==============================] - 1s 631ms/step\n",
            "2/2 [==============================] - 0s 375ms/step\n",
            "2/2 [==============================] - 1s 595ms/step\n"
          ],
          "name": "stdout"
        },
        {
          "output_type": "stream",
          "text": [
            "C:\\Users\\Evgeniy\\anaconda3\\envs\\boris_env\\lib\\site-packages\\sklearn\\utils\\validation.py:70: FutureWarning: Pass threshold=0.5 as keyword args. From version 1.0 (renaming of 0.25) passing these as positional arguments will result in an error\n",
            "  warnings.warn(f\"Pass {args_msg} as keyword args. From version \"\n",
            "C:\\Users\\Evgeniy\\anaconda3\\envs\\boris_env\\lib\\site-packages\\sklearn\\utils\\validation.py:70: FutureWarning: Pass threshold=0.5 as keyword args. From version 1.0 (renaming of 0.25) passing these as positional arguments will result in an error\n",
            "  warnings.warn(f\"Pass {args_msg} as keyword args. From version \"\n",
            "C:\\Users\\Evgeniy\\anaconda3\\envs\\boris_env\\lib\\site-packages\\sklearn\\utils\\validation.py:70: FutureWarning: Pass threshold=0.5 as keyword args. From version 1.0 (renaming of 0.25) passing these as positional arguments will result in an error\n",
            "  warnings.warn(f\"Pass {args_msg} as keyword args. From version \"\n",
            "C:\\Users\\Evgeniy\\anaconda3\\envs\\boris_env\\lib\\site-packages\\mir_eval\\transcription_velocity.py:185: FutureWarning: `rcond` parameter will change to the default of machine precision times ``max(M, N)`` where M and N are the input matrix dimensions.\n",
            "To use the future default and silence this warning we advise to pass `rcond=None`, to keep using the old, explicitly pass `rcond=-1`.\n",
            "  slope, intercept = np.linalg.lstsq(\n"
          ],
          "name": "stderr"
        },
        {
          "output_type": "stream",
          "text": [
            "\t4 of 16\n",
            "2/2 [==============================] - 1s 438ms/step\n",
            "2/2 [==============================] - 1s 446ms/step\n",
            "2/2 [==============================] - 0s 40ms/step\n",
            "2/2 [==============================] - 1s 375ms/step\n"
          ],
          "name": "stdout"
        },
        {
          "output_type": "stream",
          "text": [
            "C:\\Users\\Evgeniy\\anaconda3\\envs\\boris_env\\lib\\site-packages\\sklearn\\utils\\validation.py:70: FutureWarning: Pass threshold=0.5 as keyword args. From version 1.0 (renaming of 0.25) passing these as positional arguments will result in an error\n",
            "  warnings.warn(f\"Pass {args_msg} as keyword args. From version \"\n",
            "C:\\Users\\Evgeniy\\anaconda3\\envs\\boris_env\\lib\\site-packages\\sklearn\\utils\\validation.py:70: FutureWarning: Pass threshold=0.5 as keyword args. From version 1.0 (renaming of 0.25) passing these as positional arguments will result in an error\n",
            "  warnings.warn(f\"Pass {args_msg} as keyword args. From version \"\n",
            "C:\\Users\\Evgeniy\\anaconda3\\envs\\boris_env\\lib\\site-packages\\sklearn\\utils\\validation.py:70: FutureWarning: Pass threshold=0.5 as keyword args. From version 1.0 (renaming of 0.25) passing these as positional arguments will result in an error\n",
            "  warnings.warn(f\"Pass {args_msg} as keyword args. From version \"\n",
            "C:\\Users\\Evgeniy\\anaconda3\\envs\\boris_env\\lib\\site-packages\\mir_eval\\transcription_velocity.py:185: FutureWarning: `rcond` parameter will change to the default of machine precision times ``max(M, N)`` where M and N are the input matrix dimensions.\n",
            "To use the future default and silence this warning we advise to pass `rcond=None`, to keep using the old, explicitly pass `rcond=-1`.\n",
            "  slope, intercept = np.linalg.lstsq(\n"
          ],
          "name": "stderr"
        },
        {
          "output_type": "stream",
          "text": [
            "\t5 of 16\n",
            "4/4 [==============================] - 2s 588ms/step\n",
            "4/4 [==============================] - 2s 599ms/step\n",
            "4/4 [==============================] - 1s 186ms/step\n",
            "4/4 [==============================] - 2s 576ms/step\n"
          ],
          "name": "stdout"
        },
        {
          "output_type": "stream",
          "text": [
            "C:\\Users\\Evgeniy\\anaconda3\\envs\\boris_env\\lib\\site-packages\\sklearn\\utils\\validation.py:70: FutureWarning: Pass threshold=0.5 as keyword args. From version 1.0 (renaming of 0.25) passing these as positional arguments will result in an error\n",
            "  warnings.warn(f\"Pass {args_msg} as keyword args. From version \"\n",
            "C:\\Users\\Evgeniy\\anaconda3\\envs\\boris_env\\lib\\site-packages\\sklearn\\utils\\validation.py:70: FutureWarning: Pass threshold=0.5 as keyword args. From version 1.0 (renaming of 0.25) passing these as positional arguments will result in an error\n",
            "  warnings.warn(f\"Pass {args_msg} as keyword args. From version \"\n",
            "C:\\Users\\Evgeniy\\anaconda3\\envs\\boris_env\\lib\\site-packages\\sklearn\\utils\\validation.py:70: FutureWarning: Pass threshold=0.5 as keyword args. From version 1.0 (renaming of 0.25) passing these as positional arguments will result in an error\n",
            "  warnings.warn(f\"Pass {args_msg} as keyword args. From version \"\n",
            "C:\\Users\\Evgeniy\\anaconda3\\envs\\boris_env\\lib\\site-packages\\mir_eval\\transcription_velocity.py:185: FutureWarning: `rcond` parameter will change to the default of machine precision times ``max(M, N)`` where M and N are the input matrix dimensions.\n",
            "To use the future default and silence this warning we advise to pass `rcond=None`, to keep using the old, explicitly pass `rcond=-1`.\n",
            "  slope, intercept = np.linalg.lstsq(\n"
          ],
          "name": "stderr"
        },
        {
          "output_type": "stream",
          "text": [
            "\t6 of 16\n",
            "1/1 [==============================] - 1s 1s/step\n",
            "1/1 [==============================] - 1s 630ms/step\n",
            "1/1 [==============================] - 0s 110ms/step\n",
            "1/1 [==============================] - 0s 489ms/step\n"
          ],
          "name": "stdout"
        },
        {
          "output_type": "stream",
          "text": [
            "C:\\Users\\Evgeniy\\anaconda3\\envs\\boris_env\\lib\\site-packages\\sklearn\\utils\\validation.py:70: FutureWarning: Pass threshold=0.5 as keyword args. From version 1.0 (renaming of 0.25) passing these as positional arguments will result in an error\n",
            "  warnings.warn(f\"Pass {args_msg} as keyword args. From version \"\n",
            "C:\\Users\\Evgeniy\\anaconda3\\envs\\boris_env\\lib\\site-packages\\sklearn\\utils\\validation.py:70: FutureWarning: Pass threshold=0.5 as keyword args. From version 1.0 (renaming of 0.25) passing these as positional arguments will result in an error\n",
            "  warnings.warn(f\"Pass {args_msg} as keyword args. From version \"\n",
            "C:\\Users\\Evgeniy\\anaconda3\\envs\\boris_env\\lib\\site-packages\\sklearn\\utils\\validation.py:70: FutureWarning: Pass threshold=0.5 as keyword args. From version 1.0 (renaming of 0.25) passing these as positional arguments will result in an error\n",
            "  warnings.warn(f\"Pass {args_msg} as keyword args. From version \"\n",
            "C:\\Users\\Evgeniy\\anaconda3\\envs\\boris_env\\lib\\site-packages\\mir_eval\\transcription_velocity.py:185: FutureWarning: `rcond` parameter will change to the default of machine precision times ``max(M, N)`` where M and N are the input matrix dimensions.\n",
            "To use the future default and silence this warning we advise to pass `rcond=None`, to keep using the old, explicitly pass `rcond=-1`.\n",
            "  slope, intercept = np.linalg.lstsq(\n"
          ],
          "name": "stderr"
        },
        {
          "output_type": "stream",
          "text": [
            "\t7 of 16\n",
            "3/3 [==============================] - 2s 532ms/step\n",
            "3/3 [==============================] - 2s 605ms/step\n",
            "3/3 [==============================] - 0s 146ms/step\n",
            "3/3 [==============================] - 2s 568ms/step\n"
          ],
          "name": "stdout"
        },
        {
          "output_type": "stream",
          "text": [
            "C:\\Users\\Evgeniy\\anaconda3\\envs\\boris_env\\lib\\site-packages\\sklearn\\utils\\validation.py:70: FutureWarning: Pass threshold=0.5 as keyword args. From version 1.0 (renaming of 0.25) passing these as positional arguments will result in an error\n",
            "  warnings.warn(f\"Pass {args_msg} as keyword args. From version \"\n",
            "C:\\Users\\Evgeniy\\anaconda3\\envs\\boris_env\\lib\\site-packages\\sklearn\\utils\\validation.py:70: FutureWarning: Pass threshold=0.5 as keyword args. From version 1.0 (renaming of 0.25) passing these as positional arguments will result in an error\n",
            "  warnings.warn(f\"Pass {args_msg} as keyword args. From version \"\n",
            "C:\\Users\\Evgeniy\\anaconda3\\envs\\boris_env\\lib\\site-packages\\sklearn\\utils\\validation.py:70: FutureWarning: Pass threshold=0.5 as keyword args. From version 1.0 (renaming of 0.25) passing these as positional arguments will result in an error\n",
            "  warnings.warn(f\"Pass {args_msg} as keyword args. From version \"\n",
            "C:\\Users\\Evgeniy\\anaconda3\\envs\\boris_env\\lib\\site-packages\\mir_eval\\transcription_velocity.py:185: FutureWarning: `rcond` parameter will change to the default of machine precision times ``max(M, N)`` where M and N are the input matrix dimensions.\n",
            "To use the future default and silence this warning we advise to pass `rcond=None`, to keep using the old, explicitly pass `rcond=-1`.\n",
            "  slope, intercept = np.linalg.lstsq(\n"
          ],
          "name": "stderr"
        },
        {
          "output_type": "stream",
          "text": [
            "\t8 of 16\n",
            "4/4 [==============================] - 2s 586ms/step\n",
            "4/4 [==============================] - 2s 566ms/step\n",
            "4/4 [==============================] - 1s 170ms/step\n",
            "4/4 [==============================] - 2s 601ms/step\n"
          ],
          "name": "stdout"
        },
        {
          "output_type": "stream",
          "text": [
            "C:\\Users\\Evgeniy\\anaconda3\\envs\\boris_env\\lib\\site-packages\\sklearn\\utils\\validation.py:70: FutureWarning: Pass threshold=0.5 as keyword args. From version 1.0 (renaming of 0.25) passing these as positional arguments will result in an error\n",
            "  warnings.warn(f\"Pass {args_msg} as keyword args. From version \"\n",
            "C:\\Users\\Evgeniy\\anaconda3\\envs\\boris_env\\lib\\site-packages\\sklearn\\utils\\validation.py:70: FutureWarning: Pass threshold=0.5 as keyword args. From version 1.0 (renaming of 0.25) passing these as positional arguments will result in an error\n",
            "  warnings.warn(f\"Pass {args_msg} as keyword args. From version \"\n",
            "C:\\Users\\Evgeniy\\anaconda3\\envs\\boris_env\\lib\\site-packages\\sklearn\\utils\\validation.py:70: FutureWarning: Pass threshold=0.5 as keyword args. From version 1.0 (renaming of 0.25) passing these as positional arguments will result in an error\n",
            "  warnings.warn(f\"Pass {args_msg} as keyword args. From version \"\n",
            "C:\\Users\\Evgeniy\\anaconda3\\envs\\boris_env\\lib\\site-packages\\mir_eval\\transcription_velocity.py:185: FutureWarning: `rcond` parameter will change to the default of machine precision times ``max(M, N)`` where M and N are the input matrix dimensions.\n",
            "To use the future default and silence this warning we advise to pass `rcond=None`, to keep using the old, explicitly pass `rcond=-1`.\n",
            "  slope, intercept = np.linalg.lstsq(\n"
          ],
          "name": "stderr"
        },
        {
          "output_type": "stream",
          "text": [
            "\t9 of 16\n",
            "3/3 [==============================] - 2s 490ms/step\n",
            "3/3 [==============================] - 2s 567ms/step\n",
            "3/3 [==============================] - 0s 110ms/step\n",
            "3/3 [==============================] - 2s 493ms/step\n"
          ],
          "name": "stdout"
        },
        {
          "output_type": "stream",
          "text": [
            "C:\\Users\\Evgeniy\\anaconda3\\envs\\boris_env\\lib\\site-packages\\sklearn\\utils\\validation.py:70: FutureWarning: Pass threshold=0.5 as keyword args. From version 1.0 (renaming of 0.25) passing these as positional arguments will result in an error\n",
            "  warnings.warn(f\"Pass {args_msg} as keyword args. From version \"\n",
            "C:\\Users\\Evgeniy\\anaconda3\\envs\\boris_env\\lib\\site-packages\\sklearn\\utils\\validation.py:70: FutureWarning: Pass threshold=0.5 as keyword args. From version 1.0 (renaming of 0.25) passing these as positional arguments will result in an error\n",
            "  warnings.warn(f\"Pass {args_msg} as keyword args. From version \"\n",
            "C:\\Users\\Evgeniy\\anaconda3\\envs\\boris_env\\lib\\site-packages\\sklearn\\utils\\validation.py:70: FutureWarning: Pass threshold=0.5 as keyword args. From version 1.0 (renaming of 0.25) passing these as positional arguments will result in an error\n",
            "  warnings.warn(f\"Pass {args_msg} as keyword args. From version \"\n",
            "C:\\Users\\Evgeniy\\anaconda3\\envs\\boris_env\\lib\\site-packages\\mir_eval\\transcription_velocity.py:185: FutureWarning: `rcond` parameter will change to the default of machine precision times ``max(M, N)`` where M and N are the input matrix dimensions.\n",
            "To use the future default and silence this warning we advise to pass `rcond=None`, to keep using the old, explicitly pass `rcond=-1`.\n",
            "  slope, intercept = np.linalg.lstsq(\n"
          ],
          "name": "stderr"
        },
        {
          "output_type": "stream",
          "text": [
            "\t10 of 16\n",
            "5/5 [==============================] - 3s 563ms/step\n",
            "5/5 [==============================] - 3s 600ms/step\n",
            "5/5 [==============================] - 1s 180ms/step\n",
            "5/5 [==============================] - 3s 595ms/step\n"
          ],
          "name": "stdout"
        },
        {
          "output_type": "stream",
          "text": [
            "C:\\Users\\Evgeniy\\anaconda3\\envs\\boris_env\\lib\\site-packages\\sklearn\\utils\\validation.py:70: FutureWarning: Pass threshold=0.5 as keyword args. From version 1.0 (renaming of 0.25) passing these as positional arguments will result in an error\n",
            "  warnings.warn(f\"Pass {args_msg} as keyword args. From version \"\n",
            "C:\\Users\\Evgeniy\\anaconda3\\envs\\boris_env\\lib\\site-packages\\sklearn\\utils\\validation.py:70: FutureWarning: Pass threshold=0.5 as keyword args. From version 1.0 (renaming of 0.25) passing these as positional arguments will result in an error\n",
            "  warnings.warn(f\"Pass {args_msg} as keyword args. From version \"\n",
            "C:\\Users\\Evgeniy\\anaconda3\\envs\\boris_env\\lib\\site-packages\\sklearn\\utils\\validation.py:70: FutureWarning: Pass threshold=0.5 as keyword args. From version 1.0 (renaming of 0.25) passing these as positional arguments will result in an error\n",
            "  warnings.warn(f\"Pass {args_msg} as keyword args. From version \"\n",
            "C:\\Users\\Evgeniy\\anaconda3\\envs\\boris_env\\lib\\site-packages\\mir_eval\\transcription_velocity.py:185: FutureWarning: `rcond` parameter will change to the default of machine precision times ``max(M, N)`` where M and N are the input matrix dimensions.\n",
            "To use the future default and silence this warning we advise to pass `rcond=None`, to keep using the old, explicitly pass `rcond=-1`.\n",
            "  slope, intercept = np.linalg.lstsq(\n"
          ],
          "name": "stderr"
        },
        {
          "output_type": "stream",
          "text": [
            "\t11 of 16\n",
            "1/1 [==============================] - 1s 810ms/step\n",
            "1/1 [==============================] - 1s 650ms/step\n",
            "1/1 [==============================] - 0s 212ms/step\n",
            "1/1 [==============================] - 1s 656ms/step\n"
          ],
          "name": "stdout"
        },
        {
          "output_type": "stream",
          "text": [
            "C:\\Users\\Evgeniy\\anaconda3\\envs\\boris_env\\lib\\site-packages\\sklearn\\utils\\validation.py:70: FutureWarning: Pass threshold=0.5 as keyword args. From version 1.0 (renaming of 0.25) passing these as positional arguments will result in an error\n",
            "  warnings.warn(f\"Pass {args_msg} as keyword args. From version \"\n",
            "C:\\Users\\Evgeniy\\anaconda3\\envs\\boris_env\\lib\\site-packages\\sklearn\\utils\\validation.py:70: FutureWarning: Pass threshold=0.5 as keyword args. From version 1.0 (renaming of 0.25) passing these as positional arguments will result in an error\n",
            "  warnings.warn(f\"Pass {args_msg} as keyword args. From version \"\n",
            "C:\\Users\\Evgeniy\\anaconda3\\envs\\boris_env\\lib\\site-packages\\sklearn\\utils\\validation.py:70: FutureWarning: Pass threshold=0.5 as keyword args. From version 1.0 (renaming of 0.25) passing these as positional arguments will result in an error\n",
            "  warnings.warn(f\"Pass {args_msg} as keyword args. From version \"\n",
            "C:\\Users\\Evgeniy\\anaconda3\\envs\\boris_env\\lib\\site-packages\\mir_eval\\transcription_velocity.py:185: FutureWarning: `rcond` parameter will change to the default of machine precision times ``max(M, N)`` where M and N are the input matrix dimensions.\n",
            "To use the future default and silence this warning we advise to pass `rcond=None`, to keep using the old, explicitly pass `rcond=-1`.\n",
            "  slope, intercept = np.linalg.lstsq(\n"
          ],
          "name": "stderr"
        },
        {
          "output_type": "stream",
          "text": [
            "\t12 of 16\n",
            "1/1 [==============================] - 1s 587ms/step\n",
            "1/1 [==============================] - 1s 575ms/step\n",
            "1/1 [==============================] - 0s 129ms/step\n",
            "1/1 [==============================] - 1s 561ms/step\n"
          ],
          "name": "stdout"
        },
        {
          "output_type": "stream",
          "text": [
            "C:\\Users\\Evgeniy\\anaconda3\\envs\\boris_env\\lib\\site-packages\\sklearn\\utils\\validation.py:70: FutureWarning: Pass threshold=0.5 as keyword args. From version 1.0 (renaming of 0.25) passing these as positional arguments will result in an error\n",
            "  warnings.warn(f\"Pass {args_msg} as keyword args. From version \"\n",
            "C:\\Users\\Evgeniy\\anaconda3\\envs\\boris_env\\lib\\site-packages\\sklearn\\utils\\validation.py:70: FutureWarning: Pass threshold=0.5 as keyword args. From version 1.0 (renaming of 0.25) passing these as positional arguments will result in an error\n",
            "  warnings.warn(f\"Pass {args_msg} as keyword args. From version \"\n",
            "C:\\Users\\Evgeniy\\anaconda3\\envs\\boris_env\\lib\\site-packages\\sklearn\\utils\\validation.py:70: FutureWarning: Pass threshold=0.5 as keyword args. From version 1.0 (renaming of 0.25) passing these as positional arguments will result in an error\n",
            "  warnings.warn(f\"Pass {args_msg} as keyword args. From version \"\n",
            "C:\\Users\\Evgeniy\\anaconda3\\envs\\boris_env\\lib\\site-packages\\mir_eval\\transcription_velocity.py:185: FutureWarning: `rcond` parameter will change to the default of machine precision times ``max(M, N)`` where M and N are the input matrix dimensions.\n",
            "To use the future default and silence this warning we advise to pass `rcond=None`, to keep using the old, explicitly pass `rcond=-1`.\n",
            "  slope, intercept = np.linalg.lstsq(\n"
          ],
          "name": "stderr"
        },
        {
          "output_type": "stream",
          "text": [
            "\t13 of 16\n",
            "2/2 [==============================] - 1s 532ms/step\n",
            "2/2 [==============================] - 1s 537ms/step\n",
            "2/2 [==============================] - 0s 137ms/step\n",
            "2/2 [==============================] - 1s 582ms/step\n"
          ],
          "name": "stdout"
        },
        {
          "output_type": "stream",
          "text": [
            "C:\\Users\\Evgeniy\\anaconda3\\envs\\boris_env\\lib\\site-packages\\sklearn\\utils\\validation.py:70: FutureWarning: Pass threshold=0.5 as keyword args. From version 1.0 (renaming of 0.25) passing these as positional arguments will result in an error\n",
            "  warnings.warn(f\"Pass {args_msg} as keyword args. From version \"\n",
            "C:\\Users\\Evgeniy\\anaconda3\\envs\\boris_env\\lib\\site-packages\\sklearn\\utils\\validation.py:70: FutureWarning: Pass threshold=0.5 as keyword args. From version 1.0 (renaming of 0.25) passing these as positional arguments will result in an error\n",
            "  warnings.warn(f\"Pass {args_msg} as keyword args. From version \"\n",
            "C:\\Users\\Evgeniy\\anaconda3\\envs\\boris_env\\lib\\site-packages\\sklearn\\utils\\validation.py:70: FutureWarning: Pass threshold=0.5 as keyword args. From version 1.0 (renaming of 0.25) passing these as positional arguments will result in an error\n",
            "  warnings.warn(f\"Pass {args_msg} as keyword args. From version \"\n",
            "C:\\Users\\Evgeniy\\anaconda3\\envs\\boris_env\\lib\\site-packages\\mir_eval\\transcription_velocity.py:185: FutureWarning: `rcond` parameter will change to the default of machine precision times ``max(M, N)`` where M and N are the input matrix dimensions.\n",
            "To use the future default and silence this warning we advise to pass `rcond=None`, to keep using the old, explicitly pass `rcond=-1`.\n",
            "  slope, intercept = np.linalg.lstsq(\n"
          ],
          "name": "stderr"
        },
        {
          "output_type": "stream",
          "text": [
            "\t14 of 16\n",
            "5/5 [==============================] - 3s 678ms/step\n",
            "5/5 [==============================] - 3s 623ms/step\n",
            "5/5 [==============================] - 1s 236ms/step\n",
            "5/5 [==============================] - 3s 609ms/step\n"
          ],
          "name": "stdout"
        },
        {
          "output_type": "stream",
          "text": [
            "C:\\Users\\Evgeniy\\anaconda3\\envs\\boris_env\\lib\\site-packages\\sklearn\\utils\\validation.py:70: FutureWarning: Pass threshold=0.5 as keyword args. From version 1.0 (renaming of 0.25) passing these as positional arguments will result in an error\n",
            "  warnings.warn(f\"Pass {args_msg} as keyword args. From version \"\n",
            "C:\\Users\\Evgeniy\\anaconda3\\envs\\boris_env\\lib\\site-packages\\sklearn\\utils\\validation.py:70: FutureWarning: Pass threshold=0.5 as keyword args. From version 1.0 (renaming of 0.25) passing these as positional arguments will result in an error\n",
            "  warnings.warn(f\"Pass {args_msg} as keyword args. From version \"\n",
            "C:\\Users\\Evgeniy\\anaconda3\\envs\\boris_env\\lib\\site-packages\\sklearn\\utils\\validation.py:70: FutureWarning: Pass threshold=0.5 as keyword args. From version 1.0 (renaming of 0.25) passing these as positional arguments will result in an error\n",
            "  warnings.warn(f\"Pass {args_msg} as keyword args. From version \"\n",
            "C:\\Users\\Evgeniy\\anaconda3\\envs\\boris_env\\lib\\site-packages\\mir_eval\\transcription_velocity.py:185: FutureWarning: `rcond` parameter will change to the default of machine precision times ``max(M, N)`` where M and N are the input matrix dimensions.\n",
            "To use the future default and silence this warning we advise to pass `rcond=None`, to keep using the old, explicitly pass `rcond=-1`.\n",
            "  slope, intercept = np.linalg.lstsq(\n"
          ],
          "name": "stderr"
        },
        {
          "output_type": "stream",
          "text": [
            "\t15 of 16\n",
            "6/6 [==============================] - 4s 589ms/step\n",
            "6/6 [==============================] - 4s 597ms/step\n",
            "6/6 [==============================] - 1s 163ms/step\n",
            "6/6 [==============================] - 3s 551ms/step\n"
          ],
          "name": "stdout"
        },
        {
          "output_type": "stream",
          "text": [
            "C:\\Users\\Evgeniy\\anaconda3\\envs\\boris_env\\lib\\site-packages\\sklearn\\utils\\validation.py:70: FutureWarning: Pass threshold=0.5 as keyword args. From version 1.0 (renaming of 0.25) passing these as positional arguments will result in an error\n",
            "  warnings.warn(f\"Pass {args_msg} as keyword args. From version \"\n",
            "C:\\Users\\Evgeniy\\anaconda3\\envs\\boris_env\\lib\\site-packages\\sklearn\\utils\\validation.py:70: FutureWarning: Pass threshold=0.5 as keyword args. From version 1.0 (renaming of 0.25) passing these as positional arguments will result in an error\n",
            "  warnings.warn(f\"Pass {args_msg} as keyword args. From version \"\n",
            "C:\\Users\\Evgeniy\\anaconda3\\envs\\boris_env\\lib\\site-packages\\sklearn\\utils\\validation.py:70: FutureWarning: Pass threshold=0.5 as keyword args. From version 1.0 (renaming of 0.25) passing these as positional arguments will result in an error\n",
            "  warnings.warn(f\"Pass {args_msg} as keyword args. From version \"\n",
            "C:\\Users\\Evgeniy\\anaconda3\\envs\\boris_env\\lib\\site-packages\\mir_eval\\transcription_velocity.py:185: FutureWarning: `rcond` parameter will change to the default of machine precision times ``max(M, N)`` where M and N are the input matrix dimensions.\n",
            "To use the future default and silence this warning we advise to pass `rcond=None`, to keep using the old, explicitly pass `rcond=-1`.\n",
            "  slope, intercept = np.linalg.lstsq(\n"
          ],
          "name": "stderr"
        },
        {
          "output_type": "stream",
          "text": [
            "\t16 of 16\n",
            "3/3 [==============================] - 2s 525ms/step\n",
            "3/3 [==============================] - 2s 543ms/step\n",
            "3/3 [==============================] - 0s 128ms/step\n",
            "3/3 [==============================] - 2s 584ms/step\n"
          ],
          "name": "stdout"
        },
        {
          "output_type": "stream",
          "text": [
            "C:\\Users\\Evgeniy\\anaconda3\\envs\\boris_env\\lib\\site-packages\\sklearn\\utils\\validation.py:70: FutureWarning: Pass threshold=0.5 as keyword args. From version 1.0 (renaming of 0.25) passing these as positional arguments will result in an error\n",
            "  warnings.warn(f\"Pass {args_msg} as keyword args. From version \"\n",
            "C:\\Users\\Evgeniy\\anaconda3\\envs\\boris_env\\lib\\site-packages\\sklearn\\utils\\validation.py:70: FutureWarning: Pass threshold=0.5 as keyword args. From version 1.0 (renaming of 0.25) passing these as positional arguments will result in an error\n",
            "  warnings.warn(f\"Pass {args_msg} as keyword args. From version \"\n",
            "C:\\Users\\Evgeniy\\anaconda3\\envs\\boris_env\\lib\\site-packages\\sklearn\\utils\\validation.py:70: FutureWarning: Pass threshold=0.5 as keyword args. From version 1.0 (renaming of 0.25) passing these as positional arguments will result in an error\n",
            "  warnings.warn(f\"Pass {args_msg} as keyword args. From version \"\n",
            "C:\\Users\\Evgeniy\\anaconda3\\envs\\boris_env\\lib\\site-packages\\mir_eval\\transcription_velocity.py:185: FutureWarning: `rcond` parameter will change to the default of machine precision times ``max(M, N)`` where M and N are the input matrix dimensions.\n",
            "To use the future default and silence this warning we advise to pass `rcond=None`, to keep using the old, explicitly pass `rcond=-1`.\n",
            "  slope, intercept = np.linalg.lstsq(\n"
          ],
          "name": "stderr"
        },
        {
          "output_type": "stream",
          "text": [
            "\n",
            "Onsets: \n",
            "Precision (specificity) = 89.96%\n",
            "Recall    (sensitivity) = 92.88%\n",
            "F1-score                = 91.34%\n",
            "\n",
            "Frames: \n",
            "Precision (specificity) = 70.75%\n",
            "Recall    (sensitivity) = 73.00%\n",
            "F1-score                = 71.81%\n",
            "\n",
            "Volumes:\n",
            "Precision (specificity) = 68.30%\n",
            "Recall    (sensitivity) = 70.46%\n",
            "F1-score                = 69.32%\n",
            "\n",
            "Actual and predicted average number of onsets: 1.63 1.61\n",
            "Predicts less notes than actual (specific classifier)\n",
            "\n",
            "Maestro/1-5 seconds/test\\2015\n",
            "\t1 of 10\n",
            "1/1 [==============================] - 1s 597ms/step\n",
            "1/1 [==============================] - 1s 622ms/step\n",
            "1/1 [==============================] - 0s 195ms/step\n",
            "1/1 [==============================] - 1s 600ms/step\n"
          ],
          "name": "stdout"
        },
        {
          "output_type": "stream",
          "text": [
            "C:\\Users\\Evgeniy\\anaconda3\\envs\\boris_env\\lib\\site-packages\\sklearn\\utils\\validation.py:70: FutureWarning: Pass threshold=0.5 as keyword args. From version 1.0 (renaming of 0.25) passing these as positional arguments will result in an error\n",
            "  warnings.warn(f\"Pass {args_msg} as keyword args. From version \"\n",
            "C:\\Users\\Evgeniy\\anaconda3\\envs\\boris_env\\lib\\site-packages\\sklearn\\utils\\validation.py:70: FutureWarning: Pass threshold=0.5 as keyword args. From version 1.0 (renaming of 0.25) passing these as positional arguments will result in an error\n",
            "  warnings.warn(f\"Pass {args_msg} as keyword args. From version \"\n",
            "C:\\Users\\Evgeniy\\anaconda3\\envs\\boris_env\\lib\\site-packages\\sklearn\\utils\\validation.py:70: FutureWarning: Pass threshold=0.5 as keyword args. From version 1.0 (renaming of 0.25) passing these as positional arguments will result in an error\n",
            "  warnings.warn(f\"Pass {args_msg} as keyword args. From version \"\n",
            "C:\\Users\\Evgeniy\\anaconda3\\envs\\boris_env\\lib\\site-packages\\mir_eval\\transcription_velocity.py:185: FutureWarning: `rcond` parameter will change to the default of machine precision times ``max(M, N)`` where M and N are the input matrix dimensions.\n",
            "To use the future default and silence this warning we advise to pass `rcond=None`, to keep using the old, explicitly pass `rcond=-1`.\n",
            "  slope, intercept = np.linalg.lstsq(\n"
          ],
          "name": "stderr"
        },
        {
          "output_type": "stream",
          "text": [
            "\t2 of 10\n",
            "2/2 [==============================] - 1s 486ms/step\n",
            "2/2 [==============================] - 1s 574ms/step\n",
            "2/2 [==============================] - 0s 116ms/step\n",
            "2/2 [==============================] - 1s 499ms/step\n"
          ],
          "name": "stdout"
        },
        {
          "output_type": "stream",
          "text": [
            "C:\\Users\\Evgeniy\\anaconda3\\envs\\boris_env\\lib\\site-packages\\sklearn\\utils\\validation.py:70: FutureWarning: Pass threshold=0.5 as keyword args. From version 1.0 (renaming of 0.25) passing these as positional arguments will result in an error\n",
            "  warnings.warn(f\"Pass {args_msg} as keyword args. From version \"\n",
            "C:\\Users\\Evgeniy\\anaconda3\\envs\\boris_env\\lib\\site-packages\\sklearn\\utils\\validation.py:70: FutureWarning: Pass threshold=0.5 as keyword args. From version 1.0 (renaming of 0.25) passing these as positional arguments will result in an error\n",
            "  warnings.warn(f\"Pass {args_msg} as keyword args. From version \"\n",
            "C:\\Users\\Evgeniy\\anaconda3\\envs\\boris_env\\lib\\site-packages\\sklearn\\utils\\validation.py:70: FutureWarning: Pass threshold=0.5 as keyword args. From version 1.0 (renaming of 0.25) passing these as positional arguments will result in an error\n",
            "  warnings.warn(f\"Pass {args_msg} as keyword args. From version \"\n",
            "C:\\Users\\Evgeniy\\anaconda3\\envs\\boris_env\\lib\\site-packages\\mir_eval\\transcription_velocity.py:185: FutureWarning: `rcond` parameter will change to the default of machine precision times ``max(M, N)`` where M and N are the input matrix dimensions.\n",
            "To use the future default and silence this warning we advise to pass `rcond=None`, to keep using the old, explicitly pass `rcond=-1`.\n",
            "  slope, intercept = np.linalg.lstsq(\n"
          ],
          "name": "stderr"
        },
        {
          "output_type": "stream",
          "text": [
            "\t3 of 10\n",
            "1/1 [==============================] - 0s 468ms/step\n",
            "1/1 [==============================] - 0s 491ms/step\n",
            "1/1 [==============================] - 0s 87ms/step\n",
            "1/1 [==============================] - 0s 495ms/step\n"
          ],
          "name": "stdout"
        },
        {
          "output_type": "stream",
          "text": [
            "C:\\Users\\Evgeniy\\anaconda3\\envs\\boris_env\\lib\\site-packages\\sklearn\\utils\\validation.py:70: FutureWarning: Pass threshold=0.5 as keyword args. From version 1.0 (renaming of 0.25) passing these as positional arguments will result in an error\n",
            "  warnings.warn(f\"Pass {args_msg} as keyword args. From version \"\n",
            "C:\\Users\\Evgeniy\\anaconda3\\envs\\boris_env\\lib\\site-packages\\sklearn\\utils\\validation.py:70: FutureWarning: Pass threshold=0.5 as keyword args. From version 1.0 (renaming of 0.25) passing these as positional arguments will result in an error\n",
            "  warnings.warn(f\"Pass {args_msg} as keyword args. From version \"\n",
            "C:\\Users\\Evgeniy\\anaconda3\\envs\\boris_env\\lib\\site-packages\\sklearn\\utils\\validation.py:70: FutureWarning: Pass threshold=0.5 as keyword args. From version 1.0 (renaming of 0.25) passing these as positional arguments will result in an error\n",
            "  warnings.warn(f\"Pass {args_msg} as keyword args. From version \"\n",
            "C:\\Users\\Evgeniy\\anaconda3\\envs\\boris_env\\lib\\site-packages\\mir_eval\\transcription_velocity.py:185: FutureWarning: `rcond` parameter will change to the default of machine precision times ``max(M, N)`` where M and N are the input matrix dimensions.\n",
            "To use the future default and silence this warning we advise to pass `rcond=None`, to keep using the old, explicitly pass `rcond=-1`.\n",
            "  slope, intercept = np.linalg.lstsq(\n"
          ],
          "name": "stderr"
        },
        {
          "output_type": "stream",
          "text": [
            "\t4 of 10\n",
            "1/1 [==============================] - 1s 532ms/step\n",
            "1/1 [==============================] - 1s 512ms/step\n",
            "1/1 [==============================] - 0s 104ms/step\n",
            "1/1 [==============================] - 0s 477ms/step\n"
          ],
          "name": "stdout"
        },
        {
          "output_type": "stream",
          "text": [
            "C:\\Users\\Evgeniy\\anaconda3\\envs\\boris_env\\lib\\site-packages\\sklearn\\utils\\validation.py:70: FutureWarning: Pass threshold=0.5 as keyword args. From version 1.0 (renaming of 0.25) passing these as positional arguments will result in an error\n",
            "  warnings.warn(f\"Pass {args_msg} as keyword args. From version \"\n",
            "C:\\Users\\Evgeniy\\anaconda3\\envs\\boris_env\\lib\\site-packages\\sklearn\\utils\\validation.py:70: FutureWarning: Pass threshold=0.5 as keyword args. From version 1.0 (renaming of 0.25) passing these as positional arguments will result in an error\n",
            "  warnings.warn(f\"Pass {args_msg} as keyword args. From version \"\n",
            "C:\\Users\\Evgeniy\\anaconda3\\envs\\boris_env\\lib\\site-packages\\sklearn\\utils\\validation.py:70: FutureWarning: Pass threshold=0.5 as keyword args. From version 1.0 (renaming of 0.25) passing these as positional arguments will result in an error\n",
            "  warnings.warn(f\"Pass {args_msg} as keyword args. From version \"\n",
            "C:\\Users\\Evgeniy\\anaconda3\\envs\\boris_env\\lib\\site-packages\\mir_eval\\transcription_velocity.py:185: FutureWarning: `rcond` parameter will change to the default of machine precision times ``max(M, N)`` where M and N are the input matrix dimensions.\n",
            "To use the future default and silence this warning we advise to pass `rcond=None`, to keep using the old, explicitly pass `rcond=-1`.\n",
            "  slope, intercept = np.linalg.lstsq(\n"
          ],
          "name": "stderr"
        },
        {
          "output_type": "stream",
          "text": [
            "\t5 of 10\n",
            "1/1 [==============================] - 0s 474ms/step\n",
            "1/1 [==============================] - 0s 498ms/step\n",
            "1/1 [==============================] - 0s 89ms/step\n",
            "1/1 [==============================] - 0s 472ms/step\n"
          ],
          "name": "stdout"
        },
        {
          "output_type": "stream",
          "text": [
            "C:\\Users\\Evgeniy\\anaconda3\\envs\\boris_env\\lib\\site-packages\\sklearn\\utils\\validation.py:70: FutureWarning: Pass threshold=0.5 as keyword args. From version 1.0 (renaming of 0.25) passing these as positional arguments will result in an error\n",
            "  warnings.warn(f\"Pass {args_msg} as keyword args. From version \"\n",
            "C:\\Users\\Evgeniy\\anaconda3\\envs\\boris_env\\lib\\site-packages\\sklearn\\utils\\validation.py:70: FutureWarning: Pass threshold=0.5 as keyword args. From version 1.0 (renaming of 0.25) passing these as positional arguments will result in an error\n",
            "  warnings.warn(f\"Pass {args_msg} as keyword args. From version \"\n",
            "C:\\Users\\Evgeniy\\anaconda3\\envs\\boris_env\\lib\\site-packages\\sklearn\\utils\\validation.py:70: FutureWarning: Pass threshold=0.5 as keyword args. From version 1.0 (renaming of 0.25) passing these as positional arguments will result in an error\n",
            "  warnings.warn(f\"Pass {args_msg} as keyword args. From version \"\n",
            "C:\\Users\\Evgeniy\\anaconda3\\envs\\boris_env\\lib\\site-packages\\mir_eval\\transcription_velocity.py:185: FutureWarning: `rcond` parameter will change to the default of machine precision times ``max(M, N)`` where M and N are the input matrix dimensions.\n",
            "To use the future default and silence this warning we advise to pass `rcond=None`, to keep using the old, explicitly pass `rcond=-1`.\n",
            "  slope, intercept = np.linalg.lstsq(\n"
          ],
          "name": "stderr"
        },
        {
          "output_type": "stream",
          "text": [
            "\t6 of 10\n",
            "2/2 [==============================] - 1s 434ms/step\n",
            "2/2 [==============================] - 1s 476ms/step\n",
            "2/2 [==============================] - 0s 36ms/step\n",
            "2/2 [==============================] - 1s 410ms/step\n"
          ],
          "name": "stdout"
        },
        {
          "output_type": "stream",
          "text": [
            "C:\\Users\\Evgeniy\\anaconda3\\envs\\boris_env\\lib\\site-packages\\sklearn\\utils\\validation.py:70: FutureWarning: Pass threshold=0.5 as keyword args. From version 1.0 (renaming of 0.25) passing these as positional arguments will result in an error\n",
            "  warnings.warn(f\"Pass {args_msg} as keyword args. From version \"\n",
            "C:\\Users\\Evgeniy\\anaconda3\\envs\\boris_env\\lib\\site-packages\\sklearn\\utils\\validation.py:70: FutureWarning: Pass threshold=0.5 as keyword args. From version 1.0 (renaming of 0.25) passing these as positional arguments will result in an error\n",
            "  warnings.warn(f\"Pass {args_msg} as keyword args. From version \"\n",
            "C:\\Users\\Evgeniy\\anaconda3\\envs\\boris_env\\lib\\site-packages\\sklearn\\utils\\validation.py:70: FutureWarning: Pass threshold=0.5 as keyword args. From version 1.0 (renaming of 0.25) passing these as positional arguments will result in an error\n",
            "  warnings.warn(f\"Pass {args_msg} as keyword args. From version \"\n",
            "C:\\Users\\Evgeniy\\anaconda3\\envs\\boris_env\\lib\\site-packages\\mir_eval\\transcription_velocity.py:185: FutureWarning: `rcond` parameter will change to the default of machine precision times ``max(M, N)`` where M and N are the input matrix dimensions.\n",
            "To use the future default and silence this warning we advise to pass `rcond=None`, to keep using the old, explicitly pass `rcond=-1`.\n",
            "  slope, intercept = np.linalg.lstsq(\n"
          ],
          "name": "stderr"
        },
        {
          "output_type": "stream",
          "text": [
            "\t7 of 10\n",
            "2/2 [==============================] - 1s 446ms/step\n",
            "2/2 [==============================] - 1s 419ms/step\n",
            "2/2 [==============================] - 0s 33ms/step\n",
            "2/2 [==============================] - 1s 383ms/step\n"
          ],
          "name": "stdout"
        },
        {
          "output_type": "stream",
          "text": [
            "C:\\Users\\Evgeniy\\anaconda3\\envs\\boris_env\\lib\\site-packages\\sklearn\\utils\\validation.py:70: FutureWarning: Pass threshold=0.5 as keyword args. From version 1.0 (renaming of 0.25) passing these as positional arguments will result in an error\n",
            "  warnings.warn(f\"Pass {args_msg} as keyword args. From version \"\n",
            "C:\\Users\\Evgeniy\\anaconda3\\envs\\boris_env\\lib\\site-packages\\sklearn\\utils\\validation.py:70: FutureWarning: Pass threshold=0.5 as keyword args. From version 1.0 (renaming of 0.25) passing these as positional arguments will result in an error\n",
            "  warnings.warn(f\"Pass {args_msg} as keyword args. From version \"\n",
            "C:\\Users\\Evgeniy\\anaconda3\\envs\\boris_env\\lib\\site-packages\\sklearn\\utils\\validation.py:70: FutureWarning: Pass threshold=0.5 as keyword args. From version 1.0 (renaming of 0.25) passing these as positional arguments will result in an error\n",
            "  warnings.warn(f\"Pass {args_msg} as keyword args. From version \"\n",
            "C:\\Users\\Evgeniy\\anaconda3\\envs\\boris_env\\lib\\site-packages\\mir_eval\\transcription_velocity.py:185: FutureWarning: `rcond` parameter will change to the default of machine precision times ``max(M, N)`` where M and N are the input matrix dimensions.\n",
            "To use the future default and silence this warning we advise to pass `rcond=None`, to keep using the old, explicitly pass `rcond=-1`.\n",
            "  slope, intercept = np.linalg.lstsq(\n"
          ],
          "name": "stderr"
        },
        {
          "output_type": "stream",
          "text": [
            "\t8 of 10\n",
            "3/3 [==============================] - 2s 527ms/step\n",
            "3/3 [==============================] - 2s 532ms/step\n",
            "3/3 [==============================] - 0s 133ms/step\n",
            "3/3 [==============================] - 2s 567ms/step\n"
          ],
          "name": "stdout"
        },
        {
          "output_type": "stream",
          "text": [
            "C:\\Users\\Evgeniy\\anaconda3\\envs\\boris_env\\lib\\site-packages\\sklearn\\utils\\validation.py:70: FutureWarning: Pass threshold=0.5 as keyword args. From version 1.0 (renaming of 0.25) passing these as positional arguments will result in an error\n",
            "  warnings.warn(f\"Pass {args_msg} as keyword args. From version \"\n",
            "C:\\Users\\Evgeniy\\anaconda3\\envs\\boris_env\\lib\\site-packages\\sklearn\\utils\\validation.py:70: FutureWarning: Pass threshold=0.5 as keyword args. From version 1.0 (renaming of 0.25) passing these as positional arguments will result in an error\n",
            "  warnings.warn(f\"Pass {args_msg} as keyword args. From version \"\n",
            "C:\\Users\\Evgeniy\\anaconda3\\envs\\boris_env\\lib\\site-packages\\sklearn\\utils\\validation.py:70: FutureWarning: Pass threshold=0.5 as keyword args. From version 1.0 (renaming of 0.25) passing these as positional arguments will result in an error\n",
            "  warnings.warn(f\"Pass {args_msg} as keyword args. From version \"\n",
            "C:\\Users\\Evgeniy\\anaconda3\\envs\\boris_env\\lib\\site-packages\\mir_eval\\transcription_velocity.py:185: FutureWarning: `rcond` parameter will change to the default of machine precision times ``max(M, N)`` where M and N are the input matrix dimensions.\n",
            "To use the future default and silence this warning we advise to pass `rcond=None`, to keep using the old, explicitly pass `rcond=-1`.\n",
            "  slope, intercept = np.linalg.lstsq(\n"
          ],
          "name": "stderr"
        },
        {
          "output_type": "stream",
          "text": [
            "\t9 of 10\n",
            "2/2 [==============================] - 1s 451ms/step\n",
            "2/2 [==============================] - 1s 440ms/step\n",
            "2/2 [==============================] - 0s 45ms/step\n",
            "2/2 [==============================] - 1s 395ms/step\n"
          ],
          "name": "stdout"
        },
        {
          "output_type": "stream",
          "text": [
            "C:\\Users\\Evgeniy\\anaconda3\\envs\\boris_env\\lib\\site-packages\\sklearn\\utils\\validation.py:70: FutureWarning: Pass threshold=0.5 as keyword args. From version 1.0 (renaming of 0.25) passing these as positional arguments will result in an error\n",
            "  warnings.warn(f\"Pass {args_msg} as keyword args. From version \"\n",
            "C:\\Users\\Evgeniy\\anaconda3\\envs\\boris_env\\lib\\site-packages\\sklearn\\utils\\validation.py:70: FutureWarning: Pass threshold=0.5 as keyword args. From version 1.0 (renaming of 0.25) passing these as positional arguments will result in an error\n",
            "  warnings.warn(f\"Pass {args_msg} as keyword args. From version \"\n",
            "C:\\Users\\Evgeniy\\anaconda3\\envs\\boris_env\\lib\\site-packages\\sklearn\\utils\\validation.py:70: FutureWarning: Pass threshold=0.5 as keyword args. From version 1.0 (renaming of 0.25) passing these as positional arguments will result in an error\n",
            "  warnings.warn(f\"Pass {args_msg} as keyword args. From version \"\n",
            "C:\\Users\\Evgeniy\\anaconda3\\envs\\boris_env\\lib\\site-packages\\mir_eval\\transcription_velocity.py:185: FutureWarning: `rcond` parameter will change to the default of machine precision times ``max(M, N)`` where M and N are the input matrix dimensions.\n",
            "To use the future default and silence this warning we advise to pass `rcond=None`, to keep using the old, explicitly pass `rcond=-1`.\n",
            "  slope, intercept = np.linalg.lstsq(\n"
          ],
          "name": "stderr"
        },
        {
          "output_type": "stream",
          "text": [
            "\t10 of 10\n",
            "1/1 [==============================] - 1s 575ms/step\n",
            "1/1 [==============================] - 1s 622ms/step\n",
            "1/1 [==============================] - 0s 193ms/step\n",
            "1/1 [==============================] - 1s 625ms/step\n"
          ],
          "name": "stdout"
        },
        {
          "output_type": "stream",
          "text": [
            "C:\\Users\\Evgeniy\\anaconda3\\envs\\boris_env\\lib\\site-packages\\sklearn\\utils\\validation.py:70: FutureWarning: Pass threshold=0.5 as keyword args. From version 1.0 (renaming of 0.25) passing these as positional arguments will result in an error\n",
            "  warnings.warn(f\"Pass {args_msg} as keyword args. From version \"\n",
            "C:\\Users\\Evgeniy\\anaconda3\\envs\\boris_env\\lib\\site-packages\\sklearn\\utils\\validation.py:70: FutureWarning: Pass threshold=0.5 as keyword args. From version 1.0 (renaming of 0.25) passing these as positional arguments will result in an error\n",
            "  warnings.warn(f\"Pass {args_msg} as keyword args. From version \"\n",
            "C:\\Users\\Evgeniy\\anaconda3\\envs\\boris_env\\lib\\site-packages\\sklearn\\utils\\validation.py:70: FutureWarning: Pass threshold=0.5 as keyword args. From version 1.0 (renaming of 0.25) passing these as positional arguments will result in an error\n",
            "  warnings.warn(f\"Pass {args_msg} as keyword args. From version \"\n",
            "C:\\Users\\Evgeniy\\anaconda3\\envs\\boris_env\\lib\\site-packages\\mir_eval\\transcription_velocity.py:185: FutureWarning: `rcond` parameter will change to the default of machine precision times ``max(M, N)`` where M and N are the input matrix dimensions.\n",
            "To use the future default and silence this warning we advise to pass `rcond=None`, to keep using the old, explicitly pass `rcond=-1`.\n",
            "  slope, intercept = np.linalg.lstsq(\n"
          ],
          "name": "stderr"
        },
        {
          "output_type": "stream",
          "text": [
            "\n",
            "Onsets: \n",
            "Precision (specificity) = 81.63%\n",
            "Recall    (sensitivity) = 92.52%\n",
            "F1-score                = 86.48%\n",
            "\n",
            "Frames: \n",
            "Precision (specificity) = 70.96%\n",
            "Recall    (sensitivity) = 80.17%\n",
            "F1-score                = 75.06%\n",
            "\n",
            "Volumes:\n",
            "Precision (specificity) = 66.75%\n",
            "Recall    (sensitivity) = 75.42%\n",
            "F1-score                = 70.61%\n",
            "\n",
            "Actual and predicted average number of onsets: 1.71 1.68\n",
            "Predicts less notes than actual (specific classifier)\n",
            "\n",
            "Maestro/1-5 seconds/test\\2017\n",
            "\t1 of 14\n",
            "2/2 [==============================] - 1s 444ms/step\n",
            "2/2 [==============================] - 1s 520ms/step\n",
            "2/2 [==============================] - 0s 94ms/step\n",
            "2/2 [==============================] - 1s 519ms/step\n"
          ],
          "name": "stdout"
        },
        {
          "output_type": "stream",
          "text": [
            "C:\\Users\\Evgeniy\\anaconda3\\envs\\boris_env\\lib\\site-packages\\sklearn\\utils\\validation.py:70: FutureWarning: Pass threshold=0.5 as keyword args. From version 1.0 (renaming of 0.25) passing these as positional arguments will result in an error\n",
            "  warnings.warn(f\"Pass {args_msg} as keyword args. From version \"\n",
            "C:\\Users\\Evgeniy\\anaconda3\\envs\\boris_env\\lib\\site-packages\\sklearn\\utils\\validation.py:70: FutureWarning: Pass threshold=0.5 as keyword args. From version 1.0 (renaming of 0.25) passing these as positional arguments will result in an error\n",
            "  warnings.warn(f\"Pass {args_msg} as keyword args. From version \"\n",
            "C:\\Users\\Evgeniy\\anaconda3\\envs\\boris_env\\lib\\site-packages\\sklearn\\utils\\validation.py:70: FutureWarning: Pass threshold=0.5 as keyword args. From version 1.0 (renaming of 0.25) passing these as positional arguments will result in an error\n",
            "  warnings.warn(f\"Pass {args_msg} as keyword args. From version \"\n",
            "C:\\Users\\Evgeniy\\anaconda3\\envs\\boris_env\\lib\\site-packages\\mir_eval\\transcription_velocity.py:185: FutureWarning: `rcond` parameter will change to the default of machine precision times ``max(M, N)`` where M and N are the input matrix dimensions.\n",
            "To use the future default and silence this warning we advise to pass `rcond=None`, to keep using the old, explicitly pass `rcond=-1`.\n",
            "  slope, intercept = np.linalg.lstsq(\n"
          ],
          "name": "stderr"
        },
        {
          "output_type": "stream",
          "text": [
            "\t2 of 14\n",
            "2/2 [==============================] - 1s 508ms/step\n",
            "2/2 [==============================] - 1s 498ms/step\n",
            "2/2 [==============================] - 0s 108ms/step\n",
            "2/2 [==============================] - 1s 471ms/step\n"
          ],
          "name": "stdout"
        },
        {
          "output_type": "stream",
          "text": [
            "C:\\Users\\Evgeniy\\anaconda3\\envs\\boris_env\\lib\\site-packages\\sklearn\\utils\\validation.py:70: FutureWarning: Pass threshold=0.5 as keyword args. From version 1.0 (renaming of 0.25) passing these as positional arguments will result in an error\n",
            "  warnings.warn(f\"Pass {args_msg} as keyword args. From version \"\n",
            "C:\\Users\\Evgeniy\\anaconda3\\envs\\boris_env\\lib\\site-packages\\sklearn\\utils\\validation.py:70: FutureWarning: Pass threshold=0.5 as keyword args. From version 1.0 (renaming of 0.25) passing these as positional arguments will result in an error\n",
            "  warnings.warn(f\"Pass {args_msg} as keyword args. From version \"\n",
            "C:\\Users\\Evgeniy\\anaconda3\\envs\\boris_env\\lib\\site-packages\\sklearn\\utils\\validation.py:70: FutureWarning: Pass threshold=0.5 as keyword args. From version 1.0 (renaming of 0.25) passing these as positional arguments will result in an error\n",
            "  warnings.warn(f\"Pass {args_msg} as keyword args. From version \"\n",
            "C:\\Users\\Evgeniy\\anaconda3\\envs\\boris_env\\lib\\site-packages\\mir_eval\\transcription_velocity.py:185: FutureWarning: `rcond` parameter will change to the default of machine precision times ``max(M, N)`` where M and N are the input matrix dimensions.\n",
            "To use the future default and silence this warning we advise to pass `rcond=None`, to keep using the old, explicitly pass `rcond=-1`.\n",
            "  slope, intercept = np.linalg.lstsq(\n"
          ],
          "name": "stderr"
        },
        {
          "output_type": "stream",
          "text": [
            "\t3 of 14\n",
            "1/1 [==============================] - 1s 562ms/step\n",
            "1/1 [==============================] - 1s 567ms/step\n",
            "1/1 [==============================] - 0s 145ms/step\n",
            "1/1 [==============================] - 1s 606ms/step\n"
          ],
          "name": "stdout"
        },
        {
          "output_type": "stream",
          "text": [
            "C:\\Users\\Evgeniy\\anaconda3\\envs\\boris_env\\lib\\site-packages\\sklearn\\utils\\validation.py:70: FutureWarning: Pass threshold=0.5 as keyword args. From version 1.0 (renaming of 0.25) passing these as positional arguments will result in an error\n",
            "  warnings.warn(f\"Pass {args_msg} as keyword args. From version \"\n",
            "C:\\Users\\Evgeniy\\anaconda3\\envs\\boris_env\\lib\\site-packages\\sklearn\\utils\\validation.py:70: FutureWarning: Pass threshold=0.5 as keyword args. From version 1.0 (renaming of 0.25) passing these as positional arguments will result in an error\n",
            "  warnings.warn(f\"Pass {args_msg} as keyword args. From version \"\n",
            "C:\\Users\\Evgeniy\\anaconda3\\envs\\boris_env\\lib\\site-packages\\sklearn\\utils\\validation.py:70: FutureWarning: Pass threshold=0.5 as keyword args. From version 1.0 (renaming of 0.25) passing these as positional arguments will result in an error\n",
            "  warnings.warn(f\"Pass {args_msg} as keyword args. From version \"\n",
            "C:\\Users\\Evgeniy\\anaconda3\\envs\\boris_env\\lib\\site-packages\\mir_eval\\transcription_velocity.py:185: FutureWarning: `rcond` parameter will change to the default of machine precision times ``max(M, N)`` where M and N are the input matrix dimensions.\n",
            "To use the future default and silence this warning we advise to pass `rcond=None`, to keep using the old, explicitly pass `rcond=-1`.\n",
            "  slope, intercept = np.linalg.lstsq(\n"
          ],
          "name": "stderr"
        },
        {
          "output_type": "stream",
          "text": [
            "\t4 of 14\n",
            "1/1 [==============================] - 1s 537ms/step\n",
            "1/1 [==============================] - 0s 469ms/step\n",
            "1/1 [==============================] - 0s 99ms/step\n",
            "1/1 [==============================] - 0s 463ms/step\n"
          ],
          "name": "stdout"
        },
        {
          "output_type": "stream",
          "text": [
            "C:\\Users\\Evgeniy\\anaconda3\\envs\\boris_env\\lib\\site-packages\\sklearn\\utils\\validation.py:70: FutureWarning: Pass threshold=0.5 as keyword args. From version 1.0 (renaming of 0.25) passing these as positional arguments will result in an error\n",
            "  warnings.warn(f\"Pass {args_msg} as keyword args. From version \"\n",
            "C:\\Users\\Evgeniy\\anaconda3\\envs\\boris_env\\lib\\site-packages\\sklearn\\utils\\validation.py:70: FutureWarning: Pass threshold=0.5 as keyword args. From version 1.0 (renaming of 0.25) passing these as positional arguments will result in an error\n",
            "  warnings.warn(f\"Pass {args_msg} as keyword args. From version \"\n",
            "C:\\Users\\Evgeniy\\anaconda3\\envs\\boris_env\\lib\\site-packages\\sklearn\\utils\\validation.py:70: FutureWarning: Pass threshold=0.5 as keyword args. From version 1.0 (renaming of 0.25) passing these as positional arguments will result in an error\n",
            "  warnings.warn(f\"Pass {args_msg} as keyword args. From version \"\n",
            "C:\\Users\\Evgeniy\\anaconda3\\envs\\boris_env\\lib\\site-packages\\mir_eval\\transcription_velocity.py:185: FutureWarning: `rcond` parameter will change to the default of machine precision times ``max(M, N)`` where M and N are the input matrix dimensions.\n",
            "To use the future default and silence this warning we advise to pass `rcond=None`, to keep using the old, explicitly pass `rcond=-1`.\n",
            "  slope, intercept = np.linalg.lstsq(\n"
          ],
          "name": "stderr"
        },
        {
          "output_type": "stream",
          "text": [
            "\t5 of 14\n",
            "1/1 [==============================] - 1s 648ms/step\n",
            "1/1 [==============================] - 1s 583ms/step\n",
            "1/1 [==============================] - 0s 200ms/step\n",
            "1/1 [==============================] - 1s 569ms/step\n"
          ],
          "name": "stdout"
        },
        {
          "output_type": "stream",
          "text": [
            "C:\\Users\\Evgeniy\\anaconda3\\envs\\boris_env\\lib\\site-packages\\sklearn\\utils\\validation.py:70: FutureWarning: Pass threshold=0.5 as keyword args. From version 1.0 (renaming of 0.25) passing these as positional arguments will result in an error\n",
            "  warnings.warn(f\"Pass {args_msg} as keyword args. From version \"\n",
            "C:\\Users\\Evgeniy\\anaconda3\\envs\\boris_env\\lib\\site-packages\\sklearn\\utils\\validation.py:70: FutureWarning: Pass threshold=0.5 as keyword args. From version 1.0 (renaming of 0.25) passing these as positional arguments will result in an error\n",
            "  warnings.warn(f\"Pass {args_msg} as keyword args. From version \"\n",
            "C:\\Users\\Evgeniy\\anaconda3\\envs\\boris_env\\lib\\site-packages\\sklearn\\utils\\validation.py:70: FutureWarning: Pass threshold=0.5 as keyword args. From version 1.0 (renaming of 0.25) passing these as positional arguments will result in an error\n",
            "  warnings.warn(f\"Pass {args_msg} as keyword args. From version \"\n",
            "C:\\Users\\Evgeniy\\anaconda3\\envs\\boris_env\\lib\\site-packages\\mir_eval\\transcription_velocity.py:185: FutureWarning: `rcond` parameter will change to the default of machine precision times ``max(M, N)`` where M and N are the input matrix dimensions.\n",
            "To use the future default and silence this warning we advise to pass `rcond=None`, to keep using the old, explicitly pass `rcond=-1`.\n",
            "  slope, intercept = np.linalg.lstsq(\n"
          ],
          "name": "stderr"
        },
        {
          "output_type": "stream",
          "text": [
            "\t6 of 14\n",
            "3/3 [==============================] - 2s 517ms/step\n",
            "3/3 [==============================] - 2s 505ms/step\n",
            "3/3 [==============================] - 0s 115ms/step\n",
            "3/3 [==============================] - 2s 494ms/step\n"
          ],
          "name": "stdout"
        },
        {
          "output_type": "stream",
          "text": [
            "C:\\Users\\Evgeniy\\anaconda3\\envs\\boris_env\\lib\\site-packages\\sklearn\\utils\\validation.py:70: FutureWarning: Pass threshold=0.5 as keyword args. From version 1.0 (renaming of 0.25) passing these as positional arguments will result in an error\n",
            "  warnings.warn(f\"Pass {args_msg} as keyword args. From version \"\n",
            "C:\\Users\\Evgeniy\\anaconda3\\envs\\boris_env\\lib\\site-packages\\sklearn\\utils\\validation.py:70: FutureWarning: Pass threshold=0.5 as keyword args. From version 1.0 (renaming of 0.25) passing these as positional arguments will result in an error\n",
            "  warnings.warn(f\"Pass {args_msg} as keyword args. From version \"\n",
            "C:\\Users\\Evgeniy\\anaconda3\\envs\\boris_env\\lib\\site-packages\\sklearn\\utils\\validation.py:70: FutureWarning: Pass threshold=0.5 as keyword args. From version 1.0 (renaming of 0.25) passing these as positional arguments will result in an error\n",
            "  warnings.warn(f\"Pass {args_msg} as keyword args. From version \"\n",
            "C:\\Users\\Evgeniy\\anaconda3\\envs\\boris_env\\lib\\site-packages\\mir_eval\\transcription_velocity.py:185: FutureWarning: `rcond` parameter will change to the default of machine precision times ``max(M, N)`` where M and N are the input matrix dimensions.\n",
            "To use the future default and silence this warning we advise to pass `rcond=None`, to keep using the old, explicitly pass `rcond=-1`.\n",
            "  slope, intercept = np.linalg.lstsq(\n"
          ],
          "name": "stderr"
        },
        {
          "output_type": "stream",
          "text": [
            "\t7 of 14\n",
            "2/2 [==============================] - 1s 433ms/step\n",
            "2/2 [==============================] - 1s 435ms/step\n",
            "2/2 [==============================] - 0s 34ms/step\n",
            "2/2 [==============================] - 1s 434ms/step\n"
          ],
          "name": "stdout"
        },
        {
          "output_type": "stream",
          "text": [
            "C:\\Users\\Evgeniy\\anaconda3\\envs\\boris_env\\lib\\site-packages\\sklearn\\utils\\validation.py:70: FutureWarning: Pass threshold=0.5 as keyword args. From version 1.0 (renaming of 0.25) passing these as positional arguments will result in an error\n",
            "  warnings.warn(f\"Pass {args_msg} as keyword args. From version \"\n",
            "C:\\Users\\Evgeniy\\anaconda3\\envs\\boris_env\\lib\\site-packages\\sklearn\\utils\\validation.py:70: FutureWarning: Pass threshold=0.5 as keyword args. From version 1.0 (renaming of 0.25) passing these as positional arguments will result in an error\n",
            "  warnings.warn(f\"Pass {args_msg} as keyword args. From version \"\n",
            "C:\\Users\\Evgeniy\\anaconda3\\envs\\boris_env\\lib\\site-packages\\sklearn\\utils\\validation.py:70: FutureWarning: Pass threshold=0.5 as keyword args. From version 1.0 (renaming of 0.25) passing these as positional arguments will result in an error\n",
            "  warnings.warn(f\"Pass {args_msg} as keyword args. From version \"\n",
            "C:\\Users\\Evgeniy\\anaconda3\\envs\\boris_env\\lib\\site-packages\\mir_eval\\transcription_velocity.py:185: FutureWarning: `rcond` parameter will change to the default of machine precision times ``max(M, N)`` where M and N are the input matrix dimensions.\n",
            "To use the future default and silence this warning we advise to pass `rcond=None`, to keep using the old, explicitly pass `rcond=-1`.\n",
            "  slope, intercept = np.linalg.lstsq(\n"
          ],
          "name": "stderr"
        },
        {
          "output_type": "stream",
          "text": [
            "\t8 of 14\n",
            "1/1 [==============================] - 1s 653ms/step\n",
            "1/1 [==============================] - 1s 670ms/step\n",
            "1/1 [==============================] - 0s 201ms/step\n",
            "1/1 [==============================] - 1s 595ms/step\n"
          ],
          "name": "stdout"
        },
        {
          "output_type": "stream",
          "text": [
            "C:\\Users\\Evgeniy\\anaconda3\\envs\\boris_env\\lib\\site-packages\\sklearn\\utils\\validation.py:70: FutureWarning: Pass threshold=0.5 as keyword args. From version 1.0 (renaming of 0.25) passing these as positional arguments will result in an error\n",
            "  warnings.warn(f\"Pass {args_msg} as keyword args. From version \"\n",
            "C:\\Users\\Evgeniy\\anaconda3\\envs\\boris_env\\lib\\site-packages\\sklearn\\utils\\validation.py:70: FutureWarning: Pass threshold=0.5 as keyword args. From version 1.0 (renaming of 0.25) passing these as positional arguments will result in an error\n",
            "  warnings.warn(f\"Pass {args_msg} as keyword args. From version \"\n",
            "C:\\Users\\Evgeniy\\anaconda3\\envs\\boris_env\\lib\\site-packages\\sklearn\\utils\\validation.py:70: FutureWarning: Pass threshold=0.5 as keyword args. From version 1.0 (renaming of 0.25) passing these as positional arguments will result in an error\n",
            "  warnings.warn(f\"Pass {args_msg} as keyword args. From version \"\n",
            "C:\\Users\\Evgeniy\\anaconda3\\envs\\boris_env\\lib\\site-packages\\mir_eval\\transcription_velocity.py:185: FutureWarning: `rcond` parameter will change to the default of machine precision times ``max(M, N)`` where M and N are the input matrix dimensions.\n",
            "To use the future default and silence this warning we advise to pass `rcond=None`, to keep using the old, explicitly pass `rcond=-1`.\n",
            "  slope, intercept = np.linalg.lstsq(\n"
          ],
          "name": "stderr"
        },
        {
          "output_type": "stream",
          "text": [
            "\t9 of 14\n",
            "2/2 [==============================] - 1s 474ms/step\n",
            "2/2 [==============================] - 1s 532ms/step\n",
            "2/2 [==============================] - 0s 99ms/step\n",
            "2/2 [==============================] - 1s 466ms/step\n"
          ],
          "name": "stdout"
        },
        {
          "output_type": "stream",
          "text": [
            "C:\\Users\\Evgeniy\\anaconda3\\envs\\boris_env\\lib\\site-packages\\sklearn\\utils\\validation.py:70: FutureWarning: Pass threshold=0.5 as keyword args. From version 1.0 (renaming of 0.25) passing these as positional arguments will result in an error\n",
            "  warnings.warn(f\"Pass {args_msg} as keyword args. From version \"\n",
            "C:\\Users\\Evgeniy\\anaconda3\\envs\\boris_env\\lib\\site-packages\\sklearn\\utils\\validation.py:70: FutureWarning: Pass threshold=0.5 as keyword args. From version 1.0 (renaming of 0.25) passing these as positional arguments will result in an error\n",
            "  warnings.warn(f\"Pass {args_msg} as keyword args. From version \"\n",
            "C:\\Users\\Evgeniy\\anaconda3\\envs\\boris_env\\lib\\site-packages\\sklearn\\utils\\validation.py:70: FutureWarning: Pass threshold=0.5 as keyword args. From version 1.0 (renaming of 0.25) passing these as positional arguments will result in an error\n",
            "  warnings.warn(f\"Pass {args_msg} as keyword args. From version \"\n",
            "C:\\Users\\Evgeniy\\anaconda3\\envs\\boris_env\\lib\\site-packages\\mir_eval\\transcription_velocity.py:185: FutureWarning: `rcond` parameter will change to the default of machine precision times ``max(M, N)`` where M and N are the input matrix dimensions.\n",
            "To use the future default and silence this warning we advise to pass `rcond=None`, to keep using the old, explicitly pass `rcond=-1`.\n",
            "  slope, intercept = np.linalg.lstsq(\n"
          ],
          "name": "stderr"
        },
        {
          "output_type": "stream",
          "text": [
            "\t10 of 14\n",
            "2/2 [==============================] - 1s 462ms/step\n",
            "2/2 [==============================] - 1s 406ms/step\n",
            "2/2 [==============================] - 0s 33ms/step\n",
            "2/2 [==============================] - 1s 384ms/step\n"
          ],
          "name": "stdout"
        },
        {
          "output_type": "stream",
          "text": [
            "C:\\Users\\Evgeniy\\anaconda3\\envs\\boris_env\\lib\\site-packages\\sklearn\\utils\\validation.py:70: FutureWarning: Pass threshold=0.5 as keyword args. From version 1.0 (renaming of 0.25) passing these as positional arguments will result in an error\n",
            "  warnings.warn(f\"Pass {args_msg} as keyword args. From version \"\n",
            "C:\\Users\\Evgeniy\\anaconda3\\envs\\boris_env\\lib\\site-packages\\sklearn\\utils\\validation.py:70: FutureWarning: Pass threshold=0.5 as keyword args. From version 1.0 (renaming of 0.25) passing these as positional arguments will result in an error\n",
            "  warnings.warn(f\"Pass {args_msg} as keyword args. From version \"\n",
            "C:\\Users\\Evgeniy\\anaconda3\\envs\\boris_env\\lib\\site-packages\\sklearn\\utils\\validation.py:70: FutureWarning: Pass threshold=0.5 as keyword args. From version 1.0 (renaming of 0.25) passing these as positional arguments will result in an error\n",
            "  warnings.warn(f\"Pass {args_msg} as keyword args. From version \"\n",
            "C:\\Users\\Evgeniy\\anaconda3\\envs\\boris_env\\lib\\site-packages\\mir_eval\\transcription_velocity.py:185: FutureWarning: `rcond` parameter will change to the default of machine precision times ``max(M, N)`` where M and N are the input matrix dimensions.\n",
            "To use the future default and silence this warning we advise to pass `rcond=None`, to keep using the old, explicitly pass `rcond=-1`.\n",
            "  slope, intercept = np.linalg.lstsq(\n"
          ],
          "name": "stderr"
        },
        {
          "output_type": "stream",
          "text": [
            "\t11 of 14\n",
            "3/3 [==============================] - 2s 581ms/step\n",
            "3/3 [==============================] - 2s 611ms/step\n",
            "3/3 [==============================] - 1s 187ms/step\n",
            "3/3 [==============================] - 2s 594ms/step\n"
          ],
          "name": "stdout"
        },
        {
          "output_type": "stream",
          "text": [
            "C:\\Users\\Evgeniy\\anaconda3\\envs\\boris_env\\lib\\site-packages\\sklearn\\utils\\validation.py:70: FutureWarning: Pass threshold=0.5 as keyword args. From version 1.0 (renaming of 0.25) passing these as positional arguments will result in an error\n",
            "  warnings.warn(f\"Pass {args_msg} as keyword args. From version \"\n",
            "C:\\Users\\Evgeniy\\anaconda3\\envs\\boris_env\\lib\\site-packages\\sklearn\\utils\\validation.py:70: FutureWarning: Pass threshold=0.5 as keyword args. From version 1.0 (renaming of 0.25) passing these as positional arguments will result in an error\n",
            "  warnings.warn(f\"Pass {args_msg} as keyword args. From version \"\n",
            "C:\\Users\\Evgeniy\\anaconda3\\envs\\boris_env\\lib\\site-packages\\sklearn\\utils\\validation.py:70: FutureWarning: Pass threshold=0.5 as keyword args. From version 1.0 (renaming of 0.25) passing these as positional arguments will result in an error\n",
            "  warnings.warn(f\"Pass {args_msg} as keyword args. From version \"\n",
            "C:\\Users\\Evgeniy\\anaconda3\\envs\\boris_env\\lib\\site-packages\\mir_eval\\transcription_velocity.py:185: FutureWarning: `rcond` parameter will change to the default of machine precision times ``max(M, N)`` where M and N are the input matrix dimensions.\n",
            "To use the future default and silence this warning we advise to pass `rcond=None`, to keep using the old, explicitly pass `rcond=-1`.\n",
            "  slope, intercept = np.linalg.lstsq(\n"
          ],
          "name": "stderr"
        },
        {
          "output_type": "stream",
          "text": [
            "\t12 of 14\n",
            "2/2 [==============================] - 1s 529ms/step\n",
            "2/2 [==============================] - 1s 567ms/step\n",
            "2/2 [==============================] - 0s 152ms/step\n",
            "2/2 [==============================] - 1s 517ms/step\n"
          ],
          "name": "stdout"
        },
        {
          "output_type": "stream",
          "text": [
            "C:\\Users\\Evgeniy\\anaconda3\\envs\\boris_env\\lib\\site-packages\\sklearn\\utils\\validation.py:70: FutureWarning: Pass threshold=0.5 as keyword args. From version 1.0 (renaming of 0.25) passing these as positional arguments will result in an error\n",
            "  warnings.warn(f\"Pass {args_msg} as keyword args. From version \"\n",
            "C:\\Users\\Evgeniy\\anaconda3\\envs\\boris_env\\lib\\site-packages\\sklearn\\utils\\validation.py:70: FutureWarning: Pass threshold=0.5 as keyword args. From version 1.0 (renaming of 0.25) passing these as positional arguments will result in an error\n",
            "  warnings.warn(f\"Pass {args_msg} as keyword args. From version \"\n",
            "C:\\Users\\Evgeniy\\anaconda3\\envs\\boris_env\\lib\\site-packages\\sklearn\\utils\\validation.py:70: FutureWarning: Pass threshold=0.5 as keyword args. From version 1.0 (renaming of 0.25) passing these as positional arguments will result in an error\n",
            "  warnings.warn(f\"Pass {args_msg} as keyword args. From version \"\n",
            "C:\\Users\\Evgeniy\\anaconda3\\envs\\boris_env\\lib\\site-packages\\mir_eval\\transcription_velocity.py:185: FutureWarning: `rcond` parameter will change to the default of machine precision times ``max(M, N)`` where M and N are the input matrix dimensions.\n",
            "To use the future default and silence this warning we advise to pass `rcond=None`, to keep using the old, explicitly pass `rcond=-1`.\n",
            "  slope, intercept = np.linalg.lstsq(\n"
          ],
          "name": "stderr"
        },
        {
          "output_type": "stream",
          "text": [
            "\t13 of 14\n",
            "3/3 [==============================] - 2s 477ms/step\n",
            "3/3 [==============================] - 2s 535ms/step\n",
            "3/3 [==============================] - 0s 114ms/step\n",
            "3/3 [==============================] - 2s 530ms/step\n"
          ],
          "name": "stdout"
        },
        {
          "output_type": "stream",
          "text": [
            "C:\\Users\\Evgeniy\\anaconda3\\envs\\boris_env\\lib\\site-packages\\sklearn\\utils\\validation.py:70: FutureWarning: Pass threshold=0.5 as keyword args. From version 1.0 (renaming of 0.25) passing these as positional arguments will result in an error\n",
            "  warnings.warn(f\"Pass {args_msg} as keyword args. From version \"\n",
            "C:\\Users\\Evgeniy\\anaconda3\\envs\\boris_env\\lib\\site-packages\\sklearn\\utils\\validation.py:70: FutureWarning: Pass threshold=0.5 as keyword args. From version 1.0 (renaming of 0.25) passing these as positional arguments will result in an error\n",
            "  warnings.warn(f\"Pass {args_msg} as keyword args. From version \"\n",
            "C:\\Users\\Evgeniy\\anaconda3\\envs\\boris_env\\lib\\site-packages\\sklearn\\utils\\validation.py:70: FutureWarning: Pass threshold=0.5 as keyword args. From version 1.0 (renaming of 0.25) passing these as positional arguments will result in an error\n",
            "  warnings.warn(f\"Pass {args_msg} as keyword args. From version \"\n",
            "C:\\Users\\Evgeniy\\anaconda3\\envs\\boris_env\\lib\\site-packages\\mir_eval\\transcription_velocity.py:185: FutureWarning: `rcond` parameter will change to the default of machine precision times ``max(M, N)`` where M and N are the input matrix dimensions.\n",
            "To use the future default and silence this warning we advise to pass `rcond=None`, to keep using the old, explicitly pass `rcond=-1`.\n",
            "  slope, intercept = np.linalg.lstsq(\n"
          ],
          "name": "stderr"
        },
        {
          "output_type": "stream",
          "text": [
            "\t14 of 14\n",
            "4/4 [==============================] - 2s 595ms/step\n",
            "4/4 [==============================] - 2s 601ms/step\n",
            "4/4 [==============================] - 1s 185ms/step\n",
            "4/4 [==============================] - 2s 575ms/step\n"
          ],
          "name": "stdout"
        },
        {
          "output_type": "stream",
          "text": [
            "C:\\Users\\Evgeniy\\anaconda3\\envs\\boris_env\\lib\\site-packages\\sklearn\\utils\\validation.py:70: FutureWarning: Pass threshold=0.5 as keyword args. From version 1.0 (renaming of 0.25) passing these as positional arguments will result in an error\n",
            "  warnings.warn(f\"Pass {args_msg} as keyword args. From version \"\n",
            "C:\\Users\\Evgeniy\\anaconda3\\envs\\boris_env\\lib\\site-packages\\sklearn\\utils\\validation.py:70: FutureWarning: Pass threshold=0.5 as keyword args. From version 1.0 (renaming of 0.25) passing these as positional arguments will result in an error\n",
            "  warnings.warn(f\"Pass {args_msg} as keyword args. From version \"\n",
            "C:\\Users\\Evgeniy\\anaconda3\\envs\\boris_env\\lib\\site-packages\\sklearn\\utils\\validation.py:70: FutureWarning: Pass threshold=0.5 as keyword args. From version 1.0 (renaming of 0.25) passing these as positional arguments will result in an error\n",
            "  warnings.warn(f\"Pass {args_msg} as keyword args. From version \"\n"
          ],
          "name": "stderr"
        },
        {
          "output_type": "stream",
          "text": [
            "\n",
            "Onsets: \n",
            "Precision (specificity) = 87.06%\n",
            "Recall    (sensitivity) = 93.44%\n",
            "F1-score                = 90.05%\n",
            "\n",
            "Frames: \n",
            "Precision (specificity) = 74.81%\n",
            "Recall    (sensitivity) = 80.12%\n",
            "F1-score                = 77.30%\n",
            "\n",
            "Volumes:\n",
            "Precision (specificity) = 71.65%\n",
            "Recall    (sensitivity) = 76.72%\n",
            "F1-score                = 74.03%\n",
            "\n",
            "Actual and predicted average number of onsets: 1.72 1.67\n",
            "Predicts less notes than actual (specific classifier)\n",
            "\n"
          ],
          "name": "stdout"
        },
        {
          "output_type": "stream",
          "text": [
            "C:\\Users\\Evgeniy\\anaconda3\\envs\\boris_env\\lib\\site-packages\\mir_eval\\transcription_velocity.py:185: FutureWarning: `rcond` parameter will change to the default of machine precision times ``max(M, N)`` where M and N are the input matrix dimensions.\n",
            "To use the future default and silence this warning we advise to pass `rcond=None`, to keep using the old, explicitly pass `rcond=-1`.\n",
            "  slope, intercept = np.linalg.lstsq(\n"
          ],
          "name": "stderr"
        }
      ]
    },
    {
      "cell_type": "code",
      "metadata": {
        "scrolled": false,
        "id": "YqZ31gcZjTLF",
        "outputId": "10cecc82-d897-4a17-f2a3-8a314a8aedc6"
      },
      "source": [
        "mels2014, onTrue2014, offTrue2014, actTrue2014, volTrue2014 = map(lambda name: np.vstack(np.load(\n",
        "#    '{}/test/2014/MIDI-UNPROCESSED_19-20_R1_2014_MID--AUDIO_20_R1_2014_wav--2 {}.npy'.format(dataFolder, name),\n",
        "    'Maestro/1-5 seconds/test/2014/MIDI-UNPROCESSED_19-20_R1_2014_MID--AUDIO_20_R1_2014_wav--2 {}.npy'.format(name),\n",
        "    allow_pickle=True)), ['Mels', 'Onsets', 'Offsets', 'Actives', 'Volumes'])\n",
        "\n",
        "mels2014 = np.pad(mels2014, [(0, -len(mels2014) % melsVal.shape[1]), (0, 0)],\n",
        "                  'minimum').reshape((-1, melsVal.shape[1], melsVal.shape[2]))\n",
        "onProb2014, offProb2014, volProb2014 = map(lambda mod: mod.predict(mels2014, 16, 1), [onsetsModel, offsetsModel, volumesModel])\n",
        "actProb2014 = activesModel.predict([onProb2014, mels2014, offProb2014], 16, 1)\n",
        "onProb2014, offProb2014, actProb2014, volProb2014 = map(lambda arr: np.vstack(\n",
        "    arr)[:len(actTrue2014)], [onProb2014, offProb2014, actProb2014, volProb2014])\n",
        "\n",
        "def VolumesF1(onPred, offPred, actPred):\n",
        "    refIntervals, refPitches, refVolumes, estIntervals, estPitches, estVolumes = sequence_to_valued_intervals(\n",
        "        pianoroll_to_note_sequence(actTrue2014, fps, 0, onset_predictions=onTrue2014, offset_predictions=offTrue2014,\n",
        "            velocity_values=volTrue2014), 0) + sequence_to_valued_intervals(pianoroll_to_note_sequence(\n",
        "        actPred, fps, 0, onset_predictions=onPred, offset_predictions=offPred, velocity_values=volProb2014), 0)\n",
        "    refPitches, estPitches = map(lambda ps: midi_to_hz(ps + 21), [refPitches, estPitches])\n",
        "    return OverlapVolumes(refIntervals, refPitches, refVolumes, estIntervals, estPitches, estVolumes)[2]\n",
        "\n",
        "\n",
        "precision = 10\n",
        "th = [i / precision for i in range(precision + 1)]\n",
        "acc = [0] + [VolumesF1(*map(lambda arr: binarize(arr, t), [onProb2014, offProb2014, actProb2014])) for t in th[1:]]\n",
        "\n",
        "plt.figure(figsize=(16, 4))\n",
        "plt.subplot(1, 3, 1)\n",
        "\n",
        "plt.plot(th, acc, linewidth=3)\n",
        "plt.title('Max Overlap Accuracy = {:.2%}'.format(max(acc)))\n",
        "plt.xlabel('Threshold')\n",
        "\n",
        "thBest = acc.index(max(acc)) / precision\n",
        "plt.vlines(thBest, 0, max(acc), 'r', label='Best threshold = ' + str(thBest), linewidth=3)\n",
        "\n",
        "plt.legend()\n",
        "plt.grid()\n",
        "\n",
        "def PlotROC(i, yTrue, yProb, name):\n",
        "    plt.subplot(1, 3, i)\n",
        "\n",
        "    fpr, tpr, ths = roc_curve(yTrue.ravel(), yProb.ravel()) # micro-average ROC curve\n",
        "    plt.plot(fpr, tpr, linewidth = 3)\n",
        "\n",
        "    plt.title(name + ' ROC curve')\n",
        "    plt.xlabel('False positive rate (1 - Specificity)')\n",
        "    plt.ylabel('True positive rate (Sensitivity)')\n",
        "\n",
        "    plt.scatter(fpr[ths > .5][-1], tpr[ths > .5][-1], s=100, c='g', marker='x',\n",
        "                linewidth=2, label='Default threshold = 0.50')\n",
        "    plt.scatter(fpr[ths > thBest][-1], tpr[ths > thBest][-1], s=100, c='r', marker='x',\n",
        "                linewidth=2, label='Best threshold = ' + str(thBest))\n",
        "\n",
        "    plt.legend()\n",
        "    plt.grid()\n",
        "    plt.text(.5, .5, 'Area = {:.2%}'.format(auc(fpr, tpr)), horizontalalignment='center', verticalalignment='center',\n",
        "             bbox={'facecolor': 'w', 'alpha': 1}, color='r'); # micro-average area under the ROC curve\n",
        "\n",
        "PlotROC(2,  onTrue2014,  onProb2014, 'Onsets')\n",
        "PlotROC(3, actTrue2014, actProb2014, 'Frames')"
      ],
      "execution_count": null,
      "outputs": [
        {
          "output_type": "stream",
          "text": [
            "6/6 [==============================] - 3s 557ms/step\n",
            "6/6 [==============================] - 3s 572ms/step\n",
            "6/6 [==============================] - 1s 162ms/step ETA: \n",
            "6/6 [==============================] - 3s 554ms/step\n"
          ],
          "name": "stdout"
        },
        {
          "output_type": "stream",
          "text": [
            "C:\\Users\\Evgeniy\\anaconda3\\envs\\boris_env\\lib\\site-packages\\sklearn\\utils\\validation.py:70: FutureWarning: Pass threshold=0.1 as keyword args. From version 1.0 (renaming of 0.25) passing these as positional arguments will result in an error\n",
            "  warnings.warn(f\"Pass {args_msg} as keyword args. From version \"\n",
            "C:\\Users\\Evgeniy\\anaconda3\\envs\\boris_env\\lib\\site-packages\\sklearn\\utils\\validation.py:70: FutureWarning: Pass threshold=0.1 as keyword args. From version 1.0 (renaming of 0.25) passing these as positional arguments will result in an error\n",
            "  warnings.warn(f\"Pass {args_msg} as keyword args. From version \"\n",
            "C:\\Users\\Evgeniy\\anaconda3\\envs\\boris_env\\lib\\site-packages\\sklearn\\utils\\validation.py:70: FutureWarning: Pass threshold=0.1 as keyword args. From version 1.0 (renaming of 0.25) passing these as positional arguments will result in an error\n",
            "  warnings.warn(f\"Pass {args_msg} as keyword args. From version \"\n",
            "C:\\Users\\Evgeniy\\anaconda3\\envs\\boris_env\\lib\\site-packages\\mir_eval\\transcription_velocity.py:185: FutureWarning: `rcond` parameter will change to the default of machine precision times ``max(M, N)`` where M and N are the input matrix dimensions.\n",
            "To use the future default and silence this warning we advise to pass `rcond=None`, to keep using the old, explicitly pass `rcond=-1`.\n",
            "  slope, intercept = np.linalg.lstsq(\n",
            "C:\\Users\\Evgeniy\\anaconda3\\envs\\boris_env\\lib\\site-packages\\sklearn\\utils\\validation.py:70: FutureWarning: Pass threshold=0.2 as keyword args. From version 1.0 (renaming of 0.25) passing these as positional arguments will result in an error\n",
            "  warnings.warn(f\"Pass {args_msg} as keyword args. From version \"\n",
            "C:\\Users\\Evgeniy\\anaconda3\\envs\\boris_env\\lib\\site-packages\\sklearn\\utils\\validation.py:70: FutureWarning: Pass threshold=0.2 as keyword args. From version 1.0 (renaming of 0.25) passing these as positional arguments will result in an error\n",
            "  warnings.warn(f\"Pass {args_msg} as keyword args. From version \"\n",
            "C:\\Users\\Evgeniy\\anaconda3\\envs\\boris_env\\lib\\site-packages\\sklearn\\utils\\validation.py:70: FutureWarning: Pass threshold=0.2 as keyword args. From version 1.0 (renaming of 0.25) passing these as positional arguments will result in an error\n",
            "  warnings.warn(f\"Pass {args_msg} as keyword args. From version \"\n",
            "C:\\Users\\Evgeniy\\anaconda3\\envs\\boris_env\\lib\\site-packages\\mir_eval\\transcription_velocity.py:185: FutureWarning: `rcond` parameter will change to the default of machine precision times ``max(M, N)`` where M and N are the input matrix dimensions.\n",
            "To use the future default and silence this warning we advise to pass `rcond=None`, to keep using the old, explicitly pass `rcond=-1`.\n",
            "  slope, intercept = np.linalg.lstsq(\n",
            "C:\\Users\\Evgeniy\\anaconda3\\envs\\boris_env\\lib\\site-packages\\sklearn\\utils\\validation.py:70: FutureWarning: Pass threshold=0.3 as keyword args. From version 1.0 (renaming of 0.25) passing these as positional arguments will result in an error\n",
            "  warnings.warn(f\"Pass {args_msg} as keyword args. From version \"\n",
            "C:\\Users\\Evgeniy\\anaconda3\\envs\\boris_env\\lib\\site-packages\\sklearn\\utils\\validation.py:70: FutureWarning: Pass threshold=0.3 as keyword args. From version 1.0 (renaming of 0.25) passing these as positional arguments will result in an error\n",
            "  warnings.warn(f\"Pass {args_msg} as keyword args. From version \"\n",
            "C:\\Users\\Evgeniy\\anaconda3\\envs\\boris_env\\lib\\site-packages\\sklearn\\utils\\validation.py:70: FutureWarning: Pass threshold=0.3 as keyword args. From version 1.0 (renaming of 0.25) passing these as positional arguments will result in an error\n",
            "  warnings.warn(f\"Pass {args_msg} as keyword args. From version \"\n",
            "C:\\Users\\Evgeniy\\anaconda3\\envs\\boris_env\\lib\\site-packages\\mir_eval\\transcription_velocity.py:185: FutureWarning: `rcond` parameter will change to the default of machine precision times ``max(M, N)`` where M and N are the input matrix dimensions.\n",
            "To use the future default and silence this warning we advise to pass `rcond=None`, to keep using the old, explicitly pass `rcond=-1`.\n",
            "  slope, intercept = np.linalg.lstsq(\n",
            "C:\\Users\\Evgeniy\\anaconda3\\envs\\boris_env\\lib\\site-packages\\sklearn\\utils\\validation.py:70: FutureWarning: Pass threshold=0.4 as keyword args. From version 1.0 (renaming of 0.25) passing these as positional arguments will result in an error\n",
            "  warnings.warn(f\"Pass {args_msg} as keyword args. From version \"\n",
            "C:\\Users\\Evgeniy\\anaconda3\\envs\\boris_env\\lib\\site-packages\\sklearn\\utils\\validation.py:70: FutureWarning: Pass threshold=0.4 as keyword args. From version 1.0 (renaming of 0.25) passing these as positional arguments will result in an error\n",
            "  warnings.warn(f\"Pass {args_msg} as keyword args. From version \"\n",
            "C:\\Users\\Evgeniy\\anaconda3\\envs\\boris_env\\lib\\site-packages\\sklearn\\utils\\validation.py:70: FutureWarning: Pass threshold=0.4 as keyword args. From version 1.0 (renaming of 0.25) passing these as positional arguments will result in an error\n",
            "  warnings.warn(f\"Pass {args_msg} as keyword args. From version \"\n",
            "C:\\Users\\Evgeniy\\anaconda3\\envs\\boris_env\\lib\\site-packages\\mir_eval\\transcription_velocity.py:185: FutureWarning: `rcond` parameter will change to the default of machine precision times ``max(M, N)`` where M and N are the input matrix dimensions.\n",
            "To use the future default and silence this warning we advise to pass `rcond=None`, to keep using the old, explicitly pass `rcond=-1`.\n",
            "  slope, intercept = np.linalg.lstsq(\n",
            "C:\\Users\\Evgeniy\\anaconda3\\envs\\boris_env\\lib\\site-packages\\sklearn\\utils\\validation.py:70: FutureWarning: Pass threshold=0.5 as keyword args. From version 1.0 (renaming of 0.25) passing these as positional arguments will result in an error\n",
            "  warnings.warn(f\"Pass {args_msg} as keyword args. From version \"\n",
            "C:\\Users\\Evgeniy\\anaconda3\\envs\\boris_env\\lib\\site-packages\\sklearn\\utils\\validation.py:70: FutureWarning: Pass threshold=0.5 as keyword args. From version 1.0 (renaming of 0.25) passing these as positional arguments will result in an error\n",
            "  warnings.warn(f\"Pass {args_msg} as keyword args. From version \"\n",
            "C:\\Users\\Evgeniy\\anaconda3\\envs\\boris_env\\lib\\site-packages\\sklearn\\utils\\validation.py:70: FutureWarning: Pass threshold=0.5 as keyword args. From version 1.0 (renaming of 0.25) passing these as positional arguments will result in an error\n",
            "  warnings.warn(f\"Pass {args_msg} as keyword args. From version \"\n",
            "C:\\Users\\Evgeniy\\anaconda3\\envs\\boris_env\\lib\\site-packages\\mir_eval\\transcription_velocity.py:185: FutureWarning: `rcond` parameter will change to the default of machine precision times ``max(M, N)`` where M and N are the input matrix dimensions.\n",
            "To use the future default and silence this warning we advise to pass `rcond=None`, to keep using the old, explicitly pass `rcond=-1`.\n",
            "  slope, intercept = np.linalg.lstsq(\n",
            "C:\\Users\\Evgeniy\\anaconda3\\envs\\boris_env\\lib\\site-packages\\sklearn\\utils\\validation.py:70: FutureWarning: Pass threshold=0.6 as keyword args. From version 1.0 (renaming of 0.25) passing these as positional arguments will result in an error\n",
            "  warnings.warn(f\"Pass {args_msg} as keyword args. From version \"\n",
            "C:\\Users\\Evgeniy\\anaconda3\\envs\\boris_env\\lib\\site-packages\\sklearn\\utils\\validation.py:70: FutureWarning: Pass threshold=0.6 as keyword args. From version 1.0 (renaming of 0.25) passing these as positional arguments will result in an error\n",
            "  warnings.warn(f\"Pass {args_msg} as keyword args. From version \"\n",
            "C:\\Users\\Evgeniy\\anaconda3\\envs\\boris_env\\lib\\site-packages\\sklearn\\utils\\validation.py:70: FutureWarning: Pass threshold=0.6 as keyword args. From version 1.0 (renaming of 0.25) passing these as positional arguments will result in an error\n",
            "  warnings.warn(f\"Pass {args_msg} as keyword args. From version \"\n",
            "C:\\Users\\Evgeniy\\anaconda3\\envs\\boris_env\\lib\\site-packages\\mir_eval\\transcription_velocity.py:185: FutureWarning: `rcond` parameter will change to the default of machine precision times ``max(M, N)`` where M and N are the input matrix dimensions.\n",
            "To use the future default and silence this warning we advise to pass `rcond=None`, to keep using the old, explicitly pass `rcond=-1`.\n",
            "  slope, intercept = np.linalg.lstsq(\n",
            "C:\\Users\\Evgeniy\\anaconda3\\envs\\boris_env\\lib\\site-packages\\sklearn\\utils\\validation.py:70: FutureWarning: Pass threshold=0.7 as keyword args. From version 1.0 (renaming of 0.25) passing these as positional arguments will result in an error\n",
            "  warnings.warn(f\"Pass {args_msg} as keyword args. From version \"\n",
            "C:\\Users\\Evgeniy\\anaconda3\\envs\\boris_env\\lib\\site-packages\\sklearn\\utils\\validation.py:70: FutureWarning: Pass threshold=0.7 as keyword args. From version 1.0 (renaming of 0.25) passing these as positional arguments will result in an error\n",
            "  warnings.warn(f\"Pass {args_msg} as keyword args. From version \"\n",
            "C:\\Users\\Evgeniy\\anaconda3\\envs\\boris_env\\lib\\site-packages\\sklearn\\utils\\validation.py:70: FutureWarning: Pass threshold=0.7 as keyword args. From version 1.0 (renaming of 0.25) passing these as positional arguments will result in an error\n",
            "  warnings.warn(f\"Pass {args_msg} as keyword args. From version \"\n"
          ],
          "name": "stderr"
        },
        {
          "output_type": "stream",
          "text": [
            "C:\\Users\\Evgeniy\\anaconda3\\envs\\boris_env\\lib\\site-packages\\mir_eval\\transcription_velocity.py:185: FutureWarning: `rcond` parameter will change to the default of machine precision times ``max(M, N)`` where M and N are the input matrix dimensions.\n",
            "To use the future default and silence this warning we advise to pass `rcond=None`, to keep using the old, explicitly pass `rcond=-1`.\n",
            "  slope, intercept = np.linalg.lstsq(\n",
            "C:\\Users\\Evgeniy\\anaconda3\\envs\\boris_env\\lib\\site-packages\\sklearn\\utils\\validation.py:70: FutureWarning: Pass threshold=0.8 as keyword args. From version 1.0 (renaming of 0.25) passing these as positional arguments will result in an error\n",
            "  warnings.warn(f\"Pass {args_msg} as keyword args. From version \"\n",
            "C:\\Users\\Evgeniy\\anaconda3\\envs\\boris_env\\lib\\site-packages\\sklearn\\utils\\validation.py:70: FutureWarning: Pass threshold=0.8 as keyword args. From version 1.0 (renaming of 0.25) passing these as positional arguments will result in an error\n",
            "  warnings.warn(f\"Pass {args_msg} as keyword args. From version \"\n",
            "C:\\Users\\Evgeniy\\anaconda3\\envs\\boris_env\\lib\\site-packages\\sklearn\\utils\\validation.py:70: FutureWarning: Pass threshold=0.8 as keyword args. From version 1.0 (renaming of 0.25) passing these as positional arguments will result in an error\n",
            "  warnings.warn(f\"Pass {args_msg} as keyword args. From version \"\n",
            "C:\\Users\\Evgeniy\\anaconda3\\envs\\boris_env\\lib\\site-packages\\mir_eval\\transcription_velocity.py:185: FutureWarning: `rcond` parameter will change to the default of machine precision times ``max(M, N)`` where M and N are the input matrix dimensions.\n",
            "To use the future default and silence this warning we advise to pass `rcond=None`, to keep using the old, explicitly pass `rcond=-1`.\n",
            "  slope, intercept = np.linalg.lstsq(\n",
            "C:\\Users\\Evgeniy\\anaconda3\\envs\\boris_env\\lib\\site-packages\\sklearn\\utils\\validation.py:70: FutureWarning: Pass threshold=0.9 as keyword args. From version 1.0 (renaming of 0.25) passing these as positional arguments will result in an error\n",
            "  warnings.warn(f\"Pass {args_msg} as keyword args. From version \"\n",
            "C:\\Users\\Evgeniy\\anaconda3\\envs\\boris_env\\lib\\site-packages\\sklearn\\utils\\validation.py:70: FutureWarning: Pass threshold=0.9 as keyword args. From version 1.0 (renaming of 0.25) passing these as positional arguments will result in an error\n",
            "  warnings.warn(f\"Pass {args_msg} as keyword args. From version \"\n",
            "C:\\Users\\Evgeniy\\anaconda3\\envs\\boris_env\\lib\\site-packages\\sklearn\\utils\\validation.py:70: FutureWarning: Pass threshold=0.9 as keyword args. From version 1.0 (renaming of 0.25) passing these as positional arguments will result in an error\n",
            "  warnings.warn(f\"Pass {args_msg} as keyword args. From version \"\n",
            "C:\\Users\\Evgeniy\\anaconda3\\envs\\boris_env\\lib\\site-packages\\mir_eval\\transcription_velocity.py:185: FutureWarning: `rcond` parameter will change to the default of machine precision times ``max(M, N)`` where M and N are the input matrix dimensions.\n",
            "To use the future default and silence this warning we advise to pass `rcond=None`, to keep using the old, explicitly pass `rcond=-1`.\n",
            "  slope, intercept = np.linalg.lstsq(\n",
            "C:\\Users\\Evgeniy\\anaconda3\\envs\\boris_env\\lib\\site-packages\\sklearn\\utils\\validation.py:70: FutureWarning: Pass threshold=1.0 as keyword args. From version 1.0 (renaming of 0.25) passing these as positional arguments will result in an error\n",
            "  warnings.warn(f\"Pass {args_msg} as keyword args. From version \"\n",
            "C:\\Users\\Evgeniy\\anaconda3\\envs\\boris_env\\lib\\site-packages\\sklearn\\utils\\validation.py:70: FutureWarning: Pass threshold=1.0 as keyword args. From version 1.0 (renaming of 0.25) passing these as positional arguments will result in an error\n",
            "  warnings.warn(f\"Pass {args_msg} as keyword args. From version \"\n",
            "C:\\Users\\Evgeniy\\anaconda3\\envs\\boris_env\\lib\\site-packages\\sklearn\\utils\\validation.py:70: FutureWarning: Pass threshold=1.0 as keyword args. From version 1.0 (renaming of 0.25) passing these as positional arguments will result in an error\n",
            "  warnings.warn(f\"Pass {args_msg} as keyword args. From version \"\n",
            "C:\\Users\\Evgeniy\\anaconda3\\envs\\boris_env\\lib\\site-packages\\mir_eval\\transcription.py:167: UserWarning: Estimated notes are empty.\n",
            "  warnings.warn(\"Estimated notes are empty.\")\n"
          ],
          "name": "stderr"
        },
        {
          "output_type": "display_data",
          "data": {
            "image/png": "[encoded data removed]",
            "text/plain": [
              "<Figure size 1152x288 with 3 Axes>"
            ]
          },
          "metadata": {
            "tags": [],
            "image/png": {
              "height": 277,
              "width": 930
            },
            "needs_background": "light"
          }
        }
      ]
    },
    {
      "cell_type": "code",
      "metadata": {
        "scrolled": false,
        "id": "BiIZiCNqjTLG",
        "outputId": "7c1df01f-89af-4ab1-8b9c-c4164a250159"
      },
      "source": [
        "yPresize, yDefault = map(lambda t: binarize(onProb2014, t).astype(int), [thBest, .5])\n",
        "counts = [onTrue2014.sum(1), yDefault.sum(1), yPresize.sum(1)]\n",
        "maxCount = int(np.max(counts))\n",
        "\n",
        "plt.figure(figsize=(16, 8))\n",
        "plt.hist(counts, maxCount, rwidth=.9, log=True, label=['True distribution',\n",
        "    'Threshold = 0.5, Overlap accuracy = {:.2%} (default)'.format(        VolumesF1(\n",
        "          yDefault, binarize(offProb2014, .5),     binarize(actProb2014, .5))),\n",
        "      'Threshold = {}, Overlap accuracy = {:.2%} (best)'  .format(thBest, VolumesF1(\n",
        "          yPresize, binarize(offProb2014, thBest), binarize(actProb2014, thBest)))])\n",
        "\n",
        "plt.title('Predicted chord sizes (too many notes in a chord up to 88 - is significant error)')\n",
        "plt.xlim(0)\n",
        "plt.xticks(range(maxCount + 1))\n",
        "plt.grid(axis='x')\n",
        "plt.legend();"
      ],
      "execution_count": null,
      "outputs": [
        {
          "output_type": "stream",
          "text": [
            "C:\\Users\\Evgeniy\\anaconda3\\envs\\boris_env\\lib\\site-packages\\sklearn\\utils\\validation.py:70: FutureWarning: Pass threshold=0.4 as keyword args. From version 1.0 (renaming of 0.25) passing these as positional arguments will result in an error\n",
            "  warnings.warn(f\"Pass {args_msg} as keyword args. From version \"\n",
            "C:\\Users\\Evgeniy\\anaconda3\\envs\\boris_env\\lib\\site-packages\\sklearn\\utils\\validation.py:70: FutureWarning: Pass threshold=0.5 as keyword args. From version 1.0 (renaming of 0.25) passing these as positional arguments will result in an error\n",
            "  warnings.warn(f\"Pass {args_msg} as keyword args. From version \"\n",
            "C:\\Users\\Evgeniy\\anaconda3\\envs\\boris_env\\lib\\site-packages\\sklearn\\utils\\validation.py:70: FutureWarning: Pass threshold=0.5 as keyword args. From version 1.0 (renaming of 0.25) passing these as positional arguments will result in an error\n",
            "  warnings.warn(f\"Pass {args_msg} as keyword args. From version \"\n",
            "C:\\Users\\Evgeniy\\anaconda3\\envs\\boris_env\\lib\\site-packages\\sklearn\\utils\\validation.py:70: FutureWarning: Pass threshold=0.5 as keyword args. From version 1.0 (renaming of 0.25) passing these as positional arguments will result in an error\n",
            "  warnings.warn(f\"Pass {args_msg} as keyword args. From version \"\n",
            "C:\\Users\\Evgeniy\\anaconda3\\envs\\boris_env\\lib\\site-packages\\mir_eval\\transcription_velocity.py:185: FutureWarning: `rcond` parameter will change to the default of machine precision times ``max(M, N)`` where M and N are the input matrix dimensions.\n",
            "To use the future default and silence this warning we advise to pass `rcond=None`, to keep using the old, explicitly pass `rcond=-1`.\n",
            "  slope, intercept = np.linalg.lstsq(\n",
            "C:\\Users\\Evgeniy\\anaconda3\\envs\\boris_env\\lib\\site-packages\\sklearn\\utils\\validation.py:70: FutureWarning: Pass threshold=0.4 as keyword args. From version 1.0 (renaming of 0.25) passing these as positional arguments will result in an error\n",
            "  warnings.warn(f\"Pass {args_msg} as keyword args. From version \"\n",
            "C:\\Users\\Evgeniy\\anaconda3\\envs\\boris_env\\lib\\site-packages\\sklearn\\utils\\validation.py:70: FutureWarning: Pass threshold=0.4 as keyword args. From version 1.0 (renaming of 0.25) passing these as positional arguments will result in an error\n",
            "  warnings.warn(f\"Pass {args_msg} as keyword args. From version \"\n",
            "C:\\Users\\Evgeniy\\anaconda3\\envs\\boris_env\\lib\\site-packages\\mir_eval\\transcription_velocity.py:185: FutureWarning: `rcond` parameter will change to the default of machine precision times ``max(M, N)`` where M and N are the input matrix dimensions.\n",
            "To use the future default and silence this warning we advise to pass `rcond=None`, to keep using the old, explicitly pass `rcond=-1`.\n",
            "  slope, intercept = np.linalg.lstsq(\n"
          ],
          "name": "stderr"
        },
        {
          "output_type": "display_data",
          "data": {
            "image/png": "[encoded data removed]",
            "text/plain": [
              "<Figure size 1152x576 with 1 Axes>"
            ]
          },
          "metadata": {
            "tags": [],
            "image/png": {
              "height": 481,
              "width": 932
            },
            "needs_background": "light"
          }
        }
      ]
    },
    {
      "cell_type": "markdown",
      "metadata": {
        "id": "rzBvxw8zjTLH"
      },
      "source": [
        "# Keras model HDF5-file to JSON conversion<br>(without optimizer, for using just forward-pass predictions in C++):\n",
        "https://github.com/Dobiasd/frugally-deep/tree/master/keras_export"
      ]
    },
    {
      "cell_type": "code",
      "metadata": {
        "scrolled": false,
        "id": "biTxaEqqjTLI",
        "outputId": "6747f606-7a2b-44bd-d41c-17d4533ee235"
      },
      "source": [
        "%run convert_model.py   \"Magenta Onsets 67.72.hdf5\"  \"Magenta Onsets.json\"\n",
        "print()\n",
        "%run convert_model.py  \"Magenta Offsets 44.53.hdf5\" \"Magenta Offsets.json\"\n",
        "print()\n",
        "%run convert_model.py    \"Magenta Frame 76.98.hdf5\"  \"Magenta Frames.json\"\n",
        "print()\n",
        "%run convert_model.py \"Magenta Velocity 93.40.hdf5\" \"Magenta Volumes.json\""
      ],
      "execution_count": null,
      "outputs": [
        {
          "output_type": "stream",
          "text": [
            "loading Magenta Onsets 67.72.hdf5\n",
            "WARNING:tensorflow:Layer lstm will not use cuDNN kernel since it doesn't meet the cuDNN kernel criteria. It will use generic GPU kernel as fallback when running on GPU\n",
            "WARNING:tensorflow:Layer lstm will not use cuDNN kernel since it doesn't meet the cuDNN kernel criteria. It will use generic GPU kernel as fallback when running on GPU\n",
            "WARNING:tensorflow:Layer lstm will not use cuDNN kernel since it doesn't meet the cuDNN kernel criteria. It will use generic GPU kernel as fallback when running on GPU\n",
            "WARNING:tensorflow:No training configuration found in the save file, so the model was *not* compiled. Compile it manually.\n",
            "Forward pass took 35.720829 s.\n",
            "Forward pass took 0.508255 s.\n",
            "Forward pass took 0.473182 s.\n",
            "Starting performance measurements.\n",
            "Forward pass took 0.515449 s.\n",
            "Forward pass took 0.453743 s.\n",
            "Forward pass took 0.437429 s.\n",
            "Forward pass took 0.467689 s.\n",
            "Forward pass took 0.480895 s.\n",
            "Forward pass took 0.47104100000000004 s on average.\n",
            "Converting model architecture.\n",
            "Converting model weights.\n",
            "Done converting model weights.\n",
            "Calculating model hash.\n",
            "Model conversion finished.\n",
            "writing Magenta Onsets.json\n",
            "\n",
            "loading Magenta Offsets 44.53.hdf5\n",
            "WARNING:tensorflow:Layer lstm will not use cuDNN kernel since it doesn't meet the cuDNN kernel criteria. It will use generic GPU kernel as fallback when running on GPU\n",
            "WARNING:tensorflow:Layer lstm will not use cuDNN kernel since it doesn't meet the cuDNN kernel criteria. It will use generic GPU kernel as fallback when running on GPU\n",
            "WARNING:tensorflow:Layer lstm will not use cuDNN kernel since it doesn't meet the cuDNN kernel criteria. It will use generic GPU kernel as fallback when running on GPU\n",
            "WARNING:tensorflow:No training configuration found in the save file, so the model was *not* compiled. Compile it manually.\n",
            "Forward pass took 34.224986 s.\n",
            "Forward pass took 0.468311 s.\n",
            "Forward pass took 0.480288 s.\n",
            "Starting performance measurements.\n",
            "Forward pass took 0.464745 s.\n",
            "Forward pass took 0.446169 s.\n",
            "Forward pass took 0.41117 s.\n",
            "Forward pass took 0.443116 s.\n",
            "Forward pass took 0.484776 s.\n",
            "Forward pass took 0.44999520000000004 s on average.\n",
            "Converting model architecture.\n",
            "Converting model weights.\n",
            "Done converting model weights.\n",
            "Calculating model hash.\n",
            "Model conversion finished.\n",
            "writing Magenta Offsets.json\n",
            "\n",
            "loading Magenta Frame 76.98.hdf5\n",
            "WARNING:tensorflow:Layer lstm_1 will not use cuDNN kernel since it doesn't meet the cuDNN kernel criteria. It will use generic GPU kernel as fallback when running on GPU\n",
            "WARNING:tensorflow:Layer lstm_1 will not use cuDNN kernel since it doesn't meet the cuDNN kernel criteria. It will use generic GPU kernel as fallback when running on GPU\n",
            "WARNING:tensorflow:Layer lstm_1 will not use cuDNN kernel since it doesn't meet the cuDNN kernel criteria. It will use generic GPU kernel as fallback when running on GPU\n",
            "WARNING:tensorflow:No training configuration found in the save file, so the model was *not* compiled. Compile it manually.\n",
            "Forward pass took 37.304826 s.\n",
            "Forward pass took 0.419077 s.\n",
            "Forward pass took 0.509366 s.\n",
            "Starting performance measurements.\n",
            "Forward pass took 0.418003 s.\n",
            "Forward pass took 0.444959 s.\n",
            "Forward pass took 0.494941 s.\n",
            "Forward pass took 0.407204 s.\n",
            "Forward pass took 0.458223 s.\n",
            "Forward pass took 0.44466599999999995 s on average.\n",
            "Converting model architecture.\n",
            "Converting model weights.\n",
            "Done converting model weights.\n",
            "Calculating model hash.\n",
            "Model conversion finished.\n",
            "writing Magenta Frames.json\n",
            "\n",
            "loading Magenta Velocity 93.40.hdf5\n",
            "WARNING:tensorflow:No training configuration found in the save file, so the model was *not* compiled. Compile it manually.\n",
            "Forward pass took 0.190459 s.\n",
            "Forward pass took 0.066814 s.\n",
            "Forward pass took 0.057792 s.\n",
            "Starting performance measurements.\n",
            "Forward pass took 0.056848 s.\n",
            "Forward pass took 0.058114 s.\n",
            "Forward pass took 0.061046 s.\n",
            "Forward pass took 0.054856 s.\n",
            "Forward pass took 0.057615 s.\n",
            "Forward pass took 0.057695800000000005 s on average.\n",
            "Converting model architecture.\n",
            "Converting model weights.\n",
            "Done converting model weights.\n",
            "Calculating model hash.\n",
            "Model conversion finished.\n",
            "writing Magenta Volumes.json\n"
          ],
          "name": "stdout"
        }
      ]
    }
  ]
}